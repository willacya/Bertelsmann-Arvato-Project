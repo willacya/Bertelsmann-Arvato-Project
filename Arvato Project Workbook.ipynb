{
 "cells": [
  {
   "cell_type": "markdown",
   "metadata": {},
   "source": [
    "# Capstone Project: Create a Customer Segmentation Report for Arvato Financial Services\n",
    "\n",
    "In this project, you will analyze demographics data for customers of a mail-order sales company in Germany, comparing it against demographics information for the general population. You'll use unsupervised learning techniques to perform customer segmentation, identifying the parts of the population that best describe the core customer base of the company. Then, you'll apply what you've learned on a third dataset with demographics information for targets of a marketing campaign for the company, and use a model to predict which individuals are most likely to convert into becoming customers for the company. The data that you will use has been provided by our partners at Bertelsmann Arvato Analytics, and represents a real-life data science task.\n",
    "\n",
    "If you completed the first term of this program, you will be familiar with the first part of this project, from the unsupervised learning project. The versions of those two datasets used in this project will include many more features and has not been pre-cleaned. You are also free to choose whatever approach you'd like to analyzing the data rather than follow pre-determined steps. In your work on this project, make sure that you carefully document your steps and decisions, since your main deliverable for this project will be a blog post reporting your findings."
   ]
  },
  {
   "cell_type": "code",
   "execution_count": 1,
   "metadata": {},
   "outputs": [],
   "source": [
    "# import libraries here; add more as necessary\n",
    "import numpy as np\n",
    "import pandas as pd\n",
    "import matplotlib.pyplot as plt\n",
    "import seaborn as sns\n",
    "import time\n",
    "\n",
    "# magic word for producing visualizations in notebook\n",
    "%matplotlib inline"
   ]
  },
  {
   "cell_type": "markdown",
   "metadata": {},
   "source": [
    "## Part 0: Get to Know the Data\n",
    "\n",
    "There are four data files associated with this project:\n",
    "\n",
    "- `Udacity_AZDIAS_052018.csv`: Demographics data for the general population of Germany; 891 211 persons (rows) x 366 features (columns).\n",
    "- `Udacity_CUSTOMERS_052018.csv`: Demographics data for customers of a mail-order company; 191 652 persons (rows) x 369 features (columns).\n",
    "- `Udacity_MAILOUT_052018_TRAIN.csv`: Demographics data for individuals who were targets of a marketing campaign; 42 982 persons (rows) x 367 (columns).\n",
    "- `Udacity_MAILOUT_052018_TEST.csv`: Demographics data for individuals who were targets of a marketing campaign; 42 833 persons (rows) x 366 (columns).\n",
    "\n",
    "Each row of the demographics files represents a single person, but also includes information outside of individuals, including information about their household, building, and neighborhood. Use the information from the first two files to figure out how customers (\"CUSTOMERS\") are similar to or differ from the general population at large (\"AZDIAS\"), then use your analysis to make predictions on the other two files (\"MAILOUT\"), predicting which recipients are most likely to become a customer for the mail-order company.\n",
    "\n",
    "The \"CUSTOMERS\" file contains three extra columns ('CUSTOMER_GROUP', 'ONLINE_PURCHASE', and 'PRODUCT_GROUP'), which provide broad information about the customers depicted in the file. The original \"MAILOUT\" file included one additional column, \"RESPONSE\", which indicated whether or not each recipient became a customer of the company. For the \"TRAIN\" subset, this column has been retained, but in the \"TEST\" subset it has been removed; it is against that withheld column that your final predictions will be assessed in the Kaggle competition.\n",
    "\n",
    "Otherwise, all of the remaining columns are the same between the three data files. For more information about the columns depicted in the files, you can refer to two Excel spreadsheets provided in the workspace. [One of them](./DIAS Information Levels - Attributes 2017.xlsx) is a top-level list of attributes and descriptions, organized by informational category. [The other](./DIAS Attributes - Values 2017.xlsx) is a detailed mapping of data values for each feature in alphabetical order.\n",
    "\n",
    "In the below cell, we've provided some initial code to load in the first two datasets. Note for all of the `.csv` data files in this project that they're semicolon (`;`) delimited, so an additional argument in the [`read_csv()`](https://pandas.pydata.org/pandas-docs/stable/generated/pandas.read_csv.html) call has been included to read in the data properly. Also, considering the size of the datasets, it may take some time for them to load completely.\n",
    "\n",
    "You'll notice when the data is loaded in that a warning message will immediately pop up. Before you really start digging into the modeling and analysis, you're going to need to perform some cleaning. Take some time to browse the structure of the data and look over the informational spreadsheets to understand the data values. Make some decisions on which features to keep, which features to drop, and if any revisions need to be made on data formats. It'll be a good idea to create a function with pre-processing steps, since you'll need to clean all of the datasets before you work with them."
   ]
  },
  {
   "cell_type": "code",
   "execution_count": 46,
   "metadata": {},
   "outputs": [
    {
     "name": "stderr",
     "output_type": "stream",
     "text": [
      "<string>:2: DtypeWarning: Columns (18,19) have mixed types. Specify dtype option on import or set low_memory=False.\n"
     ]
    },
    {
     "name": "stdout",
     "output_type": "stream",
     "text": [
      "CPU times: user 43.6 s, sys: 20.6 s, total: 1min 4s\n",
      "Wall time: 14min 2s\n"
     ]
    }
   ],
   "source": [
    "%%time\n",
    "# load in the data\n",
    "azdias = pd.read_csv('../../data/Term2/capstone/arvato_data/Udacity_AZDIAS_052018.csv', sep=';')"
   ]
  },
  {
   "cell_type": "code",
   "execution_count": null,
   "metadata": {},
   "outputs": [],
   "source": [
    "azdias.iloc[:,[18,19]].columns"
   ]
  },
  {
   "cell_type": "code",
   "execution_count": 47,
   "metadata": {},
   "outputs": [
    {
     "name": "stderr",
     "output_type": "stream",
     "text": [
      "/opt/conda/lib/python3.6/site-packages/IPython/core/interactiveshell.py:2785: DtypeWarning: Columns (18,19) have mixed types. Specify dtype option on import or set low_memory=False.\n",
      "  interactivity=interactivity, compiler=compiler, result=result)\n"
     ]
    }
   ],
   "source": [
    "customers = pd.read_csv('../../data/Term2/capstone/arvato_data/Udacity_CUSTOMERS_052018.csv', sep=';')"
   ]
  },
  {
   "cell_type": "code",
   "execution_count": null,
   "metadata": {},
   "outputs": [],
   "source": [
    "customers.iloc[:,[18,19]].columns"
   ]
  },
  {
   "cell_type": "code",
   "execution_count": 2,
   "metadata": {},
   "outputs": [],
   "source": [
    "attr_values = pd.read_excel(\"DIAS Attributes - Values 2017.xlsx\")\n",
    "attribute_desc = pd.read_excel(\"DIAS Information Levels - Attributes 2017.xlsx\")"
   ]
  },
  {
   "cell_type": "markdown",
   "metadata": {},
   "source": [
    "### Exploratory Analysis\n",
    "\n",
    "It appears columns 18, and 19 have mixed data types which we will look into if they are not initially dropped due to also having a lack of data."
   ]
  },
  {
   "cell_type": "code",
   "execution_count": 72,
   "metadata": {},
   "outputs": [
    {
     "name": "stdout",
     "output_type": "stream",
     "text": [
      "Azdias Number of Rows: 891221\n",
      "Azdias Number of Columns: 366\n",
      "Customers Number of Rows: 191652\n",
      "Customers Number of Columns: 369\n"
     ]
    }
   ],
   "source": [
    "print(f'Azdias Number of Rows: {azdias.shape[0]}')\n",
    "print(f'Azdias Number of Columns: {azdias.shape[1]}')\n",
    "print(f'Customers Number of Rows: {customers.shape[0]}')\n",
    "print(f'Customers Number of Columns: {customers.shape[1]}')"
   ]
  },
  {
   "cell_type": "code",
   "execution_count": 76,
   "metadata": {},
   "outputs": [
    {
     "name": "stdout",
     "output_type": "stream",
     "text": [
      "Size of Customer df compared to Azdias: 21%\n"
     ]
    }
   ],
   "source": [
    "print(f'Size of Customer df compared to Azdias: {int(customers.size/azdias.size*100)}%')"
   ]
  },
  {
   "cell_type": "code",
   "execution_count": 79,
   "metadata": {},
   "outputs": [
    {
     "data": {
      "text/html": [
       "<div>\n",
       "<style scoped>\n",
       "    .dataframe tbody tr th:only-of-type {\n",
       "        vertical-align: middle;\n",
       "    }\n",
       "\n",
       "    .dataframe tbody tr th {\n",
       "        vertical-align: top;\n",
       "    }\n",
       "\n",
       "    .dataframe thead th {\n",
       "        text-align: right;\n",
       "    }\n",
       "</style>\n",
       "<table border=\"1\" class=\"dataframe\">\n",
       "  <thead>\n",
       "    <tr style=\"text-align: right;\">\n",
       "      <th></th>\n",
       "      <th>LNR</th>\n",
       "      <th>AGER_TYP</th>\n",
       "      <th>AKT_DAT_KL</th>\n",
       "      <th>ALTER_HH</th>\n",
       "      <th>ALTER_KIND1</th>\n",
       "      <th>ALTER_KIND2</th>\n",
       "      <th>ALTER_KIND3</th>\n",
       "      <th>ALTER_KIND4</th>\n",
       "      <th>ALTERSKATEGORIE_FEIN</th>\n",
       "      <th>ANZ_HAUSHALTE_AKTIV</th>\n",
       "      <th>...</th>\n",
       "      <th>VHN</th>\n",
       "      <th>VK_DHT4A</th>\n",
       "      <th>VK_DISTANZ</th>\n",
       "      <th>VK_ZG11</th>\n",
       "      <th>W_KEIT_KIND_HH</th>\n",
       "      <th>WOHNDAUER_2008</th>\n",
       "      <th>WOHNLAGE</th>\n",
       "      <th>ZABEOTYP</th>\n",
       "      <th>ANREDE_KZ</th>\n",
       "      <th>ALTERSKATEGORIE_GROB</th>\n",
       "    </tr>\n",
       "  </thead>\n",
       "  <tbody>\n",
       "    <tr>\n",
       "      <th>0</th>\n",
       "      <td>910215</td>\n",
       "      <td>-1</td>\n",
       "      <td>NaN</td>\n",
       "      <td>NaN</td>\n",
       "      <td>NaN</td>\n",
       "      <td>NaN</td>\n",
       "      <td>NaN</td>\n",
       "      <td>NaN</td>\n",
       "      <td>NaN</td>\n",
       "      <td>NaN</td>\n",
       "      <td>...</td>\n",
       "      <td>NaN</td>\n",
       "      <td>NaN</td>\n",
       "      <td>NaN</td>\n",
       "      <td>NaN</td>\n",
       "      <td>NaN</td>\n",
       "      <td>NaN</td>\n",
       "      <td>NaN</td>\n",
       "      <td>3</td>\n",
       "      <td>1</td>\n",
       "      <td>2</td>\n",
       "    </tr>\n",
       "    <tr>\n",
       "      <th>1</th>\n",
       "      <td>910220</td>\n",
       "      <td>-1</td>\n",
       "      <td>9.0</td>\n",
       "      <td>0.0</td>\n",
       "      <td>NaN</td>\n",
       "      <td>NaN</td>\n",
       "      <td>NaN</td>\n",
       "      <td>NaN</td>\n",
       "      <td>21.0</td>\n",
       "      <td>11.0</td>\n",
       "      <td>...</td>\n",
       "      <td>4.0</td>\n",
       "      <td>8.0</td>\n",
       "      <td>11.0</td>\n",
       "      <td>10.0</td>\n",
       "      <td>3.0</td>\n",
       "      <td>9.0</td>\n",
       "      <td>4.0</td>\n",
       "      <td>5</td>\n",
       "      <td>2</td>\n",
       "      <td>1</td>\n",
       "    </tr>\n",
       "    <tr>\n",
       "      <th>2</th>\n",
       "      <td>910225</td>\n",
       "      <td>-1</td>\n",
       "      <td>9.0</td>\n",
       "      <td>17.0</td>\n",
       "      <td>NaN</td>\n",
       "      <td>NaN</td>\n",
       "      <td>NaN</td>\n",
       "      <td>NaN</td>\n",
       "      <td>17.0</td>\n",
       "      <td>10.0</td>\n",
       "      <td>...</td>\n",
       "      <td>2.0</td>\n",
       "      <td>9.0</td>\n",
       "      <td>9.0</td>\n",
       "      <td>6.0</td>\n",
       "      <td>3.0</td>\n",
       "      <td>9.0</td>\n",
       "      <td>2.0</td>\n",
       "      <td>5</td>\n",
       "      <td>2</td>\n",
       "      <td>3</td>\n",
       "    </tr>\n",
       "    <tr>\n",
       "      <th>3</th>\n",
       "      <td>910226</td>\n",
       "      <td>2</td>\n",
       "      <td>1.0</td>\n",
       "      <td>13.0</td>\n",
       "      <td>NaN</td>\n",
       "      <td>NaN</td>\n",
       "      <td>NaN</td>\n",
       "      <td>NaN</td>\n",
       "      <td>13.0</td>\n",
       "      <td>1.0</td>\n",
       "      <td>...</td>\n",
       "      <td>0.0</td>\n",
       "      <td>7.0</td>\n",
       "      <td>10.0</td>\n",
       "      <td>11.0</td>\n",
       "      <td>NaN</td>\n",
       "      <td>9.0</td>\n",
       "      <td>7.0</td>\n",
       "      <td>3</td>\n",
       "      <td>2</td>\n",
       "      <td>4</td>\n",
       "    </tr>\n",
       "    <tr>\n",
       "      <th>4</th>\n",
       "      <td>910241</td>\n",
       "      <td>-1</td>\n",
       "      <td>1.0</td>\n",
       "      <td>20.0</td>\n",
       "      <td>NaN</td>\n",
       "      <td>NaN</td>\n",
       "      <td>NaN</td>\n",
       "      <td>NaN</td>\n",
       "      <td>14.0</td>\n",
       "      <td>3.0</td>\n",
       "      <td>...</td>\n",
       "      <td>2.0</td>\n",
       "      <td>3.0</td>\n",
       "      <td>5.0</td>\n",
       "      <td>4.0</td>\n",
       "      <td>2.0</td>\n",
       "      <td>9.0</td>\n",
       "      <td>3.0</td>\n",
       "      <td>4</td>\n",
       "      <td>1</td>\n",
       "      <td>3</td>\n",
       "    </tr>\n",
       "  </tbody>\n",
       "</table>\n",
       "<p>5 rows × 366 columns</p>\n",
       "</div>"
      ],
      "text/plain": [
       "      LNR  AGER_TYP  AKT_DAT_KL  ALTER_HH  ALTER_KIND1  ALTER_KIND2  \\\n",
       "0  910215        -1         NaN       NaN          NaN          NaN   \n",
       "1  910220        -1         9.0       0.0          NaN          NaN   \n",
       "2  910225        -1         9.0      17.0          NaN          NaN   \n",
       "3  910226         2         1.0      13.0          NaN          NaN   \n",
       "4  910241        -1         1.0      20.0          NaN          NaN   \n",
       "\n",
       "   ALTER_KIND3  ALTER_KIND4  ALTERSKATEGORIE_FEIN  ANZ_HAUSHALTE_AKTIV  \\\n",
       "0          NaN          NaN                   NaN                  NaN   \n",
       "1          NaN          NaN                  21.0                 11.0   \n",
       "2          NaN          NaN                  17.0                 10.0   \n",
       "3          NaN          NaN                  13.0                  1.0   \n",
       "4          NaN          NaN                  14.0                  3.0   \n",
       "\n",
       "          ...           VHN  VK_DHT4A  VK_DISTANZ  VK_ZG11  W_KEIT_KIND_HH  \\\n",
       "0         ...           NaN       NaN         NaN      NaN             NaN   \n",
       "1         ...           4.0       8.0        11.0     10.0             3.0   \n",
       "2         ...           2.0       9.0         9.0      6.0             3.0   \n",
       "3         ...           0.0       7.0        10.0     11.0             NaN   \n",
       "4         ...           2.0       3.0         5.0      4.0             2.0   \n",
       "\n",
       "   WOHNDAUER_2008  WOHNLAGE ZABEOTYP ANREDE_KZ ALTERSKATEGORIE_GROB  \n",
       "0             NaN       NaN        3         1                    2  \n",
       "1             9.0       4.0        5         2                    1  \n",
       "2             9.0       2.0        5         2                    3  \n",
       "3             9.0       7.0        3         2                    4  \n",
       "4             9.0       3.0        4         1                    3  \n",
       "\n",
       "[5 rows x 366 columns]"
      ]
     },
     "execution_count": 79,
     "metadata": {},
     "output_type": "execute_result"
    }
   ],
   "source": [
    "azdias.head()"
   ]
  },
  {
   "cell_type": "markdown",
   "metadata": {},
   "source": [
    "#### Replacing unknown values to np.nan\n",
    "\n",
    "Looking at the DIAS Attributes excel file we can see Attributes typically have a value they use for any unknowns. This can differ depending on the attribute so we'll need to bind these unknown values to their corrosponding attribute by creating a dict, and then mapping this to the DataFrames, replacing them with np.nan."
   ]
  },
  {
   "cell_type": "code",
   "execution_count": 148,
   "metadata": {},
   "outputs": [
    {
     "data": {
      "text/html": [
       "<div>\n",
       "<style scoped>\n",
       "    .dataframe tbody tr th:only-of-type {\n",
       "        vertical-align: middle;\n",
       "    }\n",
       "\n",
       "    .dataframe tbody tr th {\n",
       "        vertical-align: top;\n",
       "    }\n",
       "\n",
       "    .dataframe thead th {\n",
       "        text-align: right;\n",
       "    }\n",
       "</style>\n",
       "<table border=\"1\" class=\"dataframe\">\n",
       "  <thead>\n",
       "    <tr style=\"text-align: right;\">\n",
       "      <th></th>\n",
       "      <th>Unnamed: 0</th>\n",
       "      <th>Attribute</th>\n",
       "      <th>Description</th>\n",
       "      <th>Value</th>\n",
       "      <th>Meaning</th>\n",
       "    </tr>\n",
       "  </thead>\n",
       "  <tbody>\n",
       "    <tr>\n",
       "      <th>0</th>\n",
       "      <td>NaN</td>\n",
       "      <td>AGER_TYP</td>\n",
       "      <td>best-ager typology</td>\n",
       "      <td>-1</td>\n",
       "      <td>unknown</td>\n",
       "    </tr>\n",
       "    <tr>\n",
       "      <th>1</th>\n",
       "      <td>NaN</td>\n",
       "      <td>NaN</td>\n",
       "      <td>NaN</td>\n",
       "      <td>0</td>\n",
       "      <td>no classification possible</td>\n",
       "    </tr>\n",
       "    <tr>\n",
       "      <th>2</th>\n",
       "      <td>NaN</td>\n",
       "      <td>NaN</td>\n",
       "      <td>NaN</td>\n",
       "      <td>1</td>\n",
       "      <td>passive elderly</td>\n",
       "    </tr>\n",
       "    <tr>\n",
       "      <th>3</th>\n",
       "      <td>NaN</td>\n",
       "      <td>NaN</td>\n",
       "      <td>NaN</td>\n",
       "      <td>2</td>\n",
       "      <td>cultural elderly</td>\n",
       "    </tr>\n",
       "    <tr>\n",
       "      <th>4</th>\n",
       "      <td>NaN</td>\n",
       "      <td>NaN</td>\n",
       "      <td>NaN</td>\n",
       "      <td>3</td>\n",
       "      <td>experience-driven elderly</td>\n",
       "    </tr>\n",
       "    <tr>\n",
       "      <th>5</th>\n",
       "      <td>NaN</td>\n",
       "      <td>ALTERSKATEGORIE_GROB</td>\n",
       "      <td>age classification through prename analysis</td>\n",
       "      <td>-1, 0</td>\n",
       "      <td>unknown</td>\n",
       "    </tr>\n",
       "    <tr>\n",
       "      <th>6</th>\n",
       "      <td>NaN</td>\n",
       "      <td>NaN</td>\n",
       "      <td>NaN</td>\n",
       "      <td>1</td>\n",
       "      <td>&lt; 30 years</td>\n",
       "    </tr>\n",
       "    <tr>\n",
       "      <th>7</th>\n",
       "      <td>NaN</td>\n",
       "      <td>NaN</td>\n",
       "      <td>NaN</td>\n",
       "      <td>2</td>\n",
       "      <td>30 - 45 years</td>\n",
       "    </tr>\n",
       "    <tr>\n",
       "      <th>8</th>\n",
       "      <td>NaN</td>\n",
       "      <td>NaN</td>\n",
       "      <td>NaN</td>\n",
       "      <td>3</td>\n",
       "      <td>46 - 60 years</td>\n",
       "    </tr>\n",
       "    <tr>\n",
       "      <th>9</th>\n",
       "      <td>NaN</td>\n",
       "      <td>NaN</td>\n",
       "      <td>NaN</td>\n",
       "      <td>4</td>\n",
       "      <td>&gt; 60 years</td>\n",
       "    </tr>\n",
       "  </tbody>\n",
       "</table>\n",
       "</div>"
      ],
      "text/plain": [
       "   Unnamed: 0             Attribute  \\\n",
       "0         NaN              AGER_TYP   \n",
       "1         NaN                   NaN   \n",
       "2         NaN                   NaN   \n",
       "3         NaN                   NaN   \n",
       "4         NaN                   NaN   \n",
       "5         NaN  ALTERSKATEGORIE_GROB   \n",
       "6         NaN                   NaN   \n",
       "7         NaN                   NaN   \n",
       "8         NaN                   NaN   \n",
       "9         NaN                   NaN   \n",
       "\n",
       "                                    Description  Value  \\\n",
       "0                            best-ager typology     -1   \n",
       "1                                           NaN      0   \n",
       "2                                           NaN      1   \n",
       "3                                           NaN      2   \n",
       "4                                           NaN      3   \n",
       "5  age classification through prename analysis   -1, 0   \n",
       "6                                           NaN      1   \n",
       "7                                           NaN      2   \n",
       "8                                           NaN      3   \n",
       "9                                           NaN      4   \n",
       "\n",
       "                      Meaning  \n",
       "0                     unknown  \n",
       "1  no classification possible  \n",
       "2             passive elderly  \n",
       "3            cultural elderly  \n",
       "4   experience-driven elderly  \n",
       "5                     unknown  \n",
       "6                  < 30 years  \n",
       "7               30 - 45 years  \n",
       "8               46 - 60 years  \n",
       "9                  > 60 years  "
      ]
     },
     "execution_count": 148,
     "metadata": {},
     "output_type": "execute_result"
    }
   ],
   "source": [
    "attr_values.head(10)"
   ]
  },
  {
   "cell_type": "code",
   "execution_count": 120,
   "metadata": {},
   "outputs": [],
   "source": [
    "def replace_value_with_nans(df):\n",
    "    \"\"\"\n",
    "    Changes values in the dataframe to np.nan, that correspond\n",
    "    to unknown values in the attributes excel file.\n",
    "\n",
    "    Attr (dataframe): Original DataFrame\n",
    "    Returns: Processed DataFrame\n",
    "    \"\"\"\n",
    "\n",
    "    # create a dict with key being attribute names, and value as the value used to\n",
    "    # note unknown values in the data (as a list of strings)\n",
    "    attr = attr_values[['Attribute','Value','Meaning']]\n",
    "    attr = attr.fillna(method='ffill')\n",
    "    attr = attr[attr.Meaning.isin([\"unknown\", \"unknown / no main age detectable\"])]\n",
    "    attr['Value'] = attr['Value'].apply(lambda x: str(x).split(\", \"))\n",
    "    attr['Value'] = attr['Value'].apply(lambda x: [float(i) for i in x])\n",
    "    unknown_key = dict(zip(attr['Attribute'].values, attr['Value'].values))\n",
    "    \n",
    "    # see if column name is in the dict unknown_key and replace values\n",
    "    filtered_df = df\n",
    "    for i in filtered_df.columns:\n",
    "        try:\n",
    "            filtered_df[i] = df[i].apply(lambda x: np.nan if float(x) in unknown_key[i] else x)\n",
    "        except:\n",
    "            pass\n",
    "\n",
    "    return filtered_df"
   ]
  },
  {
   "cell_type": "code",
   "execution_count": 121,
   "metadata": {},
   "outputs": [
    {
     "name": "stdout",
     "output_type": "stream",
     "text": [
      "CPU times: user 2min 22s, sys: 12.7 s, total: 2min 35s\n",
      "Wall time: 5min 5s\n"
     ]
    }
   ],
   "source": [
    "%%time\n",
    "# replace unknown values with np.nan\n",
    "azdias = replace_value_with_nans(azdias)\n",
    "customers = replace_value_with_nans(customers)"
   ]
  },
  {
   "cell_type": "markdown",
   "metadata": {},
   "source": [
    "#### Percent of NaN values\n",
    "\n",
    "We'll now look at the percentage of NaN values across all features to see what we'll decide as the cut-off for which features can be deleted."
   ]
  },
  {
   "cell_type": "code",
   "execution_count": 124,
   "metadata": {},
   "outputs": [
    {
     "name": "stdout",
     "output_type": "stream",
     "text": [
      "CPU times: user 6 µs, sys: 2 µs, total: 8 µs\n",
      "Wall time: 20.7 µs\n"
     ]
    }
   ],
   "source": [
    "def percent_of_nan(df, axis=0):\n",
    "    \"\"\"\n",
    "    Counts the number of columns or rows that are nan\n",
    "    and returns a percentage based on all the rows/cols\n",
    "    \n",
    "    Attr:\n",
    "        df (DataFrame): DataFrame with nan values\n",
    "        axis (int): 0 for columns, 1 for rows\n",
    "    Returns:\n",
    "        percent_nan (Series): list of rows/cols and the percent of nan values\n",
    "    \"\"\"\n",
    "    percent_nan = df.isnull().sum(axis=axis)/df.shape[axis]*100\n",
    "    \n",
    "    return percent_nan"
   ]
  },
  {
   "cell_type": "markdown",
   "metadata": {},
   "source": [
    "#### Columns to drop"
   ]
  },
  {
   "cell_type": "code",
   "execution_count": 125,
   "metadata": {},
   "outputs": [],
   "source": [
    "%%time\n",
    "customers_perc = percent_of_nan(customers)\n",
    "azdias_perc = percent_of_nan(azdias)"
   ]
  },
  {
   "cell_type": "code",
   "execution_count": 127,
   "metadata": {},
   "outputs": [
    {
     "data": {
      "image/png": "[encoded data removed]",
      "text/plain": [
       "<matplotlib.figure.Figure at 0x7ff03935b518>"
      ]
     },
     "metadata": {
      "needs_background": "light"
     },
     "output_type": "display_data"
    }
   ],
   "source": [
    "bins = 20\n",
    "\n",
    "plt.hist(customers_perc, bins, alpha=0.5, label='customers')\n",
    "plt.hist(azdias_perc, bins, alpha=0.5, label='azdias')\n",
    "plt.legend(loc='upper right')\n",
    "plt.title(\"Histogram of NaN values\")\n",
    "plt.xlabel(\"Percent\")\n",
    "plt.ylabel(\"Number of Features\")\n",
    "plt.show()"
   ]
  },
  {
   "cell_type": "markdown",
   "metadata": {},
   "source": [
    "Typically if a feature has between 20-30% nan values then it's best to drop it from the dataset. Interestingly the customers dataset has features with a higher percentage of missing values than the azdias. Since there is over 200 features with between 25-30% nan values, we'll set the limit at 30%. \n",
    "\n",
    "To keep the same features in both datasets we'll extract the column names with less than 30% nan features and then drop them from both datasets."
   ]
  },
  {
   "cell_type": "code",
   "execution_count": 136,
   "metadata": {},
   "outputs": [
    {
     "data": {
      "text/plain": [
       "['AGER_TYP',\n",
       " 'ALTER_HH',\n",
       " 'ALTER_KIND1',\n",
       " 'ALTER_KIND2',\n",
       " 'ALTER_KIND3',\n",
       " 'ALTER_KIND4',\n",
       " 'EXTSEL992',\n",
       " 'KBA05_BAUMAX',\n",
       " 'KK_KUNDENTYP',\n",
       " 'TITEL_KZ']"
      ]
     },
     "execution_count": 136,
     "metadata": {},
     "output_type": "execute_result"
    }
   ],
   "source": [
    "# columns to drop\n",
    "columns_dropped = azdias_perc[azdias_perc > 30].index.tolist()\n",
    "columns_dropped"
   ]
  },
  {
   "cell_type": "code",
   "execution_count": 137,
   "metadata": {},
   "outputs": [],
   "source": [
    "azdias.drop(columns=columns_dropped, inplace=True)\n",
    "customers.drop(columns=columns_dropped, inplace=True)"
   ]
  },
  {
   "cell_type": "code",
   "execution_count": 138,
   "metadata": {},
   "outputs": [
    {
     "name": "stdout",
     "output_type": "stream",
     "text": [
      "Customer features: 359\n",
      "Azdias features: 356\n"
     ]
    }
   ],
   "source": [
    "print(f'Customer features: {customers.shape[1]}')\n",
    "print(f'Azdias features: {azdias.shape[1]}')"
   ]
  },
  {
   "cell_type": "code",
   "execution_count": 140,
   "metadata": {},
   "outputs": [
    {
     "name": "stdout",
     "output_type": "stream",
     "text": [
      "Total columns dropped: 10\n"
     ]
    }
   ],
   "source": [
    "print(f'Total columns dropped: {len(columns_dropped)}')"
   ]
  },
  {
   "cell_type": "markdown",
   "metadata": {},
   "source": [
    "#### Rows to drop"
   ]
  },
  {
   "cell_type": "code",
   "execution_count": 141,
   "metadata": {},
   "outputs": [
    {
     "name": "stdout",
     "output_type": "stream",
     "text": [
      "CPU times: user 9.93 s, sys: 6.58 s, total: 16.5 s\n",
      "Wall time: 5min 15s\n"
     ]
    }
   ],
   "source": [
    "%%time\n",
    "customers_perc_rows = percent_of_nan(customers, 1)\n",
    "azdias_perc_rows = percent_of_nan(azdias, 1)"
   ]
  },
  {
   "cell_type": "code",
   "execution_count": 142,
   "metadata": {},
   "outputs": [
    {
     "data": {
      "image/png": "[encoded data removed]",
      "text/plain": [
       "<matplotlib.figure.Figure at 0x7ff0391705f8>"
      ]
     },
     "metadata": {
      "needs_background": "light"
     },
     "output_type": "display_data"
    }
   ],
   "source": [
    "plt.hist(azdias_perc_rows, bins, alpha=0.5, label='azdias')\n",
    "plt.hist(customers_perc_rows, bins, alpha=0.5, label='customers')\n",
    "plt.legend(loc='upper right')\n",
    "plt.title(\"Histogram of NaN values in each row\")\n",
    "plt.xlabel(\"Percent\")\n",
    "plt.ylabel(\"Number of Rows\")\n",
    "plt.show()"
   ]
  },
  {
   "cell_type": "markdown",
   "metadata": {},
   "source": [
    "Again I think 30% will be a good cut-off for the percent of nan values in each row. It looks like there's a lot of rows that have over 60% of values that are nan. The customers dataframe looks to have a much higher ratio of these."
   ]
  },
  {
   "cell_type": "code",
   "execution_count": 150,
   "metadata": {},
   "outputs": [
    {
     "name": "stdout",
     "output_type": "stream",
     "text": [
      "CPU times: user 5.53 s, sys: 13.2 s, total: 18.8 s\n",
      "Wall time: 9min 23s\n"
     ]
    }
   ],
   "source": [
    "%%time\n",
    "customers = customers.loc[customers_perc_rows[customers_perc_rows <= 30].index, :].copy()\n",
    "azdias = azdias.loc[azdias_perc_rows[azdias_perc_rows <= 30].index, :].copy()"
   ]
  },
  {
   "cell_type": "code",
   "execution_count": 151,
   "metadata": {},
   "outputs": [
    {
     "name": "stdout",
     "output_type": "stream",
     "text": [
      "Azdias Number of Rows: 785420\n",
      "Azdias Number of Columns: 356\n",
      "Customers Number of Rows: 140371\n",
      "Customers Number of Columns: 359\n"
     ]
    }
   ],
   "source": [
    "print(f'Azdias Number of Rows: {azdias.shape[0]}')\n",
    "print(f'Azdias Number of Columns: {azdias.shape[1]}')\n",
    "print(f'Customers Number of Rows: {customers.shape[0]}')\n",
    "print(f'Customers Number of Columns: {customers.shape[1]}')"
   ]
  },
  {
   "cell_type": "markdown",
   "metadata": {},
   "source": [
    "### Processsing Each Feature"
   ]
  },
  {
   "cell_type": "markdown",
   "metadata": {},
   "source": [
    "We can now look at the two columns we were warned about when loading the csv files, since they weren't deleted based on number of nan values"
   ]
  },
  {
   "cell_type": "code",
   "execution_count": 154,
   "metadata": {},
   "outputs": [
    {
     "data": {
      "text/plain": [
       "Index(['8', '9', '6', '4', 8.0, '3', '2', 9.0, '7', 6.0, 4.0, 3.0, 2.0, 7.0,\n",
       "       '5', 5.0, '1', 1.0, 'X'],\n",
       "      dtype='object')"
      ]
     },
     "execution_count": 154,
     "metadata": {},
     "output_type": "execute_result"
    }
   ],
   "source": [
    "azdias['CAMEO_DEUG_2015'].value_counts().index"
   ]
  },
  {
   "cell_type": "markdown",
   "metadata": {},
   "source": [
    "CAMEO_DEUG_2015 has interger, float and string values. We just want numbers 1 through 9 so we'll remove the X values and change all to float"
   ]
  },
  {
   "cell_type": "code",
   "execution_count": 156,
   "metadata": {},
   "outputs": [],
   "source": [
    "def CAMEO_DEUG_2015_processing(df):\n",
    "    \"\"\"\n",
    "    Drops rows with values 'X', changes type to float\n",
    "    \n",
    "    Attr:\n",
    "        df (DataFrame) : DataFrame to be processed\n",
    "        \n",
    "    Returns:\n",
    "        df (DataFrame) : DataFrame with two newly created columns and one orginal dropped.\n",
    "    \"\"\"\n",
    "    \n",
    "    df = df.loc[df['CAMEO_DEUG_2015'] != \"X\"].copy()\n",
    "    df['CAMEO_DEUG_2015'] = df['CAMEO_DEUG_2015'].astype(float)\n",
    "    \n",
    "    return df   "
   ]
  },
  {
   "cell_type": "code",
   "execution_count": 157,
   "metadata": {},
   "outputs": [],
   "source": [
    "customers = CAMEO_DEUG_2015_processing(customers)\n",
    "azdias = CAMEO_DEUG_2015_processing(azdias)"
   ]
  },
  {
   "cell_type": "code",
   "execution_count": 155,
   "metadata": {},
   "outputs": [
    {
     "data": {
      "text/plain": [
       "Index(['51', 51.0, '41', '24', 41.0, 24.0, '14', '43', 14.0, '54', 43.0, '25',\n",
       "       54.0, '22', 25.0, '23', '13', '45', 22.0, '55', '52', 13.0, 45.0, 23.0,\n",
       "       '31', '34', 55.0, '15', 52.0, '44', 31.0, 34.0, '12', 15.0, 44.0, '35',\n",
       "       '32', '33', 12.0, 32.0, 35.0, 33.0, 'XX'],\n",
       "      dtype='object')"
      ]
     },
     "execution_count": 155,
     "metadata": {},
     "output_type": "execute_result"
    }
   ],
   "source": [
    "azdias['CAMEO_INTL_2015'].value_counts().index"
   ]
  },
  {
   "cell_type": "markdown",
   "metadata": {},
   "source": [
    "CAMEO_INTL_2015 doesn't match an Attribute in the excel DIAS Attribute - Values file. There is however a CAMEO_DEUINTL_2015, where the data looks very similar to these values. Instead of simply dropping this feature we'll assume the values match CAMEO_DEUINTL_2015."
   ]
  },
  {
   "cell_type": "code",
   "execution_count": 158,
   "metadata": {},
   "outputs": [],
   "source": [
    "def CAMEO_INTL_2015_processing(df):\n",
    "    \"\"\"\n",
    "    Looks to match CAMEO_DEUINTL_2015 in DIAS Attributes. \n",
    "    splits the column into two by using the first and second digits\n",
    "    to denote the family home type and level of household wealth (affluency)\n",
    "    \n",
    "    Attr:\n",
    "        df (DataFrame) : DataFrame to be processed\n",
    "        \n",
    "    Returns:\n",
    "        df (DataFrame) : DataFrame with two newly created columns and one orginal dropped.\n",
    "    \"\"\"\n",
    "    \n",
    "    df = df.loc[df['CAMEO_INTL_2015'] != \"XX\"].copy()\n",
    "    df['AFFLUENCY'] = df['CAMEO_INTL_2015'].str[:1].astype(float)\n",
    "    df['FAMILY_TYPE'] = df['CAMEO_INTL_2015'].str[1:2].astype(float)\n",
    "    df.drop(columns=['CAMEO_INTL_2015'], inplace=True)\n",
    "    \n",
    "    return df"
   ]
  },
  {
   "cell_type": "code",
   "execution_count": 159,
   "metadata": {},
   "outputs": [],
   "source": [
    "customers = CAMEO_INTL_2015_processing(customers)\n",
    "azdias = CAMEO_INTL_2015_processing(azdias)"
   ]
  },
  {
   "cell_type": "markdown",
   "metadata": {},
   "source": [
    "#### Features not referenced in DIAS Attributes - Values"
   ]
  },
  {
   "cell_type": "code",
   "execution_count": 72,
   "metadata": {},
   "outputs": [
    {
     "name": "stdout",
     "output_type": "stream",
     "text": [
      "CPU times: user 1min 4s, sys: 18.5 s, total: 1min 23s\n",
      "Wall time: 14min\n"
     ]
    }
   ],
   "source": [
    "%%time\n",
    "\n",
    "# CHECKPOINT SAVE/LOAD PROGRESS\n",
    "\n",
    "# SAVE\n",
    "#customers.to_csv(\"customers_dropped_nans.csv\", index=False)\n",
    "#azdias.to_csv(\"azdias_dropped_nans.csv\", index=False)\n",
    "\n",
    "# LOAD\n",
    "azdias = pd.read_csv('azdias_dropped_nans.csv')\n",
    "customers = pd.read_csv('customers_dropped_nans.csv')\n",
    "\n",
    "attr_values = pd.read_excel(\"DIAS Attributes - Values 2017.xlsx\")\n",
    "attribute_desc = pd.read_excel(\"DIAS Information Levels - Attributes 2017.xlsx\")"
   ]
  },
  {
   "cell_type": "code",
   "execution_count": 73,
   "metadata": {},
   "outputs": [],
   "source": [
    "# get a list of all the attributes that are mentioned in the DIAS Attributes Excel file\n",
    "DIAS_attributes = attr_values.Attribute.value_counts().index.tolist()"
   ]
  },
  {
   "cell_type": "code",
   "execution_count": 74,
   "metadata": {},
   "outputs": [],
   "source": [
    "unlabled_attributes = []\n",
    "for column in azdias.columns:\n",
    "    if column not in DIAS_attributes:\n",
    "        unlabled_attributes.append(column)"
   ]
  },
  {
   "cell_type": "code",
   "execution_count": 28,
   "metadata": {},
   "outputs": [],
   "source": [
    "# value_counts doesn't include nan values which is the preferred reason to using unique()\n",
    "attribute_name = []\n",
    "n_unique_values = []\n",
    "unique_values = []\n",
    "\n",
    "for column in azdias.columns:\n",
    "    attribute_name.append(column)\n",
    "    n_unique_values.append(len(azdias[column].value_counts().index))\n",
    "    unique_values.append(azdias[column].value_counts().index.tolist())\n",
    "    \n",
    "attribute_info = pd.DataFrame({'ATTRIBUTE':attribute_name,\n",
    "                              'NUM_VALUES':n_unique_values,\n",
    "                              'VALUES':unique_values})"
   ]
  },
  {
   "cell_type": "markdown",
   "metadata": {},
   "source": [
    "We'll create a DataFrame that holds the number of unique values."
   ]
  },
  {
   "cell_type": "code",
   "execution_count": 76,
   "metadata": {},
   "outputs": [
    {
     "data": {
      "text/html": [
       "<div>\n",
       "<style scoped>\n",
       "    .dataframe tbody tr th:only-of-type {\n",
       "        vertical-align: middle;\n",
       "    }\n",
       "\n",
       "    .dataframe tbody tr th {\n",
       "        vertical-align: top;\n",
       "    }\n",
       "\n",
       "    .dataframe thead th {\n",
       "        text-align: right;\n",
       "    }\n",
       "</style>\n",
       "<table border=\"1\" class=\"dataframe\">\n",
       "  <thead>\n",
       "    <tr style=\"text-align: right;\">\n",
       "      <th></th>\n",
       "      <th>ATTRIBUTE</th>\n",
       "      <th>NUM_VALUES</th>\n",
       "      <th>VALUES</th>\n",
       "    </tr>\n",
       "  </thead>\n",
       "  <tbody>\n",
       "    <tr>\n",
       "      <th>0</th>\n",
       "      <td>LNR</td>\n",
       "      <td>785073</td>\n",
       "      <td>[1050623, 1004864, 986443, 984394, 988488, 100...</td>\n",
       "    </tr>\n",
       "    <tr>\n",
       "      <th>2</th>\n",
       "      <td>ALTERSKATEGORIE_FEIN</td>\n",
       "      <td>26</td>\n",
       "      <td>[15.0, 14.0, 16.0, 18.0, 17.0, 13.0, 12.0, 19....</td>\n",
       "    </tr>\n",
       "    <tr>\n",
       "      <th>3</th>\n",
       "      <td>ANZ_HAUSHALTE_AKTIV</td>\n",
       "      <td>292</td>\n",
       "      <td>[1.0, 2.0, 3.0, 4.0, 5.0, 6.0, 7.0, 8.0, 9.0, ...</td>\n",
       "    </tr>\n",
       "    <tr>\n",
       "      <th>4</th>\n",
       "      <td>ANZ_HH_TITEL</td>\n",
       "      <td>20</td>\n",
       "      <td>[0.0, 1.0, 2.0, 3.0, 4.0, 5.0, 6.0, 8.0, 7.0, ...</td>\n",
       "    </tr>\n",
       "    <tr>\n",
       "      <th>5</th>\n",
       "      <td>ANZ_KINDER</td>\n",
       "      <td>11</td>\n",
       "      <td>[0.0, 1.0, 2.0, 3.0, 4.0, 5.0, 6.0, 7.0, 9.0, ...</td>\n",
       "    </tr>\n",
       "    <tr>\n",
       "      <th>6</th>\n",
       "      <td>ANZ_PERSONEN</td>\n",
       "      <td>29</td>\n",
       "      <td>[1.0, 2.0, 3.0, 4.0, 0.0, 5.0, 6.0, 7.0, 8.0, ...</td>\n",
       "    </tr>\n",
       "    <tr>\n",
       "      <th>7</th>\n",
       "      <td>ANZ_STATISTISCHE_HAUSHALTE</td>\n",
       "      <td>263</td>\n",
       "      <td>[1.0, 2.0, 3.0, 4.0, 5.0, 6.0, 7.0, 8.0, 9.0, ...</td>\n",
       "    </tr>\n",
       "    <tr>\n",
       "      <th>11</th>\n",
       "      <td>CAMEO_DEU_2015</td>\n",
       "      <td>44</td>\n",
       "      <td>[6B, 8A, 4C, 2D, 3C, 7A, 3D, 8B, 4A, 8C, 9D, 9...</td>\n",
       "    </tr>\n",
       "    <tr>\n",
       "      <th>29</th>\n",
       "      <td>D19_BANKEN_ONLINE_QUOTE_12</td>\n",
       "      <td>11</td>\n",
       "      <td>[0.0, 10.0, 5.0, 3.0, 7.0, 8.0, 9.0, 6.0, 2.0,...</td>\n",
       "    </tr>\n",
       "    <tr>\n",
       "      <th>46</th>\n",
       "      <td>D19_GESAMT_ONLINE_QUOTE_12</td>\n",
       "      <td>11</td>\n",
       "      <td>[0.0, 10.0, 5.0, 8.0, 7.0, 9.0, 3.0, 6.0, 2.0,...</td>\n",
       "    </tr>\n",
       "    <tr>\n",
       "      <th>54</th>\n",
       "      <td>D19_LETZTER_KAUF_BRANCHE</td>\n",
       "      <td>35</td>\n",
       "      <td>[D19_UNBEKANNT, D19_VERSICHERUNGEN, D19_SONSTI...</td>\n",
       "    </tr>\n",
       "    <tr>\n",
       "      <th>78</th>\n",
       "      <td>D19_VERSAND_ONLINE_QUOTE_12</td>\n",
       "      <td>11</td>\n",
       "      <td>[0.0, 10.0, 5.0, 8.0, 7.0, 9.0, 3.0, 6.0, 2.0,...</td>\n",
       "    </tr>\n",
       "    <tr>\n",
       "      <th>90</th>\n",
       "      <td>EINGEFUEGT_AM</td>\n",
       "      <td>4461</td>\n",
       "      <td>[1992-02-10 00:00:00, 1992-02-12 00:00:00, 199...</td>\n",
       "    </tr>\n",
       "    <tr>\n",
       "      <th>91</th>\n",
       "      <td>EINGEZOGENAM_HH_JAHR</td>\n",
       "      <td>37</td>\n",
       "      <td>[1994.0, 1997.0, 2004.0, 2015.0, 2014.0, 2001....</td>\n",
       "    </tr>\n",
       "    <tr>\n",
       "      <th>103</th>\n",
       "      <td>GEBURTSJAHR</td>\n",
       "      <td>117</td>\n",
       "      <td>[0, 1967, 1965, 1966, 1970, 1968, 1964, 1963, ...</td>\n",
       "    </tr>\n",
       "    <tr>\n",
       "      <th>105</th>\n",
       "      <td>GFK_URLAUBERTYP</td>\n",
       "      <td>12</td>\n",
       "      <td>[12.0, 10.0, 8.0, 11.0, 5.0, 4.0, 9.0, 3.0, 1....</td>\n",
       "    </tr>\n",
       "    <tr>\n",
       "      <th>183</th>\n",
       "      <td>KBA13_ANZAHL_PKW</td>\n",
       "      <td>1261</td>\n",
       "      <td>[1400.0, 1500.0, 1300.0, 1600.0, 1700.0, 1800....</td>\n",
       "    </tr>\n",
       "    <tr>\n",
       "      <th>295</th>\n",
       "      <td>LP_FAMILIE_FEIN</td>\n",
       "      <td>12</td>\n",
       "      <td>[1.0, 10.0, 2.0, 11.0, 0.0, 8.0, 7.0, 4.0, 5.0...</td>\n",
       "    </tr>\n",
       "    <tr>\n",
       "      <th>297</th>\n",
       "      <td>LP_LEBENSPHASE_FEIN</td>\n",
       "      <td>41</td>\n",
       "      <td>[1.0, 5.0, 0.0, 6.0, 2.0, 8.0, 7.0, 29.0, 13.0...</td>\n",
       "    </tr>\n",
       "    <tr>\n",
       "      <th>298</th>\n",
       "      <td>LP_LEBENSPHASE_GROB</td>\n",
       "      <td>13</td>\n",
       "      <td>[2.0, 1.0, 3.0, 12.0, 4.0, 5.0, 9.0, 0.0, 10.0...</td>\n",
       "    </tr>\n",
       "    <tr>\n",
       "      <th>301</th>\n",
       "      <td>MIN_GEBAEUDEJAHR</td>\n",
       "      <td>29</td>\n",
       "      <td>[1992.0, 1994.0, 1993.0, 1995.0, 1996.0, 1997....</td>\n",
       "    </tr>\n",
       "    <tr>\n",
       "      <th>315</th>\n",
       "      <td>PRAEGENDE_JUGENDJAHRE</td>\n",
       "      <td>15</td>\n",
       "      <td>[14.0, 8.0, 10.0, 5.0, 3.0, 15.0, 11.0, 9.0, 6...</td>\n",
       "    </tr>\n",
       "    <tr>\n",
       "      <th>342</th>\n",
       "      <td>VERDICHTUNGSRAUM</td>\n",
       "      <td>46</td>\n",
       "      <td>[0.0, 1.0, 2.0, 3.0, 4.0, 5.0, 6.0, 7.0, 8.0, ...</td>\n",
       "    </tr>\n",
       "    <tr>\n",
       "      <th>346</th>\n",
       "      <td>VK_DHT4A</td>\n",
       "      <td>11</td>\n",
       "      <td>[10.0, 7.0, 9.0, 8.0, 3.0, 6.0, 2.0, 5.0, 4.0,...</td>\n",
       "    </tr>\n",
       "    <tr>\n",
       "      <th>347</th>\n",
       "      <td>VK_DISTANZ</td>\n",
       "      <td>13</td>\n",
       "      <td>[10.0, 8.0, 9.0, 7.0, 6.0, 11.0, 3.0, 12.0, 1....</td>\n",
       "    </tr>\n",
       "    <tr>\n",
       "      <th>348</th>\n",
       "      <td>VK_ZG11</td>\n",
       "      <td>11</td>\n",
       "      <td>[10.0, 5.0, 6.0, 7.0, 4.0, 8.0, 9.0, 3.0, 2.0,...</td>\n",
       "    </tr>\n",
       "  </tbody>\n",
       "</table>\n",
       "</div>"
      ],
      "text/plain": [
       "                       ATTRIBUTE  NUM_VALUES  \\\n",
       "0                            LNR      785073   \n",
       "2           ALTERSKATEGORIE_FEIN          26   \n",
       "3            ANZ_HAUSHALTE_AKTIV         292   \n",
       "4                   ANZ_HH_TITEL          20   \n",
       "5                     ANZ_KINDER          11   \n",
       "6                   ANZ_PERSONEN          29   \n",
       "7     ANZ_STATISTISCHE_HAUSHALTE         263   \n",
       "11                CAMEO_DEU_2015          44   \n",
       "29    D19_BANKEN_ONLINE_QUOTE_12          11   \n",
       "46    D19_GESAMT_ONLINE_QUOTE_12          11   \n",
       "54      D19_LETZTER_KAUF_BRANCHE          35   \n",
       "78   D19_VERSAND_ONLINE_QUOTE_12          11   \n",
       "90                 EINGEFUEGT_AM        4461   \n",
       "91          EINGEZOGENAM_HH_JAHR          37   \n",
       "103                  GEBURTSJAHR         117   \n",
       "105              GFK_URLAUBERTYP          12   \n",
       "183             KBA13_ANZAHL_PKW        1261   \n",
       "295              LP_FAMILIE_FEIN          12   \n",
       "297          LP_LEBENSPHASE_FEIN          41   \n",
       "298          LP_LEBENSPHASE_GROB          13   \n",
       "301             MIN_GEBAEUDEJAHR          29   \n",
       "315        PRAEGENDE_JUGENDJAHRE          15   \n",
       "342             VERDICHTUNGSRAUM          46   \n",
       "346                     VK_DHT4A          11   \n",
       "347                   VK_DISTANZ          13   \n",
       "348                      VK_ZG11          11   \n",
       "\n",
       "                                                VALUES  \n",
       "0    [1050623, 1004864, 986443, 984394, 988488, 100...  \n",
       "2    [15.0, 14.0, 16.0, 18.0, 17.0, 13.0, 12.0, 19....  \n",
       "3    [1.0, 2.0, 3.0, 4.0, 5.0, 6.0, 7.0, 8.0, 9.0, ...  \n",
       "4    [0.0, 1.0, 2.0, 3.0, 4.0, 5.0, 6.0, 8.0, 7.0, ...  \n",
       "5    [0.0, 1.0, 2.0, 3.0, 4.0, 5.0, 6.0, 7.0, 9.0, ...  \n",
       "6    [1.0, 2.0, 3.0, 4.0, 0.0, 5.0, 6.0, 7.0, 8.0, ...  \n",
       "7    [1.0, 2.0, 3.0, 4.0, 5.0, 6.0, 7.0, 8.0, 9.0, ...  \n",
       "11   [6B, 8A, 4C, 2D, 3C, 7A, 3D, 8B, 4A, 8C, 9D, 9...  \n",
       "29   [0.0, 10.0, 5.0, 3.0, 7.0, 8.0, 9.0, 6.0, 2.0,...  \n",
       "46   [0.0, 10.0, 5.0, 8.0, 7.0, 9.0, 3.0, 6.0, 2.0,...  \n",
       "54   [D19_UNBEKANNT, D19_VERSICHERUNGEN, D19_SONSTI...  \n",
       "78   [0.0, 10.0, 5.0, 8.0, 7.0, 9.0, 3.0, 6.0, 2.0,...  \n",
       "90   [1992-02-10 00:00:00, 1992-02-12 00:00:00, 199...  \n",
       "91   [1994.0, 1997.0, 2004.0, 2015.0, 2014.0, 2001....  \n",
       "103  [0, 1967, 1965, 1966, 1970, 1968, 1964, 1963, ...  \n",
       "105  [12.0, 10.0, 8.0, 11.0, 5.0, 4.0, 9.0, 3.0, 1....  \n",
       "183  [1400.0, 1500.0, 1300.0, 1600.0, 1700.0, 1800....  \n",
       "295  [1.0, 10.0, 2.0, 11.0, 0.0, 8.0, 7.0, 4.0, 5.0...  \n",
       "297  [1.0, 5.0, 0.0, 6.0, 2.0, 8.0, 7.0, 29.0, 13.0...  \n",
       "298  [2.0, 1.0, 3.0, 12.0, 4.0, 5.0, 9.0, 0.0, 10.0...  \n",
       "301  [1992.0, 1994.0, 1993.0, 1995.0, 1996.0, 1997....  \n",
       "315  [14.0, 8.0, 10.0, 5.0, 3.0, 15.0, 11.0, 9.0, 6...  \n",
       "342  [0.0, 1.0, 2.0, 3.0, 4.0, 5.0, 6.0, 7.0, 8.0, ...  \n",
       "346  [10.0, 7.0, 9.0, 8.0, 3.0, 6.0, 2.0, 5.0, 4.0,...  \n",
       "347  [10.0, 8.0, 9.0, 7.0, 6.0, 11.0, 3.0, 12.0, 1....  \n",
       "348  [10.0, 5.0, 6.0, 7.0, 4.0, 8.0, 9.0, 3.0, 2.0,...  "
      ]
     },
     "execution_count": 76,
     "metadata": {},
     "output_type": "execute_result"
    }
   ],
   "source": [
    "attribute_info[attribute_info.NUM_VALUES > 10]"
   ]
  },
  {
   "cell_type": "code",
   "execution_count": 77,
   "metadata": {},
   "outputs": [],
   "source": [
    "def process_cols(df):\n",
    "    \n",
    "    df['ANZ_HH_TITEL'] = df['ANZ_HH_TITEL'].apply(lambda x: 0.0 if x == 0.0 else 1.0)\n",
    "    df['ANZ_PERSONEN'] = df['ANZ_PERSONEN'].apply(lambda x: 4 if x > 3 else x)\n",
    "    df['EINGEFUEGT_AM'] = pd.to_datetime(df['EINGEFUEGT_AM'])\n",
    "    df['EINGEZOGENAM_HH_JAHR'] = df['EINGEZOGENAM_HH_JAHR'].astype(int)\n",
    "    df['GEBURTSJAHR'] = df['GEBURTSJAHR'].astype(int) # date of birth\n",
    "    df['KBA13_ANZAHL_PKW'] = df['KBA13_ANZAHL_PKW'].astype(int) # cars in the area\n",
    "    df['MIN_GEBAEUDEJAHR'] = df['MIN_GEBAEUDEJAHR'].astype(int) # year building mentioned in db\n",
    "    \n",
    "    return df"
   ]
  },
  {
   "cell_type": "code",
   "execution_count": 78,
   "metadata": {},
   "outputs": [],
   "source": [
    "customers = process_cols(customers)\n",
    "azdias = process_cols(azdias)"
   ]
  },
  {
   "cell_type": "code",
   "execution_count": 79,
   "metadata": {},
   "outputs": [
    {
     "data": {
      "text/plain": [
       "Index(['ALTERSKATEGORIE_FEIN', 'ANZ_HAUSHALTE_AKTIV', 'ANZ_HH_TITEL',\n",
       "       'ANZ_KINDER', 'ANZ_PERSONEN', 'ANZ_STATISTISCHE_HAUSHALTE',\n",
       "       'D19_BANKEN_ONLINE_QUOTE_12', 'D19_GESAMT_ONLINE_QUOTE_12',\n",
       "       'D19_VERSAND_ONLINE_QUOTE_12', 'GFK_URLAUBERTYP', 'LP_FAMILIE_FEIN',\n",
       "       'LP_LEBENSPHASE_FEIN', 'LP_LEBENSPHASE_GROB', 'PRAEGENDE_JUGENDJAHRE',\n",
       "       'VERDICHTUNGSRAUM', 'VK_DHT4A', 'VK_DISTANZ', 'VK_ZG11'],\n",
       "      dtype='object')"
      ]
     },
     "execution_count": 79,
     "metadata": {},
     "output_type": "execute_result"
    }
   ],
   "source": [
    "attribute_types = azdias[attribute_info[attribute_info.NUM_VALUES > 10]['ATTRIBUTE'].values].dtypes\n",
    "cols_to_drop = attribute_types[attribute_types == 'float64'].index\n",
    "cols_to_drop"
   ]
  },
  {
   "cell_type": "code",
   "execution_count": 80,
   "metadata": {},
   "outputs": [],
   "source": [
    "azdias.drop(columns=cols_to_drop, inplace=True)\n",
    "customers.drop(columns=cols_to_drop, inplace=True)"
   ]
  },
  {
   "cell_type": "code",
   "execution_count": 81,
   "metadata": {},
   "outputs": [],
   "source": [
    "azdias.drop(columns=['LNR'], inplace=True)\n",
    "customers.drop(columns=['LNR'], inplace=True)"
   ]
  },
  {
   "cell_type": "code",
   "execution_count": 82,
   "metadata": {},
   "outputs": [],
   "source": [
    "# percent of nan values\n",
    "customers_nan_percent = customers.isna().mean().round(4).sort_values()*100\n",
    "azdias_nan_percent = azdias.isna().mean().round(4).sort_values()*100"
   ]
  },
  {
   "cell_type": "code",
   "execution_count": 83,
   "metadata": {},
   "outputs": [
    {
     "data": {
      "image/png": "[encoded data removed]",
      "text/plain": [
       "<matplotlib.figure.Figure at 0x7f50d9c0e9e8>"
      ]
     },
     "metadata": {
      "needs_background": "light"
     },
     "output_type": "display_data"
    }
   ],
   "source": [
    "plt.hist(azdias_nan_percent, alpha=0.5, label='azdias')\n",
    "plt.hist(customers_nan_percent, alpha=0.5, label='customers')\n",
    "plt.legend(loc='upper right')\n",
    "plt.title(\"Histogram of NaN values in each Attribute\")\n",
    "plt.xlabel(\"Percent\")\n",
    "plt.ylabel(\"Number of Attributes\")\n",
    "plt.show()"
   ]
  },
  {
   "cell_type": "markdown",
   "metadata": {},
   "source": [
    "Most attributes have less than 10% values that are nan."
   ]
  },
  {
   "cell_type": "code",
   "execution_count": 84,
   "metadata": {},
   "outputs": [],
   "source": [
    "customers.drop(columns=['CAMEO_DEU_2015'], inplace=True)\n",
    "azdias.drop(columns=['CAMEO_DEU_2015'], inplace=True)\n",
    "\n",
    "customers.drop(columns=['D19_LETZTER_KAUF_BRANCHE'], inplace=True)\n",
    "azdias.drop(columns=['D19_LETZTER_KAUF_BRANCHE'], inplace=True)"
   ]
  },
  {
   "cell_type": "code",
   "execution_count": 3,
   "metadata": {},
   "outputs": [],
   "source": [
    "attribute = []\n",
    "data_type = []\n",
    "for column in customers.columns:\n",
    "    attribute.append(column)\n",
    "    data_type.append(customers[column].dtype)"
   ]
  },
  {
   "cell_type": "code",
   "execution_count": 4,
   "metadata": {},
   "outputs": [
    {
     "data": {
      "text/html": [
       "<div>\n",
       "<style scoped>\n",
       "    .dataframe tbody tr th:only-of-type {\n",
       "        vertical-align: middle;\n",
       "    }\n",
       "\n",
       "    .dataframe tbody tr th {\n",
       "        vertical-align: top;\n",
       "    }\n",
       "\n",
       "    .dataframe thead th {\n",
       "        text-align: right;\n",
       "    }\n",
       "</style>\n",
       "<table border=\"1\" class=\"dataframe\">\n",
       "  <thead>\n",
       "    <tr style=\"text-align: right;\">\n",
       "      <th></th>\n",
       "      <th>Attr</th>\n",
       "      <th>dtype</th>\n",
       "    </tr>\n",
       "  </thead>\n",
       "  <tbody>\n",
       "    <tr>\n",
       "      <th>0</th>\n",
       "      <td>AKT_DAT_KL</td>\n",
       "      <td>float64</td>\n",
       "    </tr>\n",
       "    <tr>\n",
       "      <th>1</th>\n",
       "      <td>ANZ_TITEL</td>\n",
       "      <td>float64</td>\n",
       "    </tr>\n",
       "    <tr>\n",
       "      <th>2</th>\n",
       "      <td>ARBEIT</td>\n",
       "      <td>float64</td>\n",
       "    </tr>\n",
       "    <tr>\n",
       "      <th>3</th>\n",
       "      <td>BALLRAUM</td>\n",
       "      <td>float64</td>\n",
       "    </tr>\n",
       "    <tr>\n",
       "      <th>4</th>\n",
       "      <td>CAMEO_DEUG_2015</td>\n",
       "      <td>float64</td>\n",
       "    </tr>\n",
       "  </tbody>\n",
       "</table>\n",
       "</div>"
      ],
      "text/plain": [
       "              Attr    dtype\n",
       "0       AKT_DAT_KL  float64\n",
       "1        ANZ_TITEL  float64\n",
       "2           ARBEIT  float64\n",
       "3         BALLRAUM  float64\n",
       "4  CAMEO_DEUG_2015  float64"
      ]
     },
     "execution_count": 4,
     "metadata": {},
     "output_type": "execute_result"
    }
   ],
   "source": [
    "attr_types = pd.DataFrame({'Attr':attribute,\n",
    "                           'dtype':data_type})\n",
    "attr_types.head()"
   ]
  },
  {
   "cell_type": "code",
   "execution_count": 5,
   "metadata": {},
   "outputs": [
    {
     "data": {
      "text/plain": [
       "float64    245\n",
       "int64       90\n",
       "object       4\n",
       "Name: dtype, dtype: int64"
      ]
     },
     "execution_count": 5,
     "metadata": {},
     "output_type": "execute_result"
    }
   ],
   "source": [
    "attr_types.dtype.value_counts()"
   ]
  },
  {
   "cell_type": "code",
   "execution_count": 95,
   "metadata": {},
   "outputs": [
    {
     "data": {
      "text/html": [
       "<div>\n",
       "<style scoped>\n",
       "    .dataframe tbody tr th:only-of-type {\n",
       "        vertical-align: middle;\n",
       "    }\n",
       "\n",
       "    .dataframe tbody tr th {\n",
       "        vertical-align: top;\n",
       "    }\n",
       "\n",
       "    .dataframe thead th {\n",
       "        text-align: right;\n",
       "    }\n",
       "</style>\n",
       "<table border=\"1\" class=\"dataframe\">\n",
       "  <thead>\n",
       "    <tr style=\"text-align: right;\">\n",
       "      <th></th>\n",
       "      <th>D19_BANKEN_ANZ_12</th>\n",
       "      <th>D19_BANKEN_ANZ_24</th>\n",
       "      <th>D19_BANKEN_DATUM</th>\n",
       "      <th>D19_BANKEN_DIREKT</th>\n",
       "      <th>D19_BANKEN_GROSS</th>\n",
       "      <th>D19_BANKEN_LOKAL</th>\n",
       "      <th>D19_BANKEN_OFFLINE_DATUM</th>\n",
       "      <th>D19_BANKEN_ONLINE_DATUM</th>\n",
       "      <th>D19_BANKEN_REST</th>\n",
       "      <th>D19_BEKLEIDUNG_GEH</th>\n",
       "      <th>...</th>\n",
       "      <th>SEMIO_PFLICHT</th>\n",
       "      <th>SEMIO_RAT</th>\n",
       "      <th>SEMIO_REL</th>\n",
       "      <th>SEMIO_SOZ</th>\n",
       "      <th>SEMIO_TRADV</th>\n",
       "      <th>SEMIO_VERT</th>\n",
       "      <th>ZABEOTYP</th>\n",
       "      <th>ONLINE_PURCHASE</th>\n",
       "      <th>ANREDE_KZ</th>\n",
       "      <th>ALTERSKATEGORIE_GROB</th>\n",
       "    </tr>\n",
       "  </thead>\n",
       "  <tbody>\n",
       "    <tr>\n",
       "      <th>0</th>\n",
       "      <td>0</td>\n",
       "      <td>0</td>\n",
       "      <td>10</td>\n",
       "      <td>0</td>\n",
       "      <td>0</td>\n",
       "      <td>0</td>\n",
       "      <td>10</td>\n",
       "      <td>10</td>\n",
       "      <td>0</td>\n",
       "      <td>0</td>\n",
       "      <td>...</td>\n",
       "      <td>2</td>\n",
       "      <td>1</td>\n",
       "      <td>2</td>\n",
       "      <td>6</td>\n",
       "      <td>1</td>\n",
       "      <td>6</td>\n",
       "      <td>3</td>\n",
       "      <td>0</td>\n",
       "      <td>1</td>\n",
       "      <td>4</td>\n",
       "    </tr>\n",
       "    <tr>\n",
       "      <th>1</th>\n",
       "      <td>0</td>\n",
       "      <td>0</td>\n",
       "      <td>10</td>\n",
       "      <td>0</td>\n",
       "      <td>0</td>\n",
       "      <td>0</td>\n",
       "      <td>10</td>\n",
       "      <td>10</td>\n",
       "      <td>0</td>\n",
       "      <td>0</td>\n",
       "      <td>...</td>\n",
       "      <td>4</td>\n",
       "      <td>2</td>\n",
       "      <td>1</td>\n",
       "      <td>2</td>\n",
       "      <td>1</td>\n",
       "      <td>3</td>\n",
       "      <td>3</td>\n",
       "      <td>0</td>\n",
       "      <td>2</td>\n",
       "      <td>4</td>\n",
       "    </tr>\n",
       "    <tr>\n",
       "      <th>2</th>\n",
       "      <td>0</td>\n",
       "      <td>0</td>\n",
       "      <td>10</td>\n",
       "      <td>0</td>\n",
       "      <td>0</td>\n",
       "      <td>0</td>\n",
       "      <td>10</td>\n",
       "      <td>10</td>\n",
       "      <td>0</td>\n",
       "      <td>0</td>\n",
       "      <td>...</td>\n",
       "      <td>3</td>\n",
       "      <td>3</td>\n",
       "      <td>3</td>\n",
       "      <td>6</td>\n",
       "      <td>4</td>\n",
       "      <td>7</td>\n",
       "      <td>1</td>\n",
       "      <td>0</td>\n",
       "      <td>1</td>\n",
       "      <td>4</td>\n",
       "    </tr>\n",
       "    <tr>\n",
       "      <th>3</th>\n",
       "      <td>1</td>\n",
       "      <td>2</td>\n",
       "      <td>3</td>\n",
       "      <td>5</td>\n",
       "      <td>0</td>\n",
       "      <td>3</td>\n",
       "      <td>10</td>\n",
       "      <td>7</td>\n",
       "      <td>0</td>\n",
       "      <td>0</td>\n",
       "      <td>...</td>\n",
       "      <td>5</td>\n",
       "      <td>5</td>\n",
       "      <td>4</td>\n",
       "      <td>4</td>\n",
       "      <td>4</td>\n",
       "      <td>5</td>\n",
       "      <td>1</td>\n",
       "      <td>0</td>\n",
       "      <td>1</td>\n",
       "      <td>3</td>\n",
       "    </tr>\n",
       "    <tr>\n",
       "      <th>4</th>\n",
       "      <td>0</td>\n",
       "      <td>0</td>\n",
       "      <td>10</td>\n",
       "      <td>0</td>\n",
       "      <td>0</td>\n",
       "      <td>0</td>\n",
       "      <td>10</td>\n",
       "      <td>10</td>\n",
       "      <td>0</td>\n",
       "      <td>0</td>\n",
       "      <td>...</td>\n",
       "      <td>3</td>\n",
       "      <td>2</td>\n",
       "      <td>4</td>\n",
       "      <td>6</td>\n",
       "      <td>4</td>\n",
       "      <td>7</td>\n",
       "      <td>2</td>\n",
       "      <td>0</td>\n",
       "      <td>1</td>\n",
       "      <td>3</td>\n",
       "    </tr>\n",
       "  </tbody>\n",
       "</table>\n",
       "<p>5 rows × 90 columns</p>\n",
       "</div>"
      ],
      "text/plain": [
       "   D19_BANKEN_ANZ_12  D19_BANKEN_ANZ_24  D19_BANKEN_DATUM  D19_BANKEN_DIREKT  \\\n",
       "0                  0                  0                10                  0   \n",
       "1                  0                  0                10                  0   \n",
       "2                  0                  0                10                  0   \n",
       "3                  1                  2                 3                  5   \n",
       "4                  0                  0                10                  0   \n",
       "\n",
       "   D19_BANKEN_GROSS  D19_BANKEN_LOKAL  D19_BANKEN_OFFLINE_DATUM  \\\n",
       "0                 0                 0                        10   \n",
       "1                 0                 0                        10   \n",
       "2                 0                 0                        10   \n",
       "3                 0                 3                        10   \n",
       "4                 0                 0                        10   \n",
       "\n",
       "   D19_BANKEN_ONLINE_DATUM  D19_BANKEN_REST  D19_BEKLEIDUNG_GEH  \\\n",
       "0                       10                0                   0   \n",
       "1                       10                0                   0   \n",
       "2                       10                0                   0   \n",
       "3                        7                0                   0   \n",
       "4                       10                0                   0   \n",
       "\n",
       "           ...           SEMIO_PFLICHT  SEMIO_RAT  SEMIO_REL  SEMIO_SOZ  \\\n",
       "0          ...                       2          1          2          6   \n",
       "1          ...                       4          2          1          2   \n",
       "2          ...                       3          3          3          6   \n",
       "3          ...                       5          5          4          4   \n",
       "4          ...                       3          2          4          6   \n",
       "\n",
       "   SEMIO_TRADV  SEMIO_VERT  ZABEOTYP  ONLINE_PURCHASE  ANREDE_KZ  \\\n",
       "0            1           6         3                0          1   \n",
       "1            1           3         3                0          2   \n",
       "2            4           7         1                0          1   \n",
       "3            4           5         1                0          1   \n",
       "4            4           7         2                0          1   \n",
       "\n",
       "   ALTERSKATEGORIE_GROB  \n",
       "0                     4  \n",
       "1                     4  \n",
       "2                     4  \n",
       "3                     3  \n",
       "4                     3  \n",
       "\n",
       "[5 rows x 90 columns]"
      ]
     },
     "execution_count": 95,
     "metadata": {},
     "output_type": "execute_result"
    }
   ],
   "source": [
    "customers[attr_types[attr_types['dtype'] == 'int']['Attr'].values]"
   ]
  },
  {
   "cell_type": "code",
   "execution_count": 96,
   "metadata": {},
   "outputs": [
    {
     "data": {
      "text/html": [
       "<div>\n",
       "<style scoped>\n",
       "    .dataframe tbody tr th:only-of-type {\n",
       "        vertical-align: middle;\n",
       "    }\n",
       "\n",
       "    .dataframe tbody tr th {\n",
       "        vertical-align: top;\n",
       "    }\n",
       "\n",
       "    .dataframe thead th {\n",
       "        text-align: right;\n",
       "    }\n",
       "</style>\n",
       "<table border=\"1\" class=\"dataframe\">\n",
       "  <thead>\n",
       "    <tr style=\"text-align: right;\">\n",
       "      <th></th>\n",
       "      <th>AKT_DAT_KL</th>\n",
       "      <th>ANZ_TITEL</th>\n",
       "      <th>ARBEIT</th>\n",
       "      <th>BALLRAUM</th>\n",
       "      <th>CAMEO_DEUG_2015</th>\n",
       "      <th>CJT_GESAMTTYP</th>\n",
       "      <th>CJT_KATALOGNUTZER</th>\n",
       "      <th>CJT_TYP_1</th>\n",
       "      <th>CJT_TYP_2</th>\n",
       "      <th>CJT_TYP_3</th>\n",
       "      <th>...</th>\n",
       "      <th>WOHNDAUER_2008</th>\n",
       "      <th>WOHNLAGE</th>\n",
       "      <th>ZABEOTYP</th>\n",
       "      <th>PRODUCT_GROUP</th>\n",
       "      <th>CUSTOMER_GROUP</th>\n",
       "      <th>ONLINE_PURCHASE</th>\n",
       "      <th>ANREDE_KZ</th>\n",
       "      <th>ALTERSKATEGORIE_GROB</th>\n",
       "      <th>AFFLUENCY</th>\n",
       "      <th>FAMILY_TYPE</th>\n",
       "    </tr>\n",
       "  </thead>\n",
       "  <tbody>\n",
       "    <tr>\n",
       "      <th>0</th>\n",
       "      <td>1.0</td>\n",
       "      <td>0.0</td>\n",
       "      <td>1.0</td>\n",
       "      <td>3.0</td>\n",
       "      <td>1.0</td>\n",
       "      <td>5.0</td>\n",
       "      <td>4.0</td>\n",
       "      <td>1.0</td>\n",
       "      <td>1.0</td>\n",
       "      <td>5.0</td>\n",
       "      <td>...</td>\n",
       "      <td>9.0</td>\n",
       "      <td>7.0</td>\n",
       "      <td>3</td>\n",
       "      <td>COSMETIC_AND_FOOD</td>\n",
       "      <td>MULTI_BUYER</td>\n",
       "      <td>0</td>\n",
       "      <td>1</td>\n",
       "      <td>4</td>\n",
       "      <td>NaN</td>\n",
       "      <td>NaN</td>\n",
       "    </tr>\n",
       "    <tr>\n",
       "      <th>1</th>\n",
       "      <td>1.0</td>\n",
       "      <td>0.0</td>\n",
       "      <td>3.0</td>\n",
       "      <td>7.0</td>\n",
       "      <td>5.0</td>\n",
       "      <td>2.0</td>\n",
       "      <td>5.0</td>\n",
       "      <td>2.0</td>\n",
       "      <td>2.0</td>\n",
       "      <td>5.0</td>\n",
       "      <td>...</td>\n",
       "      <td>9.0</td>\n",
       "      <td>2.0</td>\n",
       "      <td>3</td>\n",
       "      <td>COSMETIC_AND_FOOD</td>\n",
       "      <td>MULTI_BUYER</td>\n",
       "      <td>0</td>\n",
       "      <td>2</td>\n",
       "      <td>4</td>\n",
       "      <td>NaN</td>\n",
       "      <td>NaN</td>\n",
       "    </tr>\n",
       "    <tr>\n",
       "      <th>2</th>\n",
       "      <td>1.0</td>\n",
       "      <td>0.0</td>\n",
       "      <td>1.0</td>\n",
       "      <td>7.0</td>\n",
       "      <td>4.0</td>\n",
       "      <td>2.0</td>\n",
       "      <td>5.0</td>\n",
       "      <td>1.0</td>\n",
       "      <td>1.0</td>\n",
       "      <td>5.0</td>\n",
       "      <td>...</td>\n",
       "      <td>9.0</td>\n",
       "      <td>7.0</td>\n",
       "      <td>1</td>\n",
       "      <td>COSMETIC</td>\n",
       "      <td>MULTI_BUYER</td>\n",
       "      <td>0</td>\n",
       "      <td>1</td>\n",
       "      <td>4</td>\n",
       "      <td>NaN</td>\n",
       "      <td>NaN</td>\n",
       "    </tr>\n",
       "    <tr>\n",
       "      <th>3</th>\n",
       "      <td>1.0</td>\n",
       "      <td>0.0</td>\n",
       "      <td>3.0</td>\n",
       "      <td>3.0</td>\n",
       "      <td>7.0</td>\n",
       "      <td>6.0</td>\n",
       "      <td>4.0</td>\n",
       "      <td>3.0</td>\n",
       "      <td>3.0</td>\n",
       "      <td>3.0</td>\n",
       "      <td>...</td>\n",
       "      <td>9.0</td>\n",
       "      <td>3.0</td>\n",
       "      <td>1</td>\n",
       "      <td>FOOD</td>\n",
       "      <td>MULTI_BUYER</td>\n",
       "      <td>0</td>\n",
       "      <td>1</td>\n",
       "      <td>3</td>\n",
       "      <td>NaN</td>\n",
       "      <td>NaN</td>\n",
       "    </tr>\n",
       "    <tr>\n",
       "      <th>4</th>\n",
       "      <td>1.0</td>\n",
       "      <td>0.0</td>\n",
       "      <td>3.0</td>\n",
       "      <td>7.0</td>\n",
       "      <td>5.0</td>\n",
       "      <td>4.0</td>\n",
       "      <td>3.0</td>\n",
       "      <td>1.0</td>\n",
       "      <td>1.0</td>\n",
       "      <td>5.0</td>\n",
       "      <td>...</td>\n",
       "      <td>9.0</td>\n",
       "      <td>1.0</td>\n",
       "      <td>2</td>\n",
       "      <td>COSMETIC_AND_FOOD</td>\n",
       "      <td>MULTI_BUYER</td>\n",
       "      <td>0</td>\n",
       "      <td>1</td>\n",
       "      <td>3</td>\n",
       "      <td>NaN</td>\n",
       "      <td>NaN</td>\n",
       "    </tr>\n",
       "  </tbody>\n",
       "</table>\n",
       "<p>5 rows × 339 columns</p>\n",
       "</div>"
      ],
      "text/plain": [
       "   AKT_DAT_KL  ANZ_TITEL  ARBEIT  BALLRAUM  CAMEO_DEUG_2015  CJT_GESAMTTYP  \\\n",
       "0         1.0        0.0     1.0       3.0              1.0            5.0   \n",
       "1         1.0        0.0     3.0       7.0              5.0            2.0   \n",
       "2         1.0        0.0     1.0       7.0              4.0            2.0   \n",
       "3         1.0        0.0     3.0       3.0              7.0            6.0   \n",
       "4         1.0        0.0     3.0       7.0              5.0            4.0   \n",
       "\n",
       "   CJT_KATALOGNUTZER  CJT_TYP_1  CJT_TYP_2  CJT_TYP_3     ...       \\\n",
       "0                4.0        1.0        1.0        5.0     ...        \n",
       "1                5.0        2.0        2.0        5.0     ...        \n",
       "2                5.0        1.0        1.0        5.0     ...        \n",
       "3                4.0        3.0        3.0        3.0     ...        \n",
       "4                3.0        1.0        1.0        5.0     ...        \n",
       "\n",
       "   WOHNDAUER_2008  WOHNLAGE  ZABEOTYP      PRODUCT_GROUP  CUSTOMER_GROUP  \\\n",
       "0             9.0       7.0         3  COSMETIC_AND_FOOD     MULTI_BUYER   \n",
       "1             9.0       2.0         3  COSMETIC_AND_FOOD     MULTI_BUYER   \n",
       "2             9.0       7.0         1           COSMETIC     MULTI_BUYER   \n",
       "3             9.0       3.0         1               FOOD     MULTI_BUYER   \n",
       "4             9.0       1.0         2  COSMETIC_AND_FOOD     MULTI_BUYER   \n",
       "\n",
       "   ONLINE_PURCHASE  ANREDE_KZ  ALTERSKATEGORIE_GROB  AFFLUENCY  FAMILY_TYPE  \n",
       "0                0          1                     4        NaN          NaN  \n",
       "1                0          2                     4        NaN          NaN  \n",
       "2                0          1                     4        NaN          NaN  \n",
       "3                0          1                     3        NaN          NaN  \n",
       "4                0          1                     3        NaN          NaN  \n",
       "\n",
       "[5 rows x 339 columns]"
      ]
     },
     "execution_count": 96,
     "metadata": {},
     "output_type": "execute_result"
    }
   ],
   "source": [
    "customers.head()"
   ]
  },
  {
   "cell_type": "code",
   "execution_count": 2,
   "metadata": {},
   "outputs": [
    {
     "name": "stdout",
     "output_type": "stream",
     "text": [
      "CPU times: user 49.4 s, sys: 9.85 s, total: 59.3 s\n",
      "Wall time: 8min 54s\n"
     ]
    }
   ],
   "source": [
    "%%time\n",
    "\n",
    "# CHECKPOINT SAVE/LOAD PROGRESS\n",
    "\n",
    "# SAVE\n",
    "#customers.to_csv(\"customers_dropped_nans.csv\", index=False)\n",
    "#azdias.to_csv(\"azdias_dropped_nans.csv\", index=False)\n",
    "\n",
    "# LOAD\n",
    "azdias = pd.read_csv('azdias_dropped_nans.csv')\n",
    "customers = pd.read_csv('customers_dropped_nans.csv')\n",
    "\n",
    "attr_values = pd.read_excel(\"DIAS Attributes - Values 2017.xlsx\")\n",
    "attribute_desc = pd.read_excel(\"DIAS Information Levels - Attributes 2017.xlsx\")"
   ]
  },
  {
   "cell_type": "code",
   "execution_count": 9,
   "metadata": {},
   "outputs": [],
   "source": [
    "import random\n",
    "import math"
   ]
  },
  {
   "cell_type": "code",
   "execution_count": 18,
   "metadata": {},
   "outputs": [
    {
     "data": {
      "image/png": "[encoded data removed]",
      "text/plain": [
       "<matplotlib.figure.Figure at 0x7fd1d400d978>"
      ]
     },
     "metadata": {
      "needs_background": "light"
     },
     "output_type": "display_data"
    }
   ],
   "source": [
    "fig, axes = plt.subplots(nrows=3, ncols=3, figsize=(14,11))\n",
    "\n",
    "attribute_list = azdias.columns\n",
    "attribute_list = [attribute_list[random.randint(0, len(attribute_list)-1)] for i in range (9)]\n",
    "#print(attribute_list)\n",
    "for i, attribute in enumerate(attribute_list[:9]):\n",
    "    #print(attribute)\n",
    "    axes_0 = math.trunc(i/3)\n",
    "    axes_1 = i%3\n",
    "    ax = axes[axes_0,axes_1]\n",
    "    azdias[attribute].plot(ax = ax,alpha=0.5, kind='hist', label = attribute)\n",
    "    customers[attribute].plot(ax = ax,alpha=0.5, kind='hist', label = attribute)\n",
    "\n",
    "    ax.set_title(attribute)\n",
    "    if axes_1 != 0:\n",
    "        ax.get_yaxis().set_visible(False)\n",
    "    else:\n",
    "        ax.set_ylabel(\"Number of rows\")\n",
    "        ax.legend(loc=\"upper left\")\n"
   ]
  },
  {
   "cell_type": "code",
   "execution_count": 27,
   "metadata": {},
   "outputs": [
    {
     "data": {
      "text/plain": [
       "<matplotlib.axes._subplots.AxesSubplot at 0x7fd1d518d240>"
      ]
     },
     "execution_count": 27,
     "metadata": {},
     "output_type": "execute_result"
    },
    {
     "data": {
      "image/png": "[encoded data removed]",
      "text/plain": [
       "<matplotlib.figure.Figure at 0x7fd1d47ee550>"
      ]
     },
     "metadata": {
      "needs_background": "light"
     },
     "output_type": "display_data"
    }
   ],
   "source": [
    ".KBA13_ANZAHL_PKW.plot(kind='hist', bins=50)"
   ]
  },
  {
   "cell_type": "code",
   "execution_count": 53,
   "metadata": {},
   "outputs": [
    {
     "name": "stdout",
     "output_type": "stream",
     "text": [
      "EINGEFUEGT_AM Skew: 2.747406906892455\n",
      "KBA13_ANZAHL_PKW Skew: 1.2628410450708332\n",
      "GEBURTSJAHR Skew: -0.4587871372742081\n",
      "EINGEZOGENAM_HH_JAHR Skew: 0.16895630166297962\n"
     ]
    },
    {
     "data": {
      "image/png": "[encoded data removed]",
      "text/plain": [
       "<matplotlib.figure.Figure at 0x7fd1d281fd30>"
      ]
     },
     "metadata": {
      "needs_background": "light"
     },
     "output_type": "display_data"
    }
   ],
   "source": [
    "for i in attribute_info.sort_values(by='NUM_VALUES', ascending=False)['ATTRIBUTE'][:4].values:\n",
    "\n",
    "    print(f'{i} Skew: {azdias[i].skew()}')"
   ]
  },
  {
   "cell_type": "code",
   "execution_count": 58,
   "metadata": {},
   "outputs": [
    {
     "data": {
      "text/plain": [
       "<matplotlib.axes._subplots.AxesSubplot at 0x7fd1d4b3a668>"
      ]
     },
     "execution_count": 58,
     "metadata": {},
     "output_type": "execute_result"
    },
    {
     "data": {
      "image/png": "[encoded data removed]",
      "text/plain": [
       "<matplotlib.figure.Figure at 0x7fd1d3c4f320>"
      ]
     },
     "metadata": {
      "needs_background": "light"
     },
     "output_type": "display_data"
    }
   ],
   "source": [
    "azdias['EINGEZOGENAM_HH_JAHR'].plot(kind='hist', bins=50)"
   ]
  },
  {
   "cell_type": "code",
   "execution_count": 48,
   "metadata": {},
   "outputs": [
    {
     "data": {
      "text/plain": [
       "array(['EINGEFUEGT_AM', 'KBA13_ANZAHL_PKW', 'GEBURTSJAHR',\n",
       "       'EINGEZOGENAM_HH_JAHR'], dtype=object)"
      ]
     },
     "execution_count": 48,
     "metadata": {},
     "output_type": "execute_result"
    }
   ],
   "source": [
    "attribute_info.sort_values(by='NUM_VALUES', ascending=False)['ATTRIBUTE'][:4].values"
   ]
  },
  {
   "cell_type": "code",
   "execution_count": 50,
   "metadata": {},
   "outputs": [],
   "source": [
    "azdias['EINGEFUEGT_AM'] = pd.to_numeric(azdias['EINGEFUEGT_AM'])"
   ]
  },
  {
   "cell_type": "code",
   "execution_count": 51,
   "metadata": {},
   "outputs": [
    {
     "data": {
      "text/plain": [
       "2.7474069068924551"
      ]
     },
     "execution_count": 51,
     "metadata": {},
     "output_type": "execute_result"
    }
   ],
   "source": [
    "azdias['EINGEFUEGT_AM'].skew()"
   ]
  },
  {
   "cell_type": "markdown",
   "metadata": {},
   "source": [
    "## Part 1: Customer Segmentation Report\n",
    "\n",
    "The main bulk of your analysis will come in this part of the project. Here, you should use unsupervised learning techniques to describe the relationship between the demographics of the company's existing customers and the general population of Germany. By the end of this part, you should be able to describe parts of the general population that are more likely to be part of the mail-order company's main customer base, and which parts of the general population are less so."
   ]
  },
  {
   "cell_type": "code",
   "execution_count": null,
   "metadata": {},
   "outputs": [],
   "source": []
  },
  {
   "cell_type": "markdown",
   "metadata": {},
   "source": [
    "## Part 2: Supervised Learning Model\n",
    "\n",
    "Now that you've found which parts of the population are more likely to be customers of the mail-order company, it's time to build a prediction model. Each of the rows in the \"MAILOUT\" data files represents an individual that was targeted for a mailout campaign. Ideally, we should be able to use the demographic information from each individual to decide whether or not it will be worth it to include that person in the campaign.\n",
    "\n",
    "The \"MAILOUT\" data has been split into two approximately equal parts, each with almost 43 000 data rows. In this part, you can verify your model with the \"TRAIN\" partition, which includes a column, \"RESPONSE\", that states whether or not a person became a customer of the company following the campaign. In the next part, you'll need to create predictions on the \"TEST\" partition, where the \"RESPONSE\" column has been withheld."
   ]
  },
  {
   "cell_type": "code",
   "execution_count": null,
   "metadata": {},
   "outputs": [],
   "source": [
    "mailout_train = pd.read_csv('../../data/Term2/capstone/arvato_data/Udacity_MAILOUT_052018_TRAIN.csv', sep=';')"
   ]
  },
  {
   "cell_type": "code",
   "execution_count": null,
   "metadata": {},
   "outputs": [],
   "source": []
  },
  {
   "cell_type": "markdown",
   "metadata": {},
   "source": [
    "## Part 3: Kaggle Competition\n",
    "\n",
    "Now that you've created a model to predict which individuals are most likely to respond to a mailout campaign, it's time to test that model in competition through Kaggle. If you click on the link [here](http://www.kaggle.com/t/21e6d45d4c574c7fa2d868f0e8c83140), you'll be taken to the competition page where, if you have a Kaggle account, you can enter. If you're one of the top performers, you may have the chance to be contacted by a hiring manager from Arvato or Bertelsmann for an interview!\n",
    "\n",
    "Your entry to the competition should be a CSV file with two columns. The first column should be a copy of \"LNR\", which acts as an ID number for each individual in the \"TEST\" partition. The second column, \"RESPONSE\", should be some measure of how likely each individual became a customer – this might not be a straightforward probability. As you should have found in Part 2, there is a large output class imbalance, where most individuals did not respond to the mailout. Thus, predicting individual classes and using accuracy does not seem to be an appropriate performance evaluation method. Instead, the competition will be using AUC to evaluate performance. The exact values of the \"RESPONSE\" column do not matter as much: only that the higher values try to capture as many of the actual customers as possible, early in the ROC curve sweep."
   ]
  },
  {
   "cell_type": "code",
   "execution_count": null,
   "metadata": {},
   "outputs": [],
   "source": [
    "mailout_test = pd.read_csv('../../data/Term2/capstone/arvato_data/Udacity_MAILOUT_052018_TEST.csv', sep=';')"
   ]
  },
  {
   "cell_type": "code",
   "execution_count": null,
   "metadata": {},
   "outputs": [],
   "source": []
  }
 ],
 "metadata": {
  "kernelspec": {
   "display_name": "Python 3",
   "language": "python",
   "name": "python3"
  },
  "language_info": {
   "codemirror_mode": {
    "name": "ipython",
    "version": 3
   },
   "file_extension": ".py",
   "mimetype": "text/x-python",
   "name": "python",
   "nbconvert_exporter": "python",
   "pygments_lexer": "ipython3",
   "version": "3.6.3"
  }
 },
 "nbformat": 4,
 "nbformat_minor": 2
}
