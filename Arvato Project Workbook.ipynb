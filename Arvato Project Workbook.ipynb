{
 "cells": [
  {
   "cell_type": "markdown",
   "metadata": {},
   "source": [
    "# Capstone Project: Create a Customer Segmentation Report for Arvato Financial Services\n",
    "\n",
    "In this project, you will analyze demographics data for customers of a mail-order sales company in Germany, comparing it against demographics information for the general population. You'll use unsupervised learning techniques to perform customer segmentation, identifying the parts of the population that best describe the core customer base of the company. Then, you'll apply what you've learned on a third dataset with demographics information for targets of a marketing campaign for the company, and use a model to predict which individuals are most likely to convert into becoming customers for the company. The data that you will use has been provided by our partners at Bertelsmann Arvato Analytics, and represents a real-life data science task.\n",
    "\n",
    "If you completed the first term of this program, you will be familiar with the first part of this project, from the unsupervised learning project. The versions of those two datasets used in this project will include many more features and has not been pre-cleaned. You are also free to choose whatever approach you'd like to analyzing the data rather than follow pre-determined steps. In your work on this project, make sure that you carefully document your steps and decisions, since your main deliverable for this project will be a blog post reporting your findings."
   ]
  },
  {
   "cell_type": "code",
   "execution_count": 1,
   "metadata": {},
   "outputs": [],
   "source": [
    "# import libraries here; add more as necessary\n",
    "import numpy as np\n",
    "import pandas as pd\n",
    "import matplotlib.pyplot as plt\n",
    "import seaborn as sns\n",
    "import time\n",
    "\n",
    "# magic word for producing visualizations in notebook\n",
    "%matplotlib inline"
   ]
  },
  {
   "cell_type": "markdown",
   "metadata": {},
   "source": [
    "## Part 0: Get to Know the Data\n",
    "\n",
    "There are four data files associated with this project:\n",
    "\n",
    "- `Udacity_AZDIAS_052018.csv`: Demographics data for the general population of Germany; 891 211 persons (rows) x 366 features (columns).\n",
    "- `Udacity_CUSTOMERS_052018.csv`: Demographics data for customers of a mail-order company; 191 652 persons (rows) x 369 features (columns).\n",
    "- `Udacity_MAILOUT_052018_TRAIN.csv`: Demographics data for individuals who were targets of a marketing campaign; 42 982 persons (rows) x 367 (columns).\n",
    "- `Udacity_MAILOUT_052018_TEST.csv`: Demographics data for individuals who were targets of a marketing campaign; 42 833 persons (rows) x 366 (columns).\n",
    "\n",
    "Each row of the demographics files represents a single person, but also includes information outside of individuals, including information about their household, building, and neighborhood. Use the information from the first two files to figure out how customers (\"CUSTOMERS\") are similar to or differ from the general population at large (\"AZDIAS\"), then use your analysis to make predictions on the other two files (\"MAILOUT\"), predicting which recipients are most likely to become a customer for the mail-order company.\n",
    "\n",
    "The \"CUSTOMERS\" file contains three extra columns ('CUSTOMER_GROUP', 'ONLINE_PURCHASE', and 'PRODUCT_GROUP'), which provide broad information about the customers depicted in the file. The original \"MAILOUT\" file included one additional column, \"RESPONSE\", which indicated whether or not each recipient became a customer of the company. For the \"TRAIN\" subset, this column has been retained, but in the \"TEST\" subset it has been removed; it is against that withheld column that your final predictions will be assessed in the Kaggle competition.\n",
    "\n",
    "Otherwise, all of the remaining columns are the same between the three data files. For more information about the columns depicted in the files, you can refer to two Excel spreadsheets provided in the workspace. [One of them](./DIAS Information Levels - Attributes 2017.xlsx) is a top-level list of attributes and descriptions, organized by informational category. [The other](./DIAS Attributes - Values 2017.xlsx) is a detailed mapping of data values for each feature in alphabetical order.\n",
    "\n",
    "In the below cell, we've provided some initial code to load in the first two datasets. Note for all of the `.csv` data files in this project that they're semicolon (`;`) delimited, so an additional argument in the [`read_csv()`](https://pandas.pydata.org/pandas-docs/stable/generated/pandas.read_csv.html) call has been included to read in the data properly. Also, considering the size of the datasets, it may take some time for them to load completely.\n",
    "\n",
    "You'll notice when the data is loaded in that a warning message will immediately pop up. Before you really start digging into the modeling and analysis, you're going to need to perform some cleaning. Take some time to browse the structure of the data and look over the informational spreadsheets to understand the data values. Make some decisions on which features to keep, which features to drop, and if any revisions need to be made on data formats. It'll be a good idea to create a function with pre-processing steps, since you'll need to clean all of the datasets before you work with them."
   ]
  },
  {
   "cell_type": "code",
   "execution_count": 46,
   "metadata": {},
   "outputs": [
    {
     "name": "stderr",
     "output_type": "stream",
     "text": [
      "<string>:2: DtypeWarning: Columns (18,19) have mixed types. Specify dtype option on import or set low_memory=False.\n"
     ]
    },
    {
     "name": "stdout",
     "output_type": "stream",
     "text": [
      "CPU times: user 43.6 s, sys: 20.6 s, total: 1min 4s\n",
      "Wall time: 14min 2s\n"
     ]
    }
   ],
   "source": [
    "%%time\n",
    "# load in the data\n",
    "azdias = pd.read_csv('../../data/Term2/capstone/arvato_data/Udacity_AZDIAS_052018.csv', sep=';')"
   ]
  },
  {
   "cell_type": "code",
   "execution_count": null,
   "metadata": {},
   "outputs": [],
   "source": [
    "azdias.iloc[:,[18,19]].columns"
   ]
  },
  {
   "cell_type": "code",
   "execution_count": 47,
   "metadata": {},
   "outputs": [
    {
     "name": "stderr",
     "output_type": "stream",
     "text": [
      "/opt/conda/lib/python3.6/site-packages/IPython/core/interactiveshell.py:2785: DtypeWarning: Columns (18,19) have mixed types. Specify dtype option on import or set low_memory=False.\n",
      "  interactivity=interactivity, compiler=compiler, result=result)\n"
     ]
    }
   ],
   "source": [
    "customers = pd.read_csv('../../data/Term2/capstone/arvato_data/Udacity_CUSTOMERS_052018.csv', sep=';')"
   ]
  },
  {
   "cell_type": "code",
   "execution_count": null,
   "metadata": {},
   "outputs": [],
   "source": [
    "customers.iloc[:,[18,19]].columns"
   ]
  },
  {
   "cell_type": "code",
   "execution_count": 2,
   "metadata": {},
   "outputs": [],
   "source": [
    "attr_values = pd.read_excel(\"DIAS Attributes - Values 2017.xlsx\")\n",
    "attribute_desc = pd.read_excel(\"DIAS Information Levels - Attributes 2017.xlsx\")"
   ]
  },
  {
   "cell_type": "markdown",
   "metadata": {},
   "source": [
    "### Exploratory Analysis\n",
    "\n",
    "It appears columns 18, and 19 have mixed data types which we will look into if they are not initially dropped due to also having a lack of data."
   ]
  },
  {
   "cell_type": "code",
   "execution_count": 72,
   "metadata": {},
   "outputs": [
    {
     "name": "stdout",
     "output_type": "stream",
     "text": [
      "Azdias Number of Rows: 891221\n",
      "Azdias Number of Columns: 366\n",
      "Customers Number of Rows: 191652\n",
      "Customers Number of Columns: 369\n"
     ]
    }
   ],
   "source": [
    "print(f'Azdias Number of Rows: {azdias.shape[0]}')\n",
    "print(f'Azdias Number of Columns: {azdias.shape[1]}')\n",
    "print(f'Customers Number of Rows: {customers.shape[0]}')\n",
    "print(f'Customers Number of Columns: {customers.shape[1]}')"
   ]
  },
  {
   "cell_type": "code",
   "execution_count": 76,
   "metadata": {},
   "outputs": [
    {
     "name": "stdout",
     "output_type": "stream",
     "text": [
      "Size of Customer df compared to Azdias: 21%\n"
     ]
    }
   ],
   "source": [
    "print(f'Size of Customer df compared to Azdias: {int(customers.size/azdias.size*100)}%')"
   ]
  },
  {
   "cell_type": "code",
   "execution_count": 79,
   "metadata": {},
   "outputs": [
    {
     "data": {
      "text/html": [
       "<div>\n",
       "<style scoped>\n",
       "    .dataframe tbody tr th:only-of-type {\n",
       "        vertical-align: middle;\n",
       "    }\n",
       "\n",
       "    .dataframe tbody tr th {\n",
       "        vertical-align: top;\n",
       "    }\n",
       "\n",
       "    .dataframe thead th {\n",
       "        text-align: right;\n",
       "    }\n",
       "</style>\n",
       "<table border=\"1\" class=\"dataframe\">\n",
       "  <thead>\n",
       "    <tr style=\"text-align: right;\">\n",
       "      <th></th>\n",
       "      <th>LNR</th>\n",
       "      <th>AGER_TYP</th>\n",
       "      <th>AKT_DAT_KL</th>\n",
       "      <th>ALTER_HH</th>\n",
       "      <th>ALTER_KIND1</th>\n",
       "      <th>ALTER_KIND2</th>\n",
       "      <th>ALTER_KIND3</th>\n",
       "      <th>ALTER_KIND4</th>\n",
       "      <th>ALTERSKATEGORIE_FEIN</th>\n",
       "      <th>ANZ_HAUSHALTE_AKTIV</th>\n",
       "      <th>...</th>\n",
       "      <th>VHN</th>\n",
       "      <th>VK_DHT4A</th>\n",
       "      <th>VK_DISTANZ</th>\n",
       "      <th>VK_ZG11</th>\n",
       "      <th>W_KEIT_KIND_HH</th>\n",
       "      <th>WOHNDAUER_2008</th>\n",
       "      <th>WOHNLAGE</th>\n",
       "      <th>ZABEOTYP</th>\n",
       "      <th>ANREDE_KZ</th>\n",
       "      <th>ALTERSKATEGORIE_GROB</th>\n",
       "    </tr>\n",
       "  </thead>\n",
       "  <tbody>\n",
       "    <tr>\n",
       "      <th>0</th>\n",
       "      <td>910215</td>\n",
       "      <td>-1</td>\n",
       "      <td>NaN</td>\n",
       "      <td>NaN</td>\n",
       "      <td>NaN</td>\n",
       "      <td>NaN</td>\n",
       "      <td>NaN</td>\n",
       "      <td>NaN</td>\n",
       "      <td>NaN</td>\n",
       "      <td>NaN</td>\n",
       "      <td>...</td>\n",
       "      <td>NaN</td>\n",
       "      <td>NaN</td>\n",
       "      <td>NaN</td>\n",
       "      <td>NaN</td>\n",
       "      <td>NaN</td>\n",
       "      <td>NaN</td>\n",
       "      <td>NaN</td>\n",
       "      <td>3</td>\n",
       "      <td>1</td>\n",
       "      <td>2</td>\n",
       "    </tr>\n",
       "    <tr>\n",
       "      <th>1</th>\n",
       "      <td>910220</td>\n",
       "      <td>-1</td>\n",
       "      <td>9.0</td>\n",
       "      <td>0.0</td>\n",
       "      <td>NaN</td>\n",
       "      <td>NaN</td>\n",
       "      <td>NaN</td>\n",
       "      <td>NaN</td>\n",
       "      <td>21.0</td>\n",
       "      <td>11.0</td>\n",
       "      <td>...</td>\n",
       "      <td>4.0</td>\n",
       "      <td>8.0</td>\n",
       "      <td>11.0</td>\n",
       "      <td>10.0</td>\n",
       "      <td>3.0</td>\n",
       "      <td>9.0</td>\n",
       "      <td>4.0</td>\n",
       "      <td>5</td>\n",
       "      <td>2</td>\n",
       "      <td>1</td>\n",
       "    </tr>\n",
       "    <tr>\n",
       "      <th>2</th>\n",
       "      <td>910225</td>\n",
       "      <td>-1</td>\n",
       "      <td>9.0</td>\n",
       "      <td>17.0</td>\n",
       "      <td>NaN</td>\n",
       "      <td>NaN</td>\n",
       "      <td>NaN</td>\n",
       "      <td>NaN</td>\n",
       "      <td>17.0</td>\n",
       "      <td>10.0</td>\n",
       "      <td>...</td>\n",
       "      <td>2.0</td>\n",
       "      <td>9.0</td>\n",
       "      <td>9.0</td>\n",
       "      <td>6.0</td>\n",
       "      <td>3.0</td>\n",
       "      <td>9.0</td>\n",
       "      <td>2.0</td>\n",
       "      <td>5</td>\n",
       "      <td>2</td>\n",
       "      <td>3</td>\n",
       "    </tr>\n",
       "    <tr>\n",
       "      <th>3</th>\n",
       "      <td>910226</td>\n",
       "      <td>2</td>\n",
       "      <td>1.0</td>\n",
       "      <td>13.0</td>\n",
       "      <td>NaN</td>\n",
       "      <td>NaN</td>\n",
       "      <td>NaN</td>\n",
       "      <td>NaN</td>\n",
       "      <td>13.0</td>\n",
       "      <td>1.0</td>\n",
       "      <td>...</td>\n",
       "      <td>0.0</td>\n",
       "      <td>7.0</td>\n",
       "      <td>10.0</td>\n",
       "      <td>11.0</td>\n",
       "      <td>NaN</td>\n",
       "      <td>9.0</td>\n",
       "      <td>7.0</td>\n",
       "      <td>3</td>\n",
       "      <td>2</td>\n",
       "      <td>4</td>\n",
       "    </tr>\n",
       "    <tr>\n",
       "      <th>4</th>\n",
       "      <td>910241</td>\n",
       "      <td>-1</td>\n",
       "      <td>1.0</td>\n",
       "      <td>20.0</td>\n",
       "      <td>NaN</td>\n",
       "      <td>NaN</td>\n",
       "      <td>NaN</td>\n",
       "      <td>NaN</td>\n",
       "      <td>14.0</td>\n",
       "      <td>3.0</td>\n",
       "      <td>...</td>\n",
       "      <td>2.0</td>\n",
       "      <td>3.0</td>\n",
       "      <td>5.0</td>\n",
       "      <td>4.0</td>\n",
       "      <td>2.0</td>\n",
       "      <td>9.0</td>\n",
       "      <td>3.0</td>\n",
       "      <td>4</td>\n",
       "      <td>1</td>\n",
       "      <td>3</td>\n",
       "    </tr>\n",
       "  </tbody>\n",
       "</table>\n",
       "<p>5 rows × 366 columns</p>\n",
       "</div>"
      ],
      "text/plain": [
       "      LNR  AGER_TYP  AKT_DAT_KL  ALTER_HH  ALTER_KIND1  ALTER_KIND2  \\\n",
       "0  910215        -1         NaN       NaN          NaN          NaN   \n",
       "1  910220        -1         9.0       0.0          NaN          NaN   \n",
       "2  910225        -1         9.0      17.0          NaN          NaN   \n",
       "3  910226         2         1.0      13.0          NaN          NaN   \n",
       "4  910241        -1         1.0      20.0          NaN          NaN   \n",
       "\n",
       "   ALTER_KIND3  ALTER_KIND4  ALTERSKATEGORIE_FEIN  ANZ_HAUSHALTE_AKTIV  \\\n",
       "0          NaN          NaN                   NaN                  NaN   \n",
       "1          NaN          NaN                  21.0                 11.0   \n",
       "2          NaN          NaN                  17.0                 10.0   \n",
       "3          NaN          NaN                  13.0                  1.0   \n",
       "4          NaN          NaN                  14.0                  3.0   \n",
       "\n",
       "          ...           VHN  VK_DHT4A  VK_DISTANZ  VK_ZG11  W_KEIT_KIND_HH  \\\n",
       "0         ...           NaN       NaN         NaN      NaN             NaN   \n",
       "1         ...           4.0       8.0        11.0     10.0             3.0   \n",
       "2         ...           2.0       9.0         9.0      6.0             3.0   \n",
       "3         ...           0.0       7.0        10.0     11.0             NaN   \n",
       "4         ...           2.0       3.0         5.0      4.0             2.0   \n",
       "\n",
       "   WOHNDAUER_2008  WOHNLAGE ZABEOTYP ANREDE_KZ ALTERSKATEGORIE_GROB  \n",
       "0             NaN       NaN        3         1                    2  \n",
       "1             9.0       4.0        5         2                    1  \n",
       "2             9.0       2.0        5         2                    3  \n",
       "3             9.0       7.0        3         2                    4  \n",
       "4             9.0       3.0        4         1                    3  \n",
       "\n",
       "[5 rows x 366 columns]"
      ]
     },
     "execution_count": 79,
     "metadata": {},
     "output_type": "execute_result"
    }
   ],
   "source": [
    "azdias.head()"
   ]
  },
  {
   "cell_type": "markdown",
   "metadata": {},
   "source": [
    "#### Replacing unknown values to np.nan\n",
    "\n",
    "Looking at the DIAS Attributes excel file we can see Attributes typically have a value they use for any unknowns. This can differ depending on the attribute so we'll need to bind these unknown values to their corrosponding attribute by creating a dict, and then mapping this to the DataFrames, replacing them with np.nan."
   ]
  },
  {
   "cell_type": "code",
   "execution_count": 148,
   "metadata": {},
   "outputs": [
    {
     "data": {
      "text/html": [
       "<div>\n",
       "<style scoped>\n",
       "    .dataframe tbody tr th:only-of-type {\n",
       "        vertical-align: middle;\n",
       "    }\n",
       "\n",
       "    .dataframe tbody tr th {\n",
       "        vertical-align: top;\n",
       "    }\n",
       "\n",
       "    .dataframe thead th {\n",
       "        text-align: right;\n",
       "    }\n",
       "</style>\n",
       "<table border=\"1\" class=\"dataframe\">\n",
       "  <thead>\n",
       "    <tr style=\"text-align: right;\">\n",
       "      <th></th>\n",
       "      <th>Unnamed: 0</th>\n",
       "      <th>Attribute</th>\n",
       "      <th>Description</th>\n",
       "      <th>Value</th>\n",
       "      <th>Meaning</th>\n",
       "    </tr>\n",
       "  </thead>\n",
       "  <tbody>\n",
       "    <tr>\n",
       "      <th>0</th>\n",
       "      <td>NaN</td>\n",
       "      <td>AGER_TYP</td>\n",
       "      <td>best-ager typology</td>\n",
       "      <td>-1</td>\n",
       "      <td>unknown</td>\n",
       "    </tr>\n",
       "    <tr>\n",
       "      <th>1</th>\n",
       "      <td>NaN</td>\n",
       "      <td>NaN</td>\n",
       "      <td>NaN</td>\n",
       "      <td>0</td>\n",
       "      <td>no classification possible</td>\n",
       "    </tr>\n",
       "    <tr>\n",
       "      <th>2</th>\n",
       "      <td>NaN</td>\n",
       "      <td>NaN</td>\n",
       "      <td>NaN</td>\n",
       "      <td>1</td>\n",
       "      <td>passive elderly</td>\n",
       "    </tr>\n",
       "    <tr>\n",
       "      <th>3</th>\n",
       "      <td>NaN</td>\n",
       "      <td>NaN</td>\n",
       "      <td>NaN</td>\n",
       "      <td>2</td>\n",
       "      <td>cultural elderly</td>\n",
       "    </tr>\n",
       "    <tr>\n",
       "      <th>4</th>\n",
       "      <td>NaN</td>\n",
       "      <td>NaN</td>\n",
       "      <td>NaN</td>\n",
       "      <td>3</td>\n",
       "      <td>experience-driven elderly</td>\n",
       "    </tr>\n",
       "    <tr>\n",
       "      <th>5</th>\n",
       "      <td>NaN</td>\n",
       "      <td>ALTERSKATEGORIE_GROB</td>\n",
       "      <td>age classification through prename analysis</td>\n",
       "      <td>-1, 0</td>\n",
       "      <td>unknown</td>\n",
       "    </tr>\n",
       "    <tr>\n",
       "      <th>6</th>\n",
       "      <td>NaN</td>\n",
       "      <td>NaN</td>\n",
       "      <td>NaN</td>\n",
       "      <td>1</td>\n",
       "      <td>&lt; 30 years</td>\n",
       "    </tr>\n",
       "    <tr>\n",
       "      <th>7</th>\n",
       "      <td>NaN</td>\n",
       "      <td>NaN</td>\n",
       "      <td>NaN</td>\n",
       "      <td>2</td>\n",
       "      <td>30 - 45 years</td>\n",
       "    </tr>\n",
       "    <tr>\n",
       "      <th>8</th>\n",
       "      <td>NaN</td>\n",
       "      <td>NaN</td>\n",
       "      <td>NaN</td>\n",
       "      <td>3</td>\n",
       "      <td>46 - 60 years</td>\n",
       "    </tr>\n",
       "    <tr>\n",
       "      <th>9</th>\n",
       "      <td>NaN</td>\n",
       "      <td>NaN</td>\n",
       "      <td>NaN</td>\n",
       "      <td>4</td>\n",
       "      <td>&gt; 60 years</td>\n",
       "    </tr>\n",
       "  </tbody>\n",
       "</table>\n",
       "</div>"
      ],
      "text/plain": [
       "   Unnamed: 0             Attribute  \\\n",
       "0         NaN              AGER_TYP   \n",
       "1         NaN                   NaN   \n",
       "2         NaN                   NaN   \n",
       "3         NaN                   NaN   \n",
       "4         NaN                   NaN   \n",
       "5         NaN  ALTERSKATEGORIE_GROB   \n",
       "6         NaN                   NaN   \n",
       "7         NaN                   NaN   \n",
       "8         NaN                   NaN   \n",
       "9         NaN                   NaN   \n",
       "\n",
       "                                    Description  Value  \\\n",
       "0                            best-ager typology     -1   \n",
       "1                                           NaN      0   \n",
       "2                                           NaN      1   \n",
       "3                                           NaN      2   \n",
       "4                                           NaN      3   \n",
       "5  age classification through prename analysis   -1, 0   \n",
       "6                                           NaN      1   \n",
       "7                                           NaN      2   \n",
       "8                                           NaN      3   \n",
       "9                                           NaN      4   \n",
       "\n",
       "                      Meaning  \n",
       "0                     unknown  \n",
       "1  no classification possible  \n",
       "2             passive elderly  \n",
       "3            cultural elderly  \n",
       "4   experience-driven elderly  \n",
       "5                     unknown  \n",
       "6                  < 30 years  \n",
       "7               30 - 45 years  \n",
       "8               46 - 60 years  \n",
       "9                  > 60 years  "
      ]
     },
     "execution_count": 148,
     "metadata": {},
     "output_type": "execute_result"
    }
   ],
   "source": [
    "attr_values.head(10)"
   ]
  },
  {
   "cell_type": "code",
   "execution_count": 120,
   "metadata": {},
   "outputs": [],
   "source": [
    "def replace_value_with_nans(df):\n",
    "    \"\"\"\n",
    "    Changes values in the dataframe to np.nan, that correspond\n",
    "    to unknown values in the attributes excel file.\n",
    "\n",
    "    Attr (dataframe): Original DataFrame\n",
    "    Returns: Processed DataFrame\n",
    "    \"\"\"\n",
    "\n",
    "    # create a dict with key being attribute names, and value as the value used to\n",
    "    # note unknown values in the data (as a list of strings)\n",
    "    attr = attr_values[['Attribute','Value','Meaning']]\n",
    "    attr = attr.fillna(method='ffill')\n",
    "    attr = attr[attr.Meaning.isin([\"unknown\", \"unknown / no main age detectable\"])]\n",
    "    attr['Value'] = attr['Value'].apply(lambda x: str(x).split(\", \"))\n",
    "    attr['Value'] = attr['Value'].apply(lambda x: [float(i) for i in x])\n",
    "    unknown_key = dict(zip(attr['Attribute'].values, attr['Value'].values))\n",
    "    \n",
    "    # see if column name is in the dict unknown_key and replace values\n",
    "    filtered_df = df\n",
    "    for i in filtered_df.columns:\n",
    "        try:\n",
    "            filtered_df[i] = df[i].apply(lambda x: np.nan if float(x) in unknown_key[i] else x)\n",
    "        except:\n",
    "            pass\n",
    "\n",
    "    return filtered_df"
   ]
  },
  {
   "cell_type": "code",
   "execution_count": 121,
   "metadata": {},
   "outputs": [
    {
     "name": "stdout",
     "output_type": "stream",
     "text": [
      "CPU times: user 2min 22s, sys: 12.7 s, total: 2min 35s\n",
      "Wall time: 5min 5s\n"
     ]
    }
   ],
   "source": [
    "%%time\n",
    "# replace unknown values with np.nan\n",
    "azdias = replace_value_with_nans(azdias)\n",
    "customers = replace_value_with_nans(customers)"
   ]
  },
  {
   "cell_type": "markdown",
   "metadata": {},
   "source": [
    "#### Percent of NaN values\n",
    "\n",
    "We'll now look at the percentage of NaN values across all features to see what we'll decide as the cut-off for which features can be deleted."
   ]
  },
  {
   "cell_type": "code",
   "execution_count": 124,
   "metadata": {},
   "outputs": [
    {
     "name": "stdout",
     "output_type": "stream",
     "text": [
      "CPU times: user 6 µs, sys: 2 µs, total: 8 µs\n",
      "Wall time: 20.7 µs\n"
     ]
    }
   ],
   "source": [
    "def percent_of_nan(df, axis=0):\n",
    "    \"\"\"\n",
    "    Counts the number of columns or rows that are nan\n",
    "    and returns a percentage based on all the rows/cols\n",
    "    \n",
    "    Attr:\n",
    "        df (DataFrame): DataFrame with nan values\n",
    "        axis (int): 0 for columns, 1 for rows\n",
    "    Returns:\n",
    "        percent_nan (Series): list of rows/cols and the percent of nan values\n",
    "    \"\"\"\n",
    "    percent_nan = df.isnull().sum(axis=axis)/df.shape[axis]*100\n",
    "    \n",
    "    return percent_nan"
   ]
  },
  {
   "cell_type": "markdown",
   "metadata": {},
   "source": [
    "#### Columns to drop"
   ]
  },
  {
   "cell_type": "code",
   "execution_count": 125,
   "metadata": {},
   "outputs": [],
   "source": [
    "%%time\n",
    "customers_perc = percent_of_nan(customers)\n",
    "azdias_perc = percent_of_nan(azdias)"
   ]
  },
  {
   "cell_type": "code",
   "execution_count": 127,
   "metadata": {},
   "outputs": [
    {
     "data": {
      "image/png": "[encoded data removed]",
      "text/plain": [
       "<matplotlib.figure.Figure at 0x7ff03935b518>"
      ]
     },
     "metadata": {
      "needs_background": "light"
     },
     "output_type": "display_data"
    }
   ],
   "source": [
    "bins = 20\n",
    "\n",
    "plt.hist(customers_perc, bins, alpha=0.5, label='customers')\n",
    "plt.hist(azdias_perc, bins, alpha=0.5, label='azdias')\n",
    "plt.legend(loc='upper right')\n",
    "plt.title(\"Histogram of NaN values\")\n",
    "plt.xlabel(\"Percent\")\n",
    "plt.ylabel(\"Number of Features\")\n",
    "plt.show()"
   ]
  },
  {
   "cell_type": "markdown",
   "metadata": {},
   "source": [
    "Typically if a feature has between 20-30% nan values then it's best to drop it from the dataset. Interestingly the customers dataset has features with a higher percentage of missing values than the azdias. Since there is over 200 features with between 25-30% nan values, we'll set the limit at 30%. \n",
    "\n",
    "To keep the same features in both datasets we'll extract the column names with less than 30% nan features and then drop them from both datasets."
   ]
  },
  {
   "cell_type": "code",
   "execution_count": 136,
   "metadata": {},
   "outputs": [
    {
     "data": {
      "text/plain": [
       "['AGER_TYP',\n",
       " 'ALTER_HH',\n",
       " 'ALTER_KIND1',\n",
       " 'ALTER_KIND2',\n",
       " 'ALTER_KIND3',\n",
       " 'ALTER_KIND4',\n",
       " 'EXTSEL992',\n",
       " 'KBA05_BAUMAX',\n",
       " 'KK_KUNDENTYP',\n",
       " 'TITEL_KZ']"
      ]
     },
     "execution_count": 136,
     "metadata": {},
     "output_type": "execute_result"
    }
   ],
   "source": [
    "# columns to drop\n",
    "columns_dropped = azdias_perc[azdias_perc > 30].index.tolist()\n",
    "columns_dropped"
   ]
  },
  {
   "cell_type": "code",
   "execution_count": 137,
   "metadata": {},
   "outputs": [],
   "source": [
    "azdias.drop(columns=columns_dropped, inplace=True)\n",
    "customers.drop(columns=columns_dropped, inplace=True)"
   ]
  },
  {
   "cell_type": "code",
   "execution_count": 138,
   "metadata": {},
   "outputs": [
    {
     "name": "stdout",
     "output_type": "stream",
     "text": [
      "Customer features: 359\n",
      "Azdias features: 356\n"
     ]
    }
   ],
   "source": [
    "print(f'Customer features: {customers.shape[1]}')\n",
    "print(f'Azdias features: {azdias.shape[1]}')"
   ]
  },
  {
   "cell_type": "code",
   "execution_count": 140,
   "metadata": {},
   "outputs": [
    {
     "name": "stdout",
     "output_type": "stream",
     "text": [
      "Total columns dropped: 10\n"
     ]
    }
   ],
   "source": [
    "print(f'Total columns dropped: {len(columns_dropped)}')"
   ]
  },
  {
   "cell_type": "markdown",
   "metadata": {},
   "source": [
    "#### Rows to drop"
   ]
  },
  {
   "cell_type": "code",
   "execution_count": 141,
   "metadata": {},
   "outputs": [
    {
     "name": "stdout",
     "output_type": "stream",
     "text": [
      "CPU times: user 9.93 s, sys: 6.58 s, total: 16.5 s\n",
      "Wall time: 5min 15s\n"
     ]
    }
   ],
   "source": [
    "%%time\n",
    "customers_perc_rows = percent_of_nan(customers, 1)\n",
    "azdias_perc_rows = percent_of_nan(azdias, 1)"
   ]
  },
  {
   "cell_type": "code",
   "execution_count": 142,
   "metadata": {},
   "outputs": [
    {
     "data": {
      "image/png": "[encoded data removed]",
      "text/plain": [
       "<matplotlib.figure.Figure at 0x7ff0391705f8>"
      ]
     },
     "metadata": {
      "needs_background": "light"
     },
     "output_type": "display_data"
    }
   ],
   "source": [
    "plt.hist(azdias_perc_rows, bins, alpha=0.5, label='azdias')\n",
    "plt.hist(customers_perc_rows, bins, alpha=0.5, label='customers')\n",
    "plt.legend(loc='upper right')\n",
    "plt.title(\"Histogram of NaN values in each row\")\n",
    "plt.xlabel(\"Percent\")\n",
    "plt.ylabel(\"Number of Rows\")\n",
    "plt.show()"
   ]
  },
  {
   "cell_type": "markdown",
   "metadata": {},
   "source": [
    "Again I think 30% will be a good cut-off for the percent of nan values in each row. It looks like there's a lot of rows that have over 60% of values that are nan. The customers dataframe looks to have a much higher ratio of these."
   ]
  },
  {
   "cell_type": "code",
   "execution_count": 150,
   "metadata": {},
   "outputs": [
    {
     "name": "stdout",
     "output_type": "stream",
     "text": [
      "CPU times: user 5.53 s, sys: 13.2 s, total: 18.8 s\n",
      "Wall time: 9min 23s\n"
     ]
    }
   ],
   "source": [
    "%%time\n",
    "customers = customers.loc[customers_perc_rows[customers_perc_rows <= 30].index, :].copy()\n",
    "azdias = azdias.loc[azdias_perc_rows[azdias_perc_rows <= 30].index, :].copy()"
   ]
  },
  {
   "cell_type": "code",
   "execution_count": 151,
   "metadata": {},
   "outputs": [
    {
     "name": "stdout",
     "output_type": "stream",
     "text": [
      "Azdias Number of Rows: 785420\n",
      "Azdias Number of Columns: 356\n",
      "Customers Number of Rows: 140371\n",
      "Customers Number of Columns: 359\n"
     ]
    }
   ],
   "source": [
    "print(f'Azdias Number of Rows: {azdias.shape[0]}')\n",
    "print(f'Azdias Number of Columns: {azdias.shape[1]}')\n",
    "print(f'Customers Number of Rows: {customers.shape[0]}')\n",
    "print(f'Customers Number of Columns: {customers.shape[1]}')"
   ]
  },
  {
   "cell_type": "markdown",
   "metadata": {},
   "source": [
    "### Processsing Each Feature"
   ]
  },
  {
   "cell_type": "markdown",
   "metadata": {},
   "source": [
    "We can now look at the two columns we were warned about when loading the csv files, since they weren't deleted based on number of nan values"
   ]
  },
  {
   "cell_type": "code",
   "execution_count": 154,
   "metadata": {},
   "outputs": [
    {
     "data": {
      "text/plain": [
       "Index(['8', '9', '6', '4', 8.0, '3', '2', 9.0, '7', 6.0, 4.0, 3.0, 2.0, 7.0,\n",
       "       '5', 5.0, '1', 1.0, 'X'],\n",
       "      dtype='object')"
      ]
     },
     "execution_count": 154,
     "metadata": {},
     "output_type": "execute_result"
    }
   ],
   "source": [
    "azdias['CAMEO_DEUG_2015'].value_counts().index"
   ]
  },
  {
   "cell_type": "markdown",
   "metadata": {},
   "source": [
    "CAMEO_DEUG_2015 has interger, float and string values. We just want numbers 1 through 9 so we'll remove the X values and change all to float"
   ]
  },
  {
   "cell_type": "code",
   "execution_count": 156,
   "metadata": {},
   "outputs": [],
   "source": [
    "def CAMEO_DEUG_2015_processing(df):\n",
    "    \"\"\"\n",
    "    Drops rows with values 'X', changes type to float\n",
    "    \n",
    "    Attr:\n",
    "        df (DataFrame) : DataFrame to be processed\n",
    "        \n",
    "    Returns:\n",
    "        df (DataFrame) : DataFrame with two newly created columns and one orginal dropped.\n",
    "    \"\"\"\n",
    "    \n",
    "    df = df.loc[df['CAMEO_DEUG_2015'] != \"X\"].copy()\n",
    "    df['CAMEO_DEUG_2015'] = df['CAMEO_DEUG_2015'].astype(float)\n",
    "    \n",
    "    return df   "
   ]
  },
  {
   "cell_type": "code",
   "execution_count": 157,
   "metadata": {},
   "outputs": [],
   "source": [
    "customers = CAMEO_DEUG_2015_processing(customers)\n",
    "azdias = CAMEO_DEUG_2015_processing(azdias)"
   ]
  },
  {
   "cell_type": "code",
   "execution_count": 155,
   "metadata": {},
   "outputs": [
    {
     "data": {
      "text/plain": [
       "Index(['51', 51.0, '41', '24', 41.0, 24.0, '14', '43', 14.0, '54', 43.0, '25',\n",
       "       54.0, '22', 25.0, '23', '13', '45', 22.0, '55', '52', 13.0, 45.0, 23.0,\n",
       "       '31', '34', 55.0, '15', 52.0, '44', 31.0, 34.0, '12', 15.0, 44.0, '35',\n",
       "       '32', '33', 12.0, 32.0, 35.0, 33.0, 'XX'],\n",
       "      dtype='object')"
      ]
     },
     "execution_count": 155,
     "metadata": {},
     "output_type": "execute_result"
    }
   ],
   "source": [
    "azdias['CAMEO_INTL_2015'].value_counts().index"
   ]
  },
  {
   "cell_type": "markdown",
   "metadata": {},
   "source": [
    "CAMEO_INTL_2015 doesn't match an Attribute in the excel DIAS Attribute - Values file. There is however a CAMEO_DEUINTL_2015, where the data looks very similar to these values. Instead of simply dropping this feature we'll assume the values match CAMEO_DEUINTL_2015."
   ]
  },
  {
   "cell_type": "code",
   "execution_count": 158,
   "metadata": {},
   "outputs": [],
   "source": [
    "def CAMEO_INTL_2015_processing(df):\n",
    "    \"\"\"\n",
    "    Looks to match CAMEO_DEUINTL_2015 in DIAS Attributes. \n",
    "    splits the column into two by using the first and second digits\n",
    "    to denote the family home type and level of household wealth (affluency)\n",
    "    \n",
    "    Attr:\n",
    "        df (DataFrame) : DataFrame to be processed\n",
    "        \n",
    "    Returns:\n",
    "        df (DataFrame) : DataFrame with two newly created columns and one orginal dropped.\n",
    "    \"\"\"\n",
    "    \n",
    "    df = df.loc[df['CAMEO_INTL_2015'] != \"XX\"].copy()\n",
    "    df['AFFLUENCY'] = df['CAMEO_INTL_2015'].str[:1].astype(float)\n",
    "    df['FAMILY_TYPE'] = df['CAMEO_INTL_2015'].str[1:2].astype(float)\n",
    "    df.drop(columns=['CAMEO_INTL_2015'], inplace=True)\n",
    "    \n",
    "    return df"
   ]
  },
  {
   "cell_type": "code",
   "execution_count": 159,
   "metadata": {},
   "outputs": [],
   "source": [
    "customers = CAMEO_INTL_2015_processing(customers)\n",
    "azdias = CAMEO_INTL_2015_processing(azdias)"
   ]
  },
  {
   "cell_type": "markdown",
   "metadata": {},
   "source": [
    "#### Features not referenced in DIAS Attributes - Values"
   ]
  },
  {
   "cell_type": "code",
   "execution_count": 72,
   "metadata": {},
   "outputs": [
    {
     "name": "stdout",
     "output_type": "stream",
     "text": [
      "CPU times: user 1min 4s, sys: 18.5 s, total: 1min 23s\n",
      "Wall time: 14min\n"
     ]
    }
   ],
   "source": [
    "%%time\n",
    "\n",
    "# CHECKPOINT SAVE/LOAD PROGRESS\n",
    "\n",
    "# SAVE\n",
    "#customers.to_csv(\"customers_dropped_nans.csv\", index=False)\n",
    "#azdias.to_csv(\"azdias_dropped_nans.csv\", index=False)\n",
    "\n",
    "# LOAD\n",
    "azdias = pd.read_csv('azdias_dropped_nans.csv')\n",
    "customers = pd.read_csv('customers_dropped_nans.csv')\n",
    "\n",
    "attr_values = pd.read_excel(\"DIAS Attributes - Values 2017.xlsx\")\n",
    "attribute_desc = pd.read_excel(\"DIAS Information Levels - Attributes 2017.xlsx\")"
   ]
  },
  {
   "cell_type": "code",
   "execution_count": 5,
   "metadata": {},
   "outputs": [],
   "source": [
    "# get a list of all the attributes that are mentioned in the DIAS Attributes Excel file\n",
    "DIAS_attributes = attr_values.Attribute.value_counts().index.tolist()"
   ]
  },
  {
   "cell_type": "code",
   "execution_count": 74,
   "metadata": {},
   "outputs": [],
   "source": [
    "unlabled_attributes = []\n",
    "for column in azdias.columns:\n",
    "    if column not in DIAS_attributes:\n",
    "        unlabled_attributes.append(column)"
   ]
  },
  {
   "cell_type": "code",
   "execution_count": 6,
   "metadata": {},
   "outputs": [],
   "source": [
    "# value_counts doesn't include nan values which is the preferred reason to using unique()\n",
    "attribute_name = []\n",
    "n_unique_values = []\n",
    "unique_values = []\n",
    "\n",
    "for column in azdias.columns:\n",
    "    attribute_name.append(column)\n",
    "    n_unique_values.append(len(azdias[column].value_counts().index))\n",
    "    unique_values.append(azdias[column].value_counts().index.tolist())\n",
    "    \n",
    "attribute_info = pd.DataFrame({'ATTRIBUTE':attribute_name,\n",
    "                              'NUM_VALUES':n_unique_values,\n",
    "                              'VALUES':unique_values})"
   ]
  },
  {
   "cell_type": "markdown",
   "metadata": {},
   "source": [
    "We'll create a DataFrame that holds the number of unique values."
   ]
  },
  {
   "cell_type": "code",
   "execution_count": 7,
   "metadata": {},
   "outputs": [
    {
     "data": {
      "text/html": [
       "<div>\n",
       "<style scoped>\n",
       "    .dataframe tbody tr th:only-of-type {\n",
       "        vertical-align: middle;\n",
       "    }\n",
       "\n",
       "    .dataframe tbody tr th {\n",
       "        vertical-align: top;\n",
       "    }\n",
       "\n",
       "    .dataframe thead th {\n",
       "        text-align: right;\n",
       "    }\n",
       "</style>\n",
       "<table border=\"1\" class=\"dataframe\">\n",
       "  <thead>\n",
       "    <tr style=\"text-align: right;\">\n",
       "      <th></th>\n",
       "      <th>ATTRIBUTE</th>\n",
       "      <th>NUM_VALUES</th>\n",
       "      <th>VALUES</th>\n",
       "    </tr>\n",
       "  </thead>\n",
       "  <tbody>\n",
       "    <tr>\n",
       "      <th>78</th>\n",
       "      <td>EINGEFUEGT_AM</td>\n",
       "      <td>4461</td>\n",
       "      <td>[1992-02-10, 1992-02-12, 1995-02-07, 2005-12-1...</td>\n",
       "    </tr>\n",
       "    <tr>\n",
       "      <th>79</th>\n",
       "      <td>EINGEZOGENAM_HH_JAHR</td>\n",
       "      <td>37</td>\n",
       "      <td>[1994, 1997, 2004, 2015, 2014, 2001, 2008, 200...</td>\n",
       "    </tr>\n",
       "    <tr>\n",
       "      <th>91</th>\n",
       "      <td>GEBURTSJAHR</td>\n",
       "      <td>117</td>\n",
       "      <td>[0, 1967, 1965, 1966, 1970, 1968, 1964, 1963, ...</td>\n",
       "    </tr>\n",
       "    <tr>\n",
       "      <th>170</th>\n",
       "      <td>KBA13_ANZAHL_PKW</td>\n",
       "      <td>1261</td>\n",
       "      <td>[1400, 1500, 1300, 1600, 1700, 1800, 417, 464,...</td>\n",
       "    </tr>\n",
       "    <tr>\n",
       "      <th>285</th>\n",
       "      <td>MIN_GEBAEUDEJAHR</td>\n",
       "      <td>29</td>\n",
       "      <td>[1992, 1994, 1993, 1995, 1996, 1997, 2000, 199...</td>\n",
       "    </tr>\n",
       "  </tbody>\n",
       "</table>\n",
       "</div>"
      ],
      "text/plain": [
       "                ATTRIBUTE  NUM_VALUES  \\\n",
       "78          EINGEFUEGT_AM        4461   \n",
       "79   EINGEZOGENAM_HH_JAHR          37   \n",
       "91            GEBURTSJAHR         117   \n",
       "170      KBA13_ANZAHL_PKW        1261   \n",
       "285      MIN_GEBAEUDEJAHR          29   \n",
       "\n",
       "                                                VALUES  \n",
       "78   [1992-02-10, 1992-02-12, 1995-02-07, 2005-12-1...  \n",
       "79   [1994, 1997, 2004, 2015, 2014, 2001, 2008, 200...  \n",
       "91   [0, 1967, 1965, 1966, 1970, 1968, 1964, 1963, ...  \n",
       "170  [1400, 1500, 1300, 1600, 1700, 1800, 417, 464,...  \n",
       "285  [1992, 1994, 1993, 1995, 1996, 1997, 2000, 199...  "
      ]
     },
     "execution_count": 7,
     "metadata": {},
     "output_type": "execute_result"
    }
   ],
   "source": [
    "attribute_info[attribute_info.NUM_VALUES > 10]"
   ]
  },
  {
   "cell_type": "code",
   "execution_count": 77,
   "metadata": {},
   "outputs": [],
   "source": [
    "def process_cols(df):\n",
    "    \n",
    "    df['ANZ_HH_TITEL'] = df['ANZ_HH_TITEL'].apply(lambda x: 0.0 if x == 0.0 else 1.0)\n",
    "    df['ANZ_PERSONEN'] = df['ANZ_PERSONEN'].apply(lambda x: 4 if x > 3 else x)\n",
    "    df['EINGEFUEGT_AM'] = pd.to_datetime(df['EINGEFUEGT_AM'])\n",
    "    df['EINGEZOGENAM_HH_JAHR'] = df['EINGEZOGENAM_HH_JAHR'].astype(int)\n",
    "    df['GEBURTSJAHR'] = df['GEBURTSJAHR'].astype(int) # date of birth\n",
    "    df['KBA13_ANZAHL_PKW'] = df['KBA13_ANZAHL_PKW'].astype(int) # cars in the area\n",
    "    df['MIN_GEBAEUDEJAHR'] = df['MIN_GEBAEUDEJAHR'].astype(int) # year building mentioned in db\n",
    "    \n",
    "    return df"
   ]
  },
  {
   "cell_type": "code",
   "execution_count": 78,
   "metadata": {},
   "outputs": [],
   "source": [
    "customers = process_cols(customers)\n",
    "azdias = process_cols(azdias)"
   ]
  },
  {
   "cell_type": "code",
   "execution_count": 79,
   "metadata": {},
   "outputs": [
    {
     "data": {
      "text/plain": [
       "Index(['ALTERSKATEGORIE_FEIN', 'ANZ_HAUSHALTE_AKTIV', 'ANZ_HH_TITEL',\n",
       "       'ANZ_KINDER', 'ANZ_PERSONEN', 'ANZ_STATISTISCHE_HAUSHALTE',\n",
       "       'D19_BANKEN_ONLINE_QUOTE_12', 'D19_GESAMT_ONLINE_QUOTE_12',\n",
       "       'D19_VERSAND_ONLINE_QUOTE_12', 'GFK_URLAUBERTYP', 'LP_FAMILIE_FEIN',\n",
       "       'LP_LEBENSPHASE_FEIN', 'LP_LEBENSPHASE_GROB', 'PRAEGENDE_JUGENDJAHRE',\n",
       "       'VERDICHTUNGSRAUM', 'VK_DHT4A', 'VK_DISTANZ', 'VK_ZG11'],\n",
       "      dtype='object')"
      ]
     },
     "execution_count": 79,
     "metadata": {},
     "output_type": "execute_result"
    }
   ],
   "source": [
    "attribute_types = azdias[attribute_info[attribute_info.NUM_VALUES > 10]['ATTRIBUTE'].values].dtypes\n",
    "cols_to_drop = attribute_types[attribute_types == 'float64'].index\n",
    "cols_to_drop"
   ]
  },
  {
   "cell_type": "code",
   "execution_count": 80,
   "metadata": {},
   "outputs": [],
   "source": [
    "azdias.drop(columns=cols_to_drop, inplace=True)\n",
    "customers.drop(columns=cols_to_drop, inplace=True)"
   ]
  },
  {
   "cell_type": "code",
   "execution_count": 81,
   "metadata": {},
   "outputs": [],
   "source": [
    "azdias.drop(columns=['LNR'], inplace=True)\n",
    "customers.drop(columns=['LNR'], inplace=True)"
   ]
  },
  {
   "cell_type": "code",
   "execution_count": 82,
   "metadata": {},
   "outputs": [],
   "source": [
    "# percent of nan values\n",
    "customers_nan_percent = customers.isna().mean().round(4).sort_values()*100\n",
    "azdias_nan_percent = azdias.isna().mean().round(4).sort_values()*100"
   ]
  },
  {
   "cell_type": "code",
   "execution_count": 83,
   "metadata": {},
   "outputs": [
    {
     "data": {
      "image/png": "[encoded data removed]",
      "text/plain": [
       "<matplotlib.figure.Figure at 0x7f50d9c0e9e8>"
      ]
     },
     "metadata": {
      "needs_background": "light"
     },
     "output_type": "display_data"
    }
   ],
   "source": [
    "plt.hist(azdias_nan_percent, alpha=0.5, label='azdias')\n",
    "plt.hist(customers_nan_percent, alpha=0.5, label='customers')\n",
    "plt.legend(loc='upper right')\n",
    "plt.title(\"Histogram of NaN values in each Attribute\")\n",
    "plt.xlabel(\"Percent\")\n",
    "plt.ylabel(\"Number of Attributes\")\n",
    "plt.show()"
   ]
  },
  {
   "cell_type": "markdown",
   "metadata": {},
   "source": [
    "Most attributes have less than 10% values that are nan."
   ]
  },
  {
   "cell_type": "code",
   "execution_count": 84,
   "metadata": {},
   "outputs": [],
   "source": [
    "customers.drop(columns=['CAMEO_DEU_2015'], inplace=True)\n",
    "azdias.drop(columns=['CAMEO_DEU_2015'], inplace=True)\n",
    "\n",
    "customers.drop(columns=['D19_LETZTER_KAUF_BRANCHE'], inplace=True)\n",
    "azdias.drop(columns=['D19_LETZTER_KAUF_BRANCHE'], inplace=True)"
   ]
  },
  {
   "cell_type": "code",
   "execution_count": 7,
   "metadata": {},
   "outputs": [],
   "source": [
    "attribute = []\n",
    "data_type = []\n",
    "for column in customers.columns:\n",
    "    attribute.append(column)\n",
    "    data_type.append(customers[column].dtype)"
   ]
  },
  {
   "cell_type": "code",
   "execution_count": 8,
   "metadata": {},
   "outputs": [
    {
     "data": {
      "text/html": [
       "<div>\n",
       "<style scoped>\n",
       "    .dataframe tbody tr th:only-of-type {\n",
       "        vertical-align: middle;\n",
       "    }\n",
       "\n",
       "    .dataframe tbody tr th {\n",
       "        vertical-align: top;\n",
       "    }\n",
       "\n",
       "    .dataframe thead th {\n",
       "        text-align: right;\n",
       "    }\n",
       "</style>\n",
       "<table border=\"1\" class=\"dataframe\">\n",
       "  <thead>\n",
       "    <tr style=\"text-align: right;\">\n",
       "      <th></th>\n",
       "      <th>Attr</th>\n",
       "      <th>dtype</th>\n",
       "    </tr>\n",
       "  </thead>\n",
       "  <tbody>\n",
       "    <tr>\n",
       "      <th>0</th>\n",
       "      <td>AKT_DAT_KL</td>\n",
       "      <td>float64</td>\n",
       "    </tr>\n",
       "    <tr>\n",
       "      <th>1</th>\n",
       "      <td>ANZ_TITEL</td>\n",
       "      <td>float64</td>\n",
       "    </tr>\n",
       "    <tr>\n",
       "      <th>2</th>\n",
       "      <td>ARBEIT</td>\n",
       "      <td>float64</td>\n",
       "    </tr>\n",
       "    <tr>\n",
       "      <th>3</th>\n",
       "      <td>BALLRAUM</td>\n",
       "      <td>float64</td>\n",
       "    </tr>\n",
       "    <tr>\n",
       "      <th>4</th>\n",
       "      <td>CAMEO_DEUG_2015</td>\n",
       "      <td>float64</td>\n",
       "    </tr>\n",
       "  </tbody>\n",
       "</table>\n",
       "</div>"
      ],
      "text/plain": [
       "              Attr    dtype\n",
       "0       AKT_DAT_KL  float64\n",
       "1        ANZ_TITEL  float64\n",
       "2           ARBEIT  float64\n",
       "3         BALLRAUM  float64\n",
       "4  CAMEO_DEUG_2015  float64"
      ]
     },
     "execution_count": 8,
     "metadata": {},
     "output_type": "execute_result"
    }
   ],
   "source": [
    "attr_types = pd.DataFrame({'Attr':attribute,\n",
    "                           'dtype':data_type})\n",
    "attr_types.head()"
   ]
  },
  {
   "cell_type": "code",
   "execution_count": 5,
   "metadata": {},
   "outputs": [
    {
     "data": {
      "text/plain": [
       "float64    245\n",
       "int64       90\n",
       "object       4\n",
       "Name: dtype, dtype: int64"
      ]
     },
     "execution_count": 5,
     "metadata": {},
     "output_type": "execute_result"
    }
   ],
   "source": [
    "attr_types.dtype.value_counts()"
   ]
  },
  {
   "cell_type": "code",
   "execution_count": 95,
   "metadata": {},
   "outputs": [
    {
     "data": {
      "text/html": [
       "<div>\n",
       "<style scoped>\n",
       "    .dataframe tbody tr th:only-of-type {\n",
       "        vertical-align: middle;\n",
       "    }\n",
       "\n",
       "    .dataframe tbody tr th {\n",
       "        vertical-align: top;\n",
       "    }\n",
       "\n",
       "    .dataframe thead th {\n",
       "        text-align: right;\n",
       "    }\n",
       "</style>\n",
       "<table border=\"1\" class=\"dataframe\">\n",
       "  <thead>\n",
       "    <tr style=\"text-align: right;\">\n",
       "      <th></th>\n",
       "      <th>D19_BANKEN_ANZ_12</th>\n",
       "      <th>D19_BANKEN_ANZ_24</th>\n",
       "      <th>D19_BANKEN_DATUM</th>\n",
       "      <th>D19_BANKEN_DIREKT</th>\n",
       "      <th>D19_BANKEN_GROSS</th>\n",
       "      <th>D19_BANKEN_LOKAL</th>\n",
       "      <th>D19_BANKEN_OFFLINE_DATUM</th>\n",
       "      <th>D19_BANKEN_ONLINE_DATUM</th>\n",
       "      <th>D19_BANKEN_REST</th>\n",
       "      <th>D19_BEKLEIDUNG_GEH</th>\n",
       "      <th>...</th>\n",
       "      <th>SEMIO_PFLICHT</th>\n",
       "      <th>SEMIO_RAT</th>\n",
       "      <th>SEMIO_REL</th>\n",
       "      <th>SEMIO_SOZ</th>\n",
       "      <th>SEMIO_TRADV</th>\n",
       "      <th>SEMIO_VERT</th>\n",
       "      <th>ZABEOTYP</th>\n",
       "      <th>ONLINE_PURCHASE</th>\n",
       "      <th>ANREDE_KZ</th>\n",
       "      <th>ALTERSKATEGORIE_GROB</th>\n",
       "    </tr>\n",
       "  </thead>\n",
       "  <tbody>\n",
       "    <tr>\n",
       "      <th>0</th>\n",
       "      <td>0</td>\n",
       "      <td>0</td>\n",
       "      <td>10</td>\n",
       "      <td>0</td>\n",
       "      <td>0</td>\n",
       "      <td>0</td>\n",
       "      <td>10</td>\n",
       "      <td>10</td>\n",
       "      <td>0</td>\n",
       "      <td>0</td>\n",
       "      <td>...</td>\n",
       "      <td>2</td>\n",
       "      <td>1</td>\n",
       "      <td>2</td>\n",
       "      <td>6</td>\n",
       "      <td>1</td>\n",
       "      <td>6</td>\n",
       "      <td>3</td>\n",
       "      <td>0</td>\n",
       "      <td>1</td>\n",
       "      <td>4</td>\n",
       "    </tr>\n",
       "    <tr>\n",
       "      <th>1</th>\n",
       "      <td>0</td>\n",
       "      <td>0</td>\n",
       "      <td>10</td>\n",
       "      <td>0</td>\n",
       "      <td>0</td>\n",
       "      <td>0</td>\n",
       "      <td>10</td>\n",
       "      <td>10</td>\n",
       "      <td>0</td>\n",
       "      <td>0</td>\n",
       "      <td>...</td>\n",
       "      <td>4</td>\n",
       "      <td>2</td>\n",
       "      <td>1</td>\n",
       "      <td>2</td>\n",
       "      <td>1</td>\n",
       "      <td>3</td>\n",
       "      <td>3</td>\n",
       "      <td>0</td>\n",
       "      <td>2</td>\n",
       "      <td>4</td>\n",
       "    </tr>\n",
       "    <tr>\n",
       "      <th>2</th>\n",
       "      <td>0</td>\n",
       "      <td>0</td>\n",
       "      <td>10</td>\n",
       "      <td>0</td>\n",
       "      <td>0</td>\n",
       "      <td>0</td>\n",
       "      <td>10</td>\n",
       "      <td>10</td>\n",
       "      <td>0</td>\n",
       "      <td>0</td>\n",
       "      <td>...</td>\n",
       "      <td>3</td>\n",
       "      <td>3</td>\n",
       "      <td>3</td>\n",
       "      <td>6</td>\n",
       "      <td>4</td>\n",
       "      <td>7</td>\n",
       "      <td>1</td>\n",
       "      <td>0</td>\n",
       "      <td>1</td>\n",
       "      <td>4</td>\n",
       "    </tr>\n",
       "    <tr>\n",
       "      <th>3</th>\n",
       "      <td>1</td>\n",
       "      <td>2</td>\n",
       "      <td>3</td>\n",
       "      <td>5</td>\n",
       "      <td>0</td>\n",
       "      <td>3</td>\n",
       "      <td>10</td>\n",
       "      <td>7</td>\n",
       "      <td>0</td>\n",
       "      <td>0</td>\n",
       "      <td>...</td>\n",
       "      <td>5</td>\n",
       "      <td>5</td>\n",
       "      <td>4</td>\n",
       "      <td>4</td>\n",
       "      <td>4</td>\n",
       "      <td>5</td>\n",
       "      <td>1</td>\n",
       "      <td>0</td>\n",
       "      <td>1</td>\n",
       "      <td>3</td>\n",
       "    </tr>\n",
       "    <tr>\n",
       "      <th>4</th>\n",
       "      <td>0</td>\n",
       "      <td>0</td>\n",
       "      <td>10</td>\n",
       "      <td>0</td>\n",
       "      <td>0</td>\n",
       "      <td>0</td>\n",
       "      <td>10</td>\n",
       "      <td>10</td>\n",
       "      <td>0</td>\n",
       "      <td>0</td>\n",
       "      <td>...</td>\n",
       "      <td>3</td>\n",
       "      <td>2</td>\n",
       "      <td>4</td>\n",
       "      <td>6</td>\n",
       "      <td>4</td>\n",
       "      <td>7</td>\n",
       "      <td>2</td>\n",
       "      <td>0</td>\n",
       "      <td>1</td>\n",
       "      <td>3</td>\n",
       "    </tr>\n",
       "  </tbody>\n",
       "</table>\n",
       "<p>5 rows × 90 columns</p>\n",
       "</div>"
      ],
      "text/plain": [
       "   D19_BANKEN_ANZ_12  D19_BANKEN_ANZ_24  D19_BANKEN_DATUM  D19_BANKEN_DIREKT  \\\n",
       "0                  0                  0                10                  0   \n",
       "1                  0                  0                10                  0   \n",
       "2                  0                  0                10                  0   \n",
       "3                  1                  2                 3                  5   \n",
       "4                  0                  0                10                  0   \n",
       "\n",
       "   D19_BANKEN_GROSS  D19_BANKEN_LOKAL  D19_BANKEN_OFFLINE_DATUM  \\\n",
       "0                 0                 0                        10   \n",
       "1                 0                 0                        10   \n",
       "2                 0                 0                        10   \n",
       "3                 0                 3                        10   \n",
       "4                 0                 0                        10   \n",
       "\n",
       "   D19_BANKEN_ONLINE_DATUM  D19_BANKEN_REST  D19_BEKLEIDUNG_GEH  \\\n",
       "0                       10                0                   0   \n",
       "1                       10                0                   0   \n",
       "2                       10                0                   0   \n",
       "3                        7                0                   0   \n",
       "4                       10                0                   0   \n",
       "\n",
       "           ...           SEMIO_PFLICHT  SEMIO_RAT  SEMIO_REL  SEMIO_SOZ  \\\n",
       "0          ...                       2          1          2          6   \n",
       "1          ...                       4          2          1          2   \n",
       "2          ...                       3          3          3          6   \n",
       "3          ...                       5          5          4          4   \n",
       "4          ...                       3          2          4          6   \n",
       "\n",
       "   SEMIO_TRADV  SEMIO_VERT  ZABEOTYP  ONLINE_PURCHASE  ANREDE_KZ  \\\n",
       "0            1           6         3                0          1   \n",
       "1            1           3         3                0          2   \n",
       "2            4           7         1                0          1   \n",
       "3            4           5         1                0          1   \n",
       "4            4           7         2                0          1   \n",
       "\n",
       "   ALTERSKATEGORIE_GROB  \n",
       "0                     4  \n",
       "1                     4  \n",
       "2                     4  \n",
       "3                     3  \n",
       "4                     3  \n",
       "\n",
       "[5 rows x 90 columns]"
      ]
     },
     "execution_count": 95,
     "metadata": {},
     "output_type": "execute_result"
    }
   ],
   "source": [
    "customers[attr_types[attr_types['dtype'] == 'int']['Attr'].values]"
   ]
  },
  {
   "cell_type": "code",
   "execution_count": 96,
   "metadata": {},
   "outputs": [
    {
     "data": {
      "text/html": [
       "<div>\n",
       "<style scoped>\n",
       "    .dataframe tbody tr th:only-of-type {\n",
       "        vertical-align: middle;\n",
       "    }\n",
       "\n",
       "    .dataframe tbody tr th {\n",
       "        vertical-align: top;\n",
       "    }\n",
       "\n",
       "    .dataframe thead th {\n",
       "        text-align: right;\n",
       "    }\n",
       "</style>\n",
       "<table border=\"1\" class=\"dataframe\">\n",
       "  <thead>\n",
       "    <tr style=\"text-align: right;\">\n",
       "      <th></th>\n",
       "      <th>AKT_DAT_KL</th>\n",
       "      <th>ANZ_TITEL</th>\n",
       "      <th>ARBEIT</th>\n",
       "      <th>BALLRAUM</th>\n",
       "      <th>CAMEO_DEUG_2015</th>\n",
       "      <th>CJT_GESAMTTYP</th>\n",
       "      <th>CJT_KATALOGNUTZER</th>\n",
       "      <th>CJT_TYP_1</th>\n",
       "      <th>CJT_TYP_2</th>\n",
       "      <th>CJT_TYP_3</th>\n",
       "      <th>...</th>\n",
       "      <th>WOHNDAUER_2008</th>\n",
       "      <th>WOHNLAGE</th>\n",
       "      <th>ZABEOTYP</th>\n",
       "      <th>PRODUCT_GROUP</th>\n",
       "      <th>CUSTOMER_GROUP</th>\n",
       "      <th>ONLINE_PURCHASE</th>\n",
       "      <th>ANREDE_KZ</th>\n",
       "      <th>ALTERSKATEGORIE_GROB</th>\n",
       "      <th>AFFLUENCY</th>\n",
       "      <th>FAMILY_TYPE</th>\n",
       "    </tr>\n",
       "  </thead>\n",
       "  <tbody>\n",
       "    <tr>\n",
       "      <th>0</th>\n",
       "      <td>1.0</td>\n",
       "      <td>0.0</td>\n",
       "      <td>1.0</td>\n",
       "      <td>3.0</td>\n",
       "      <td>1.0</td>\n",
       "      <td>5.0</td>\n",
       "      <td>4.0</td>\n",
       "      <td>1.0</td>\n",
       "      <td>1.0</td>\n",
       "      <td>5.0</td>\n",
       "      <td>...</td>\n",
       "      <td>9.0</td>\n",
       "      <td>7.0</td>\n",
       "      <td>3</td>\n",
       "      <td>COSMETIC_AND_FOOD</td>\n",
       "      <td>MULTI_BUYER</td>\n",
       "      <td>0</td>\n",
       "      <td>1</td>\n",
       "      <td>4</td>\n",
       "      <td>NaN</td>\n",
       "      <td>NaN</td>\n",
       "    </tr>\n",
       "    <tr>\n",
       "      <th>1</th>\n",
       "      <td>1.0</td>\n",
       "      <td>0.0</td>\n",
       "      <td>3.0</td>\n",
       "      <td>7.0</td>\n",
       "      <td>5.0</td>\n",
       "      <td>2.0</td>\n",
       "      <td>5.0</td>\n",
       "      <td>2.0</td>\n",
       "      <td>2.0</td>\n",
       "      <td>5.0</td>\n",
       "      <td>...</td>\n",
       "      <td>9.0</td>\n",
       "      <td>2.0</td>\n",
       "      <td>3</td>\n",
       "      <td>COSMETIC_AND_FOOD</td>\n",
       "      <td>MULTI_BUYER</td>\n",
       "      <td>0</td>\n",
       "      <td>2</td>\n",
       "      <td>4</td>\n",
       "      <td>NaN</td>\n",
       "      <td>NaN</td>\n",
       "    </tr>\n",
       "    <tr>\n",
       "      <th>2</th>\n",
       "      <td>1.0</td>\n",
       "      <td>0.0</td>\n",
       "      <td>1.0</td>\n",
       "      <td>7.0</td>\n",
       "      <td>4.0</td>\n",
       "      <td>2.0</td>\n",
       "      <td>5.0</td>\n",
       "      <td>1.0</td>\n",
       "      <td>1.0</td>\n",
       "      <td>5.0</td>\n",
       "      <td>...</td>\n",
       "      <td>9.0</td>\n",
       "      <td>7.0</td>\n",
       "      <td>1</td>\n",
       "      <td>COSMETIC</td>\n",
       "      <td>MULTI_BUYER</td>\n",
       "      <td>0</td>\n",
       "      <td>1</td>\n",
       "      <td>4</td>\n",
       "      <td>NaN</td>\n",
       "      <td>NaN</td>\n",
       "    </tr>\n",
       "    <tr>\n",
       "      <th>3</th>\n",
       "      <td>1.0</td>\n",
       "      <td>0.0</td>\n",
       "      <td>3.0</td>\n",
       "      <td>3.0</td>\n",
       "      <td>7.0</td>\n",
       "      <td>6.0</td>\n",
       "      <td>4.0</td>\n",
       "      <td>3.0</td>\n",
       "      <td>3.0</td>\n",
       "      <td>3.0</td>\n",
       "      <td>...</td>\n",
       "      <td>9.0</td>\n",
       "      <td>3.0</td>\n",
       "      <td>1</td>\n",
       "      <td>FOOD</td>\n",
       "      <td>MULTI_BUYER</td>\n",
       "      <td>0</td>\n",
       "      <td>1</td>\n",
       "      <td>3</td>\n",
       "      <td>NaN</td>\n",
       "      <td>NaN</td>\n",
       "    </tr>\n",
       "    <tr>\n",
       "      <th>4</th>\n",
       "      <td>1.0</td>\n",
       "      <td>0.0</td>\n",
       "      <td>3.0</td>\n",
       "      <td>7.0</td>\n",
       "      <td>5.0</td>\n",
       "      <td>4.0</td>\n",
       "      <td>3.0</td>\n",
       "      <td>1.0</td>\n",
       "      <td>1.0</td>\n",
       "      <td>5.0</td>\n",
       "      <td>...</td>\n",
       "      <td>9.0</td>\n",
       "      <td>1.0</td>\n",
       "      <td>2</td>\n",
       "      <td>COSMETIC_AND_FOOD</td>\n",
       "      <td>MULTI_BUYER</td>\n",
       "      <td>0</td>\n",
       "      <td>1</td>\n",
       "      <td>3</td>\n",
       "      <td>NaN</td>\n",
       "      <td>NaN</td>\n",
       "    </tr>\n",
       "  </tbody>\n",
       "</table>\n",
       "<p>5 rows × 339 columns</p>\n",
       "</div>"
      ],
      "text/plain": [
       "   AKT_DAT_KL  ANZ_TITEL  ARBEIT  BALLRAUM  CAMEO_DEUG_2015  CJT_GESAMTTYP  \\\n",
       "0         1.0        0.0     1.0       3.0              1.0            5.0   \n",
       "1         1.0        0.0     3.0       7.0              5.0            2.0   \n",
       "2         1.0        0.0     1.0       7.0              4.0            2.0   \n",
       "3         1.0        0.0     3.0       3.0              7.0            6.0   \n",
       "4         1.0        0.0     3.0       7.0              5.0            4.0   \n",
       "\n",
       "   CJT_KATALOGNUTZER  CJT_TYP_1  CJT_TYP_2  CJT_TYP_3     ...       \\\n",
       "0                4.0        1.0        1.0        5.0     ...        \n",
       "1                5.0        2.0        2.0        5.0     ...        \n",
       "2                5.0        1.0        1.0        5.0     ...        \n",
       "3                4.0        3.0        3.0        3.0     ...        \n",
       "4                3.0        1.0        1.0        5.0     ...        \n",
       "\n",
       "   WOHNDAUER_2008  WOHNLAGE  ZABEOTYP      PRODUCT_GROUP  CUSTOMER_GROUP  \\\n",
       "0             9.0       7.0         3  COSMETIC_AND_FOOD     MULTI_BUYER   \n",
       "1             9.0       2.0         3  COSMETIC_AND_FOOD     MULTI_BUYER   \n",
       "2             9.0       7.0         1           COSMETIC     MULTI_BUYER   \n",
       "3             9.0       3.0         1               FOOD     MULTI_BUYER   \n",
       "4             9.0       1.0         2  COSMETIC_AND_FOOD     MULTI_BUYER   \n",
       "\n",
       "   ONLINE_PURCHASE  ANREDE_KZ  ALTERSKATEGORIE_GROB  AFFLUENCY  FAMILY_TYPE  \n",
       "0                0          1                     4        NaN          NaN  \n",
       "1                0          2                     4        NaN          NaN  \n",
       "2                0          1                     4        NaN          NaN  \n",
       "3                0          1                     3        NaN          NaN  \n",
       "4                0          1                     3        NaN          NaN  \n",
       "\n",
       "[5 rows x 339 columns]"
      ]
     },
     "execution_count": 96,
     "metadata": {},
     "output_type": "execute_result"
    }
   ],
   "source": [
    "customers.head()"
   ]
  },
  {
   "cell_type": "code",
   "execution_count": 2,
   "metadata": {},
   "outputs": [
    {
     "name": "stdout",
     "output_type": "stream",
     "text": [
      "CPU times: user 45.4 s, sys: 9.11 s, total: 54.5 s\n",
      "Wall time: 5min 19s\n"
     ]
    }
   ],
   "source": [
    "%%time\n",
    "\n",
    "# CHECKPOINT SAVE/LOAD PROGRESS\n",
    "\n",
    "# SAVE\n",
    "#customers.to_csv(\"customers_dropped_nans.csv\", index=False)\n",
    "#azdias.to_csv(\"azdias_dropped_nans.csv\", index=False)\n",
    "\n",
    "# LOAD\n",
    "azdias = pd.read_csv('azdias_dropped_nans.csv')\n",
    "customers = pd.read_csv('customers_dropped_nans.csv')\n",
    "\n",
    "attr_values = pd.read_excel(\"DIAS Attributes - Values 2017.xlsx\")\n",
    "attribute_desc = pd.read_excel(\"DIAS Information Levels - Attributes 2017.xlsx\")"
   ]
  },
  {
   "cell_type": "code",
   "execution_count": 3,
   "metadata": {},
   "outputs": [],
   "source": [
    "import random\n",
    "import math"
   ]
  },
  {
   "cell_type": "code",
   "execution_count": 4,
   "metadata": {},
   "outputs": [
    {
     "data": {
      "image/png": "[encoded data removed]",
      "text/plain": [
       "<matplotlib.figure.Figure at 0x7f97c77b7c88>"
      ]
     },
     "metadata": {
      "needs_background": "light"
     },
     "output_type": "display_data"
    }
   ],
   "source": [
    "fig, axes = plt.subplots(nrows=3, ncols=3, figsize=(14,11))\n",
    "\n",
    "attribute_list = azdias.columns\n",
    "attribute_list = [attribute_list[random.randint(0, len(attribute_list)-1)] for i in range (9)]\n",
    "#print(attribute_list)\n",
    "for i, attribute in enumerate(attribute_list[:9]):\n",
    "    #print(attribute)\n",
    "    axes_0 = math.trunc(i/3)\n",
    "    axes_1 = i%3\n",
    "    ax = axes[axes_0,axes_1]\n",
    "    azdias[attribute].plot(ax = ax,alpha=0.5, kind='hist', label = attribute)\n",
    "    customers[attribute].plot(ax = ax,alpha=0.5, kind='hist', label = attribute)\n",
    "\n",
    "    ax.set_title(attribute)\n",
    "    if axes_1 != 0:\n",
    "        ax.get_yaxis().set_visible(False)\n",
    "    else:\n",
    "        ax.set_ylabel(\"Number of rows\")\n",
    "        ax.legend(loc=\"upper left\")\n"
   ]
  },
  {
   "cell_type": "code",
   "execution_count": 8,
   "metadata": {
    "scrolled": true
   },
   "outputs": [
    {
     "data": {
      "text/plain": [
       "6.0    249895\n",
       "5.0    199038\n",
       "4.0    137042\n",
       "3.0     81996\n",
       "2.0     64383\n",
       "1.0     52719\n",
       "Name: HH_EINKOMMEN_SCORE, dtype: int64"
      ]
     },
     "execution_count": 8,
     "metadata": {},
     "output_type": "execute_result"
    }
   ],
   "source": [
    "azdias.HH_EINKOMMEN_SCORE.value_counts()"
   ]
  },
  {
   "cell_type": "code",
   "execution_count": 10,
   "metadata": {},
   "outputs": [
    {
     "data": {
      "text/plain": [
       "['AKT_DAT_KL',\n",
       " 'ANZ_TITEL',\n",
       " 'ARBEIT',\n",
       " 'BALLRAUM',\n",
       " 'CAMEO_DEUG_2015',\n",
       " 'CJT_GESAMTTYP',\n",
       " 'CJT_KATALOGNUTZER',\n",
       " 'CJT_TYP_1',\n",
       " 'CJT_TYP_2',\n",
       " 'CJT_TYP_3',\n",
       " 'CJT_TYP_4',\n",
       " 'CJT_TYP_5',\n",
       " 'CJT_TYP_6',\n",
       " 'D19_BANKEN_ANZ_12',\n",
       " 'D19_BANKEN_ANZ_24',\n",
       " 'D19_BANKEN_DATUM',\n",
       " 'D19_BANKEN_DIREKT',\n",
       " 'D19_BANKEN_GROSS',\n",
       " 'D19_BANKEN_LOKAL',\n",
       " 'D19_BANKEN_OFFLINE_DATUM',\n",
       " 'D19_BANKEN_ONLINE_DATUM',\n",
       " 'D19_BANKEN_REST',\n",
       " 'D19_BEKLEIDUNG_GEH',\n",
       " 'D19_BEKLEIDUNG_REST',\n",
       " 'D19_BILDUNG',\n",
       " 'D19_BIO_OEKO',\n",
       " 'D19_BUCH_CD',\n",
       " 'D19_DIGIT_SERV',\n",
       " 'D19_DROGERIEARTIKEL',\n",
       " 'D19_ENERGIE',\n",
       " 'D19_FREIZEIT',\n",
       " 'D19_GARTEN',\n",
       " 'D19_GESAMT_ANZ_12',\n",
       " 'D19_GESAMT_ANZ_24',\n",
       " 'D19_GESAMT_DATUM',\n",
       " 'D19_GESAMT_OFFLINE_DATUM',\n",
       " 'D19_GESAMT_ONLINE_DATUM',\n",
       " 'D19_HANDWERK',\n",
       " 'D19_HAUS_DEKO',\n",
       " 'D19_KINDERARTIKEL',\n",
       " 'D19_KONSUMTYP',\n",
       " 'D19_KONSUMTYP_MAX',\n",
       " 'D19_KOSMETIK',\n",
       " 'D19_LEBENSMITTEL',\n",
       " 'D19_LOTTO',\n",
       " 'D19_NAHRUNGSERGAENZUNG',\n",
       " 'D19_RATGEBER',\n",
       " 'D19_REISEN',\n",
       " 'D19_SAMMELARTIKEL',\n",
       " 'D19_SCHUHE',\n",
       " 'D19_SONSTIGE',\n",
       " 'D19_SOZIALES',\n",
       " 'D19_TECHNIK',\n",
       " 'D19_TELKO_ANZ_12',\n",
       " 'D19_TELKO_ANZ_24',\n",
       " 'D19_TELKO_DATUM',\n",
       " 'D19_TELKO_MOBILE',\n",
       " 'D19_TELKO_OFFLINE_DATUM',\n",
       " 'D19_TELKO_ONLINE_DATUM',\n",
       " 'D19_TELKO_ONLINE_QUOTE_12',\n",
       " 'D19_TELKO_REST',\n",
       " 'D19_TIERARTIKEL',\n",
       " 'D19_VERSAND_ANZ_12',\n",
       " 'D19_VERSAND_ANZ_24',\n",
       " 'D19_VERSAND_DATUM',\n",
       " 'D19_VERSAND_OFFLINE_DATUM',\n",
       " 'D19_VERSAND_ONLINE_DATUM',\n",
       " 'D19_VERSAND_REST',\n",
       " 'D19_VERSI_ANZ_12',\n",
       " 'D19_VERSI_ANZ_24',\n",
       " 'D19_VERSI_DATUM',\n",
       " 'D19_VERSI_OFFLINE_DATUM',\n",
       " 'D19_VERSI_ONLINE_DATUM',\n",
       " 'D19_VERSI_ONLINE_QUOTE_12',\n",
       " 'D19_VERSICHERUNGEN',\n",
       " 'D19_VOLLSORTIMENT',\n",
       " 'D19_WEIN_FEINKOST',\n",
       " 'DSL_FLAG',\n",
       " 'EINGEFUEGT_AM',\n",
       " 'EINGEZOGENAM_HH_JAHR',\n",
       " 'EWDICHTE',\n",
       " 'FINANZ_ANLEGER',\n",
       " 'FINANZ_HAUSBAUER',\n",
       " 'FINANZ_MINIMALIST',\n",
       " 'FINANZ_SPARER',\n",
       " 'FINANZ_UNAUFFAELLIGER',\n",
       " 'FINANZ_VORSORGER',\n",
       " 'FINANZTYP',\n",
       " 'FIRMENDICHTE',\n",
       " 'GEBAEUDETYP',\n",
       " 'GEBAEUDETYP_RASTER',\n",
       " 'GEBURTSJAHR',\n",
       " 'GEMEINDETYP',\n",
       " 'GREEN_AVANTGARDE',\n",
       " 'HEALTH_TYP',\n",
       " 'HH_DELTA_FLAG',\n",
       " 'HH_EINKOMMEN_SCORE',\n",
       " 'INNENSTADT',\n",
       " 'KBA05_ALTER1',\n",
       " 'KBA05_ALTER2',\n",
       " 'KBA05_ALTER3',\n",
       " 'KBA05_ALTER4',\n",
       " 'KBA05_ANHANG',\n",
       " 'KBA05_ANTG1',\n",
       " 'KBA05_ANTG2',\n",
       " 'KBA05_ANTG3',\n",
       " 'KBA05_ANTG4',\n",
       " 'KBA05_AUTOQUOT',\n",
       " 'KBA05_CCM1',\n",
       " 'KBA05_CCM2',\n",
       " 'KBA05_CCM3',\n",
       " 'KBA05_CCM4',\n",
       " 'KBA05_DIESEL',\n",
       " 'KBA05_FRAU',\n",
       " 'KBA05_GBZ',\n",
       " 'KBA05_HERST1',\n",
       " 'KBA05_HERST2',\n",
       " 'KBA05_HERST3',\n",
       " 'KBA05_HERST4',\n",
       " 'KBA05_HERST5',\n",
       " 'KBA05_HERSTTEMP',\n",
       " 'KBA05_KRSAQUOT',\n",
       " 'KBA05_KRSHERST1',\n",
       " 'KBA05_KRSHERST2',\n",
       " 'KBA05_KRSHERST3',\n",
       " 'KBA05_KRSKLEIN',\n",
       " 'KBA05_KRSOBER',\n",
       " 'KBA05_KRSVAN',\n",
       " 'KBA05_KRSZUL',\n",
       " 'KBA05_KW1',\n",
       " 'KBA05_KW2',\n",
       " 'KBA05_KW3',\n",
       " 'KBA05_MAXAH',\n",
       " 'KBA05_MAXBJ',\n",
       " 'KBA05_MAXHERST',\n",
       " 'KBA05_MAXSEG',\n",
       " 'KBA05_MAXVORB',\n",
       " 'KBA05_MOD1',\n",
       " 'KBA05_MOD2',\n",
       " 'KBA05_MOD3',\n",
       " 'KBA05_MOD4',\n",
       " 'KBA05_MOD8',\n",
       " 'KBA05_MODTEMP',\n",
       " 'KBA05_MOTOR',\n",
       " 'KBA05_MOTRAD',\n",
       " 'KBA05_SEG1',\n",
       " 'KBA05_SEG10',\n",
       " 'KBA05_SEG2',\n",
       " 'KBA05_SEG3',\n",
       " 'KBA05_SEG4',\n",
       " 'KBA05_SEG5',\n",
       " 'KBA05_SEG6',\n",
       " 'KBA05_SEG7',\n",
       " 'KBA05_SEG8',\n",
       " 'KBA05_SEG9',\n",
       " 'KBA05_VORB0',\n",
       " 'KBA05_VORB1',\n",
       " 'KBA05_VORB2',\n",
       " 'KBA05_ZUL1',\n",
       " 'KBA05_ZUL2',\n",
       " 'KBA05_ZUL3',\n",
       " 'KBA05_ZUL4',\n",
       " 'KBA13_ALTERHALTER_30',\n",
       " 'KBA13_ALTERHALTER_45',\n",
       " 'KBA13_ALTERHALTER_60',\n",
       " 'KBA13_ALTERHALTER_61',\n",
       " 'KBA13_ANTG1',\n",
       " 'KBA13_ANTG2',\n",
       " 'KBA13_ANTG3',\n",
       " 'KBA13_ANTG4',\n",
       " 'KBA13_ANZAHL_PKW',\n",
       " 'KBA13_AUDI',\n",
       " 'KBA13_AUTOQUOTE',\n",
       " 'KBA13_BAUMAX',\n",
       " 'KBA13_BJ_1999',\n",
       " 'KBA13_BJ_2000',\n",
       " 'KBA13_BJ_2004',\n",
       " 'KBA13_BJ_2006',\n",
       " 'KBA13_BJ_2008',\n",
       " 'KBA13_BJ_2009',\n",
       " 'KBA13_BMW',\n",
       " 'KBA13_CCM_0_1400',\n",
       " 'KBA13_CCM_1000',\n",
       " 'KBA13_CCM_1200',\n",
       " 'KBA13_CCM_1400',\n",
       " 'KBA13_CCM_1401_2500',\n",
       " 'KBA13_CCM_1500',\n",
       " 'KBA13_CCM_1600',\n",
       " 'KBA13_CCM_1800',\n",
       " 'KBA13_CCM_2000',\n",
       " 'KBA13_CCM_2500',\n",
       " 'KBA13_CCM_2501',\n",
       " 'KBA13_CCM_3000',\n",
       " 'KBA13_CCM_3001',\n",
       " 'KBA13_FAB_ASIEN',\n",
       " 'KBA13_FAB_SONSTIGE',\n",
       " 'KBA13_FIAT',\n",
       " 'KBA13_FORD',\n",
       " 'KBA13_GBZ',\n",
       " 'KBA13_HALTER_20',\n",
       " 'KBA13_HALTER_25',\n",
       " 'KBA13_HALTER_30',\n",
       " 'KBA13_HALTER_35',\n",
       " 'KBA13_HALTER_40',\n",
       " 'KBA13_HALTER_45',\n",
       " 'KBA13_HALTER_50',\n",
       " 'KBA13_HALTER_55',\n",
       " 'KBA13_HALTER_60',\n",
       " 'KBA13_HALTER_65',\n",
       " 'KBA13_HALTER_66',\n",
       " 'KBA13_HERST_ASIEN',\n",
       " 'KBA13_HERST_AUDI_VW',\n",
       " 'KBA13_HERST_BMW_BENZ',\n",
       " 'KBA13_HERST_EUROPA',\n",
       " 'KBA13_HERST_FORD_OPEL',\n",
       " 'KBA13_HERST_SONST',\n",
       " 'KBA13_HHZ',\n",
       " 'KBA13_KMH_0_140',\n",
       " 'KBA13_KMH_110',\n",
       " 'KBA13_KMH_140',\n",
       " 'KBA13_KMH_140_210',\n",
       " 'KBA13_KMH_180',\n",
       " 'KBA13_KMH_210',\n",
       " 'KBA13_KMH_211',\n",
       " 'KBA13_KMH_250',\n",
       " 'KBA13_KMH_251',\n",
       " 'KBA13_KRSAQUOT',\n",
       " 'KBA13_KRSHERST_AUDI_VW',\n",
       " 'KBA13_KRSHERST_BMW_BENZ',\n",
       " 'KBA13_KRSHERST_FORD_OPEL',\n",
       " 'KBA13_KRSSEG_KLEIN',\n",
       " 'KBA13_KRSSEG_OBER',\n",
       " 'KBA13_KRSSEG_VAN',\n",
       " 'KBA13_KRSZUL_NEU',\n",
       " 'KBA13_KW_0_60',\n",
       " 'KBA13_KW_110',\n",
       " 'KBA13_KW_120',\n",
       " 'KBA13_KW_121',\n",
       " 'KBA13_KW_30',\n",
       " 'KBA13_KW_40',\n",
       " 'KBA13_KW_50',\n",
       " 'KBA13_KW_60',\n",
       " 'KBA13_KW_61_120',\n",
       " 'KBA13_KW_70',\n",
       " 'KBA13_KW_80',\n",
       " 'KBA13_KW_90',\n",
       " 'KBA13_MAZDA',\n",
       " 'KBA13_MERCEDES',\n",
       " 'KBA13_MOTOR',\n",
       " 'KBA13_NISSAN',\n",
       " 'KBA13_OPEL',\n",
       " 'KBA13_PEUGEOT',\n",
       " 'KBA13_RENAULT',\n",
       " 'KBA13_SEG_GELAENDEWAGEN',\n",
       " 'KBA13_SEG_GROSSRAUMVANS',\n",
       " 'KBA13_SEG_KLEINST',\n",
       " 'KBA13_SEG_KLEINWAGEN',\n",
       " 'KBA13_SEG_KOMPAKTKLASSE',\n",
       " 'KBA13_SEG_MINIVANS',\n",
       " 'KBA13_SEG_MINIWAGEN',\n",
       " 'KBA13_SEG_MITTELKLASSE',\n",
       " 'KBA13_SEG_OBEREMITTELKLASSE',\n",
       " 'KBA13_SEG_OBERKLASSE',\n",
       " 'KBA13_SEG_SONSTIGE',\n",
       " 'KBA13_SEG_SPORTWAGEN',\n",
       " 'KBA13_SEG_UTILITIES',\n",
       " 'KBA13_SEG_VAN',\n",
       " 'KBA13_SEG_WOHNMOBILE',\n",
       " 'KBA13_SITZE_4',\n",
       " 'KBA13_SITZE_5',\n",
       " 'KBA13_SITZE_6',\n",
       " 'KBA13_TOYOTA',\n",
       " 'KBA13_VORB_0',\n",
       " 'KBA13_VORB_1',\n",
       " 'KBA13_VORB_1_2',\n",
       " 'KBA13_VORB_2',\n",
       " 'KBA13_VORB_3',\n",
       " 'KBA13_VW',\n",
       " 'KKK',\n",
       " 'KOMBIALTER',\n",
       " 'KONSUMNAEHE',\n",
       " 'KONSUMZELLE',\n",
       " 'LP_FAMILIE_GROB',\n",
       " 'LP_STATUS_FEIN',\n",
       " 'LP_STATUS_GROB',\n",
       " 'MIN_GEBAEUDEJAHR',\n",
       " 'MOBI_RASTER',\n",
       " 'MOBI_REGIO',\n",
       " 'NATIONALITAET_KZ',\n",
       " 'ONLINE_AFFINITAET',\n",
       " 'ORTSGR_KLS9',\n",
       " 'OST_WEST_KZ',\n",
       " 'PLZ8_ANTG1',\n",
       " 'PLZ8_ANTG2',\n",
       " 'PLZ8_ANTG3',\n",
       " 'PLZ8_ANTG4',\n",
       " 'PLZ8_BAUMAX',\n",
       " 'PLZ8_GBZ',\n",
       " 'PLZ8_HHZ',\n",
       " 'REGIOTYP',\n",
       " 'RELAT_AB',\n",
       " 'RETOURTYP_BK_S',\n",
       " 'RT_KEIN_ANREIZ',\n",
       " 'RT_SCHNAEPPCHEN',\n",
       " 'RT_UEBERGROESSE',\n",
       " 'SEMIO_DOM',\n",
       " 'SEMIO_ERL',\n",
       " 'SEMIO_FAM',\n",
       " 'SEMIO_KAEM',\n",
       " 'SEMIO_KRIT',\n",
       " 'SEMIO_KULT',\n",
       " 'SEMIO_LUST',\n",
       " 'SEMIO_MAT',\n",
       " 'SEMIO_PFLICHT',\n",
       " 'SEMIO_RAT',\n",
       " 'SEMIO_REL',\n",
       " 'SEMIO_SOZ',\n",
       " 'SEMIO_TRADV',\n",
       " 'SEMIO_VERT',\n",
       " 'SHOPPER_TYP',\n",
       " 'SOHO_KZ',\n",
       " 'STRUKTURTYP',\n",
       " 'UMFELD_ALT',\n",
       " 'UMFELD_JUNG',\n",
       " 'UNGLEICHENN_FLAG',\n",
       " 'VERS_TYP',\n",
       " 'VHA',\n",
       " 'VHN',\n",
       " 'W_KEIT_KIND_HH',\n",
       " 'WOHNDAUER_2008',\n",
       " 'WOHNLAGE',\n",
       " 'ZABEOTYP',\n",
       " 'ANREDE_KZ',\n",
       " 'ALTERSKATEGORIE_GROB',\n",
       " 'AFFLUENCY',\n",
       " 'FAMILY_TYPE']"
      ]
     },
     "execution_count": 10,
     "metadata": {},
     "output_type": "execute_result"
    }
   ],
   "source": [
    "azdias.columns.tolist()"
   ]
  },
  {
   "cell_type": "code",
   "execution_count": 12,
   "metadata": {},
   "outputs": [
    {
     "data": {
      "text/html": [
       "<div>\n",
       "<style scoped>\n",
       "    .dataframe tbody tr th:only-of-type {\n",
       "        vertical-align: middle;\n",
       "    }\n",
       "\n",
       "    .dataframe tbody tr th {\n",
       "        vertical-align: top;\n",
       "    }\n",
       "\n",
       "    .dataframe thead th {\n",
       "        text-align: right;\n",
       "    }\n",
       "</style>\n",
       "<table border=\"1\" class=\"dataframe\">\n",
       "  <thead>\n",
       "    <tr style=\"text-align: right;\">\n",
       "      <th></th>\n",
       "      <th>ATTRIBUTE</th>\n",
       "      <th>NUM_VALUES</th>\n",
       "      <th>VALUES</th>\n",
       "    </tr>\n",
       "  </thead>\n",
       "  <tbody>\n",
       "    <tr>\n",
       "      <th>78</th>\n",
       "      <td>EINGEFUEGT_AM</td>\n",
       "      <td>4461</td>\n",
       "      <td>[1992-02-10, 1992-02-12, 1995-02-07, 2005-12-1...</td>\n",
       "    </tr>\n",
       "    <tr>\n",
       "      <th>170</th>\n",
       "      <td>KBA13_ANZAHL_PKW</td>\n",
       "      <td>1261</td>\n",
       "      <td>[1400, 1500, 1300, 1600, 1700, 1800, 417, 464,...</td>\n",
       "    </tr>\n",
       "    <tr>\n",
       "      <th>91</th>\n",
       "      <td>GEBURTSJAHR</td>\n",
       "      <td>117</td>\n",
       "      <td>[0, 1967, 1965, 1966, 1970, 1968, 1964, 1963, ...</td>\n",
       "    </tr>\n",
       "    <tr>\n",
       "      <th>79</th>\n",
       "      <td>EINGEZOGENAM_HH_JAHR</td>\n",
       "      <td>37</td>\n",
       "      <td>[1994, 1997, 2004, 2015, 2014, 2001, 2008, 200...</td>\n",
       "    </tr>\n",
       "    <tr>\n",
       "      <th>285</th>\n",
       "      <td>MIN_GEBAEUDEJAHR</td>\n",
       "      <td>29</td>\n",
       "      <td>[1992, 1994, 1993, 1995, 1996, 1997, 2000, 199...</td>\n",
       "    </tr>\n",
       "    <tr>\n",
       "      <th>58</th>\n",
       "      <td>D19_TELKO_ONLINE_DATUM</td>\n",
       "      <td>10</td>\n",
       "      <td>[10, 9, 8, 7, 5, 6, 4, 1, 3, 2]</td>\n",
       "    </tr>\n",
       "    <tr>\n",
       "      <th>20</th>\n",
       "      <td>D19_BANKEN_ONLINE_DATUM</td>\n",
       "      <td>10</td>\n",
       "      <td>[10, 9, 8, 5, 7, 6, 1, 4, 2, 3]</td>\n",
       "    </tr>\n",
       "    <tr>\n",
       "      <th>19</th>\n",
       "      <td>D19_BANKEN_OFFLINE_DATUM</td>\n",
       "      <td>10</td>\n",
       "      <td>[10, 8, 9, 5, 2, 6, 1, 7, 4, 3]</td>\n",
       "    </tr>\n",
       "    <tr>\n",
       "      <th>36</th>\n",
       "      <td>D19_GESAMT_ONLINE_DATUM</td>\n",
       "      <td>10</td>\n",
       "      <td>[10, 9, 5, 1, 8, 2, 6, 4, 7, 3]</td>\n",
       "    </tr>\n",
       "    <tr>\n",
       "      <th>15</th>\n",
       "      <td>D19_BANKEN_DATUM</td>\n",
       "      <td>10</td>\n",
       "      <td>[10, 9, 8, 5, 7, 6, 1, 4, 2, 3]</td>\n",
       "    </tr>\n",
       "    <tr>\n",
       "      <th>55</th>\n",
       "      <td>D19_TELKO_DATUM</td>\n",
       "      <td>10</td>\n",
       "      <td>[10, 9, 8, 5, 7, 6, 4, 1, 2, 3]</td>\n",
       "    </tr>\n",
       "    <tr>\n",
       "      <th>57</th>\n",
       "      <td>D19_TELKO_OFFLINE_DATUM</td>\n",
       "      <td>10</td>\n",
       "      <td>[10, 9, 8, 5, 6, 7, 4, 1, 2, 3]</td>\n",
       "    </tr>\n",
       "    <tr>\n",
       "      <th>64</th>\n",
       "      <td>D19_VERSAND_DATUM</td>\n",
       "      <td>10</td>\n",
       "      <td>[10, 9, 5, 1, 8, 2, 6, 4, 7, 3]</td>\n",
       "    </tr>\n",
       "    <tr>\n",
       "      <th>34</th>\n",
       "      <td>D19_GESAMT_DATUM</td>\n",
       "      <td>10</td>\n",
       "      <td>[10, 9, 5, 1, 2, 8, 4, 6, 7, 3]</td>\n",
       "    </tr>\n",
       "    <tr>\n",
       "      <th>65</th>\n",
       "      <td>D19_VERSAND_OFFLINE_DATUM</td>\n",
       "      <td>10</td>\n",
       "      <td>[10, 9, 8, 5, 7, 6, 4, 2, 1, 3]</td>\n",
       "    </tr>\n",
       "    <tr>\n",
       "      <th>66</th>\n",
       "      <td>D19_VERSAND_ONLINE_DATUM</td>\n",
       "      <td>10</td>\n",
       "      <td>[10, 9, 5, 1, 8, 2, 6, 4, 7, 3]</td>\n",
       "    </tr>\n",
       "    <tr>\n",
       "      <th>70</th>\n",
       "      <td>D19_VERSI_DATUM</td>\n",
       "      <td>10</td>\n",
       "      <td>[10, 9, 8, 5, 6, 7, 2, 4, 1, 3]</td>\n",
       "    </tr>\n",
       "    <tr>\n",
       "      <th>71</th>\n",
       "      <td>D19_VERSI_OFFLINE_DATUM</td>\n",
       "      <td>10</td>\n",
       "      <td>[10, 9, 8, 5, 7, 6, 4, 2, 3, 1]</td>\n",
       "    </tr>\n",
       "    <tr>\n",
       "      <th>290</th>\n",
       "      <td>ORTSGR_KLS9</td>\n",
       "      <td>10</td>\n",
       "      <td>[5.0, 4.0, 7.0, 9.0, 3.0, 6.0, 8.0, 2.0, 1.0, ...</td>\n",
       "    </tr>\n",
       "    <tr>\n",
       "      <th>72</th>\n",
       "      <td>D19_VERSI_ONLINE_DATUM</td>\n",
       "      <td>10</td>\n",
       "      <td>[10, 9, 8, 7, 5, 6, 4, 2, 3, 1]</td>\n",
       "    </tr>\n",
       "    <tr>\n",
       "      <th>283</th>\n",
       "      <td>LP_STATUS_FEIN</td>\n",
       "      <td>10</td>\n",
       "      <td>[1.0, 9.0, 10.0, 2.0, 4.0, 3.0, 6.0, 5.0, 8.0,...</td>\n",
       "    </tr>\n",
       "    <tr>\n",
       "      <th>35</th>\n",
       "      <td>D19_GESAMT_OFFLINE_DATUM</td>\n",
       "      <td>10</td>\n",
       "      <td>[10, 9, 8, 5, 7, 6, 4, 2, 1, 3]</td>\n",
       "    </tr>\n",
       "    <tr>\n",
       "      <th>0</th>\n",
       "      <td>AKT_DAT_KL</td>\n",
       "      <td>9</td>\n",
       "      <td>[1.0, 9.0, 5.0, 6.0, 3.0, 4.0, 7.0, 8.0, 2.0]</td>\n",
       "    </tr>\n",
       "    <tr>\n",
       "      <th>4</th>\n",
       "      <td>CAMEO_DEUG_2015</td>\n",
       "      <td>9</td>\n",
       "      <td>[8.0, 9.0, 6.0, 4.0, 3.0, 2.0, 7.0, 5.0, 1.0]</td>\n",
       "    </tr>\n",
       "    <tr>\n",
       "      <th>329</th>\n",
       "      <td>WOHNDAUER_2008</td>\n",
       "      <td>9</td>\n",
       "      <td>[9.0, 8.0, 4.0, 3.0, 6.0, 5.0, 7.0, 2.0, 1.0]</td>\n",
       "    </tr>\n",
       "    <tr>\n",
       "      <th>23</th>\n",
       "      <td>D19_BEKLEIDUNG_REST</td>\n",
       "      <td>8</td>\n",
       "      <td>[0, 6, 3, 7, 5, 2, 1, 4]</td>\n",
       "    </tr>\n",
       "    <tr>\n",
       "      <th>56</th>\n",
       "      <td>D19_TELKO_MOBILE</td>\n",
       "      <td>8</td>\n",
       "      <td>[0, 6, 3, 5, 7, 4, 2, 1]</td>\n",
       "    </tr>\n",
       "    <tr>\n",
       "      <th>46</th>\n",
       "      <td>D19_RATGEBER</td>\n",
       "      <td>8</td>\n",
       "      <td>[0, 6, 7, 3, 2, 5, 4, 1]</td>\n",
       "    </tr>\n",
       "    <tr>\n",
       "      <th>47</th>\n",
       "      <td>D19_REISEN</td>\n",
       "      <td>8</td>\n",
       "      <td>[0, 6, 7, 3, 5, 2, 4, 1]</td>\n",
       "    </tr>\n",
       "    <tr>\n",
       "      <th>48</th>\n",
       "      <td>D19_SAMMELARTIKEL</td>\n",
       "      <td>8</td>\n",
       "      <td>[0, 6, 7, 5, 3, 4, 2, 1]</td>\n",
       "    </tr>\n",
       "    <tr>\n",
       "      <th>...</th>\n",
       "      <td>...</td>\n",
       "      <td>...</td>\n",
       "      <td>...</td>\n",
       "    </tr>\n",
       "    <tr>\n",
       "      <th>143</th>\n",
       "      <td>KBA05_MOTOR</td>\n",
       "      <td>4</td>\n",
       "      <td>[3.0, 2.0, 1.0, 4.0]</td>\n",
       "    </tr>\n",
       "    <tr>\n",
       "      <th>141</th>\n",
       "      <td>KBA05_MOD8</td>\n",
       "      <td>4</td>\n",
       "      <td>[0.0, 1.0, 2.0, 3.0]</td>\n",
       "    </tr>\n",
       "    <tr>\n",
       "      <th>248</th>\n",
       "      <td>KBA13_MOTOR</td>\n",
       "      <td>4</td>\n",
       "      <td>[3.0, 2.0, 4.0, 1.0]</td>\n",
       "    </tr>\n",
       "    <tr>\n",
       "      <th>135</th>\n",
       "      <td>KBA05_MAXSEG</td>\n",
       "      <td>4</td>\n",
       "      <td>[2.0, 1.0, 3.0, 4.0]</td>\n",
       "    </tr>\n",
       "    <tr>\n",
       "      <th>133</th>\n",
       "      <td>KBA05_MAXBJ</td>\n",
       "      <td>4</td>\n",
       "      <td>[1.0, 4.0, 2.0, 3.0]</td>\n",
       "    </tr>\n",
       "    <tr>\n",
       "      <th>152</th>\n",
       "      <td>KBA05_SEG7</td>\n",
       "      <td>4</td>\n",
       "      <td>[0.0, 1.0, 2.0, 3.0]</td>\n",
       "    </tr>\n",
       "    <tr>\n",
       "      <th>136</th>\n",
       "      <td>KBA05_MAXVORB</td>\n",
       "      <td>3</td>\n",
       "      <td>[2.0, 3.0, 1.0]</td>\n",
       "    </tr>\n",
       "    <tr>\n",
       "      <th>321</th>\n",
       "      <td>STRUKTURTYP</td>\n",
       "      <td>3</td>\n",
       "      <td>[3.0, 1.0, 2.0]</td>\n",
       "    </tr>\n",
       "    <tr>\n",
       "      <th>128</th>\n",
       "      <td>KBA05_KRSZUL</td>\n",
       "      <td>3</td>\n",
       "      <td>[2.0, 1.0, 3.0]</td>\n",
       "    </tr>\n",
       "    <tr>\n",
       "      <th>218</th>\n",
       "      <td>KBA13_KMH_110</td>\n",
       "      <td>3</td>\n",
       "      <td>[1.0, 3.0, 2.0]</td>\n",
       "    </tr>\n",
       "    <tr>\n",
       "      <th>127</th>\n",
       "      <td>KBA05_KRSVAN</td>\n",
       "      <td>3</td>\n",
       "      <td>[2.0, 1.0, 3.0]</td>\n",
       "    </tr>\n",
       "    <tr>\n",
       "      <th>225</th>\n",
       "      <td>KBA13_KMH_251</td>\n",
       "      <td>3</td>\n",
       "      <td>[1.0, 3.0, 2.0]</td>\n",
       "    </tr>\n",
       "    <tr>\n",
       "      <th>106</th>\n",
       "      <td>KBA05_ANTG4</td>\n",
       "      <td>3</td>\n",
       "      <td>[0.0, 1.0, 2.0]</td>\n",
       "    </tr>\n",
       "    <tr>\n",
       "      <th>125</th>\n",
       "      <td>KBA05_KRSKLEIN</td>\n",
       "      <td>3</td>\n",
       "      <td>[2.0, 1.0, 3.0]</td>\n",
       "    </tr>\n",
       "    <tr>\n",
       "      <th>295</th>\n",
       "      <td>PLZ8_ANTG4</td>\n",
       "      <td>3</td>\n",
       "      <td>[0.0, 1.0, 2.0]</td>\n",
       "    </tr>\n",
       "    <tr>\n",
       "      <th>94</th>\n",
       "      <td>HEALTH_TYP</td>\n",
       "      <td>3</td>\n",
       "      <td>[3.0, 2.0, 1.0]</td>\n",
       "    </tr>\n",
       "    <tr>\n",
       "      <th>288</th>\n",
       "      <td>NATIONALITAET_KZ</td>\n",
       "      <td>3</td>\n",
       "      <td>[1.0, 2.0, 3.0]</td>\n",
       "    </tr>\n",
       "    <tr>\n",
       "      <th>238</th>\n",
       "      <td>KBA13_KW_30</td>\n",
       "      <td>3</td>\n",
       "      <td>[1.0, 2.0, 3.0]</td>\n",
       "    </tr>\n",
       "    <tr>\n",
       "      <th>126</th>\n",
       "      <td>KBA05_KRSOBER</td>\n",
       "      <td>3</td>\n",
       "      <td>[2.0, 1.0, 3.0]</td>\n",
       "    </tr>\n",
       "    <tr>\n",
       "      <th>169</th>\n",
       "      <td>KBA13_ANTG4</td>\n",
       "      <td>3</td>\n",
       "      <td>[0.0, 1.0, 2.0]</td>\n",
       "    </tr>\n",
       "    <tr>\n",
       "      <th>332</th>\n",
       "      <td>ANREDE_KZ</td>\n",
       "      <td>2</td>\n",
       "      <td>[2, 1]</td>\n",
       "    </tr>\n",
       "    <tr>\n",
       "      <th>291</th>\n",
       "      <td>OST_WEST_KZ</td>\n",
       "      <td>2</td>\n",
       "      <td>[W, O]</td>\n",
       "    </tr>\n",
       "    <tr>\n",
       "      <th>95</th>\n",
       "      <td>HH_DELTA_FLAG</td>\n",
       "      <td>2</td>\n",
       "      <td>[0.0, 1.0]</td>\n",
       "    </tr>\n",
       "    <tr>\n",
       "      <th>325</th>\n",
       "      <td>VERS_TYP</td>\n",
       "      <td>2</td>\n",
       "      <td>[2.0, 1.0]</td>\n",
       "    </tr>\n",
       "    <tr>\n",
       "      <th>324</th>\n",
       "      <td>UNGLEICHENN_FLAG</td>\n",
       "      <td>2</td>\n",
       "      <td>[0.0, 1.0]</td>\n",
       "    </tr>\n",
       "    <tr>\n",
       "      <th>77</th>\n",
       "      <td>DSL_FLAG</td>\n",
       "      <td>2</td>\n",
       "      <td>[1.0, 0.0]</td>\n",
       "    </tr>\n",
       "    <tr>\n",
       "      <th>93</th>\n",
       "      <td>GREEN_AVANTGARDE</td>\n",
       "      <td>2</td>\n",
       "      <td>[0, 1]</td>\n",
       "    </tr>\n",
       "    <tr>\n",
       "      <th>320</th>\n",
       "      <td>SOHO_KZ</td>\n",
       "      <td>2</td>\n",
       "      <td>[0.0, 1.0]</td>\n",
       "    </tr>\n",
       "    <tr>\n",
       "      <th>281</th>\n",
       "      <td>KONSUMZELLE</td>\n",
       "      <td>2</td>\n",
       "      <td>[0.0, 1.0]</td>\n",
       "    </tr>\n",
       "    <tr>\n",
       "      <th>151</th>\n",
       "      <td>KBA05_SEG6</td>\n",
       "      <td>2</td>\n",
       "      <td>[0.0, 1.0]</td>\n",
       "    </tr>\n",
       "  </tbody>\n",
       "</table>\n",
       "<p>336 rows × 3 columns</p>\n",
       "</div>"
      ],
      "text/plain": [
       "                     ATTRIBUTE  NUM_VALUES  \\\n",
       "78               EINGEFUEGT_AM        4461   \n",
       "170           KBA13_ANZAHL_PKW        1261   \n",
       "91                 GEBURTSJAHR         117   \n",
       "79        EINGEZOGENAM_HH_JAHR          37   \n",
       "285           MIN_GEBAEUDEJAHR          29   \n",
       "58      D19_TELKO_ONLINE_DATUM          10   \n",
       "20     D19_BANKEN_ONLINE_DATUM          10   \n",
       "19    D19_BANKEN_OFFLINE_DATUM          10   \n",
       "36     D19_GESAMT_ONLINE_DATUM          10   \n",
       "15            D19_BANKEN_DATUM          10   \n",
       "55             D19_TELKO_DATUM          10   \n",
       "57     D19_TELKO_OFFLINE_DATUM          10   \n",
       "64           D19_VERSAND_DATUM          10   \n",
       "34            D19_GESAMT_DATUM          10   \n",
       "65   D19_VERSAND_OFFLINE_DATUM          10   \n",
       "66    D19_VERSAND_ONLINE_DATUM          10   \n",
       "70             D19_VERSI_DATUM          10   \n",
       "71     D19_VERSI_OFFLINE_DATUM          10   \n",
       "290                ORTSGR_KLS9          10   \n",
       "72      D19_VERSI_ONLINE_DATUM          10   \n",
       "283             LP_STATUS_FEIN          10   \n",
       "35    D19_GESAMT_OFFLINE_DATUM          10   \n",
       "0                   AKT_DAT_KL           9   \n",
       "4              CAMEO_DEUG_2015           9   \n",
       "329             WOHNDAUER_2008           9   \n",
       "23         D19_BEKLEIDUNG_REST           8   \n",
       "56            D19_TELKO_MOBILE           8   \n",
       "46                D19_RATGEBER           8   \n",
       "47                  D19_REISEN           8   \n",
       "48           D19_SAMMELARTIKEL           8   \n",
       "..                         ...         ...   \n",
       "143                KBA05_MOTOR           4   \n",
       "141                 KBA05_MOD8           4   \n",
       "248                KBA13_MOTOR           4   \n",
       "135               KBA05_MAXSEG           4   \n",
       "133                KBA05_MAXBJ           4   \n",
       "152                 KBA05_SEG7           4   \n",
       "136              KBA05_MAXVORB           3   \n",
       "321                STRUKTURTYP           3   \n",
       "128               KBA05_KRSZUL           3   \n",
       "218              KBA13_KMH_110           3   \n",
       "127               KBA05_KRSVAN           3   \n",
       "225              KBA13_KMH_251           3   \n",
       "106                KBA05_ANTG4           3   \n",
       "125             KBA05_KRSKLEIN           3   \n",
       "295                 PLZ8_ANTG4           3   \n",
       "94                  HEALTH_TYP           3   \n",
       "288           NATIONALITAET_KZ           3   \n",
       "238                KBA13_KW_30           3   \n",
       "126              KBA05_KRSOBER           3   \n",
       "169                KBA13_ANTG4           3   \n",
       "332                  ANREDE_KZ           2   \n",
       "291                OST_WEST_KZ           2   \n",
       "95               HH_DELTA_FLAG           2   \n",
       "325                   VERS_TYP           2   \n",
       "324           UNGLEICHENN_FLAG           2   \n",
       "77                    DSL_FLAG           2   \n",
       "93            GREEN_AVANTGARDE           2   \n",
       "320                    SOHO_KZ           2   \n",
       "281                KONSUMZELLE           2   \n",
       "151                 KBA05_SEG6           2   \n",
       "\n",
       "                                                VALUES  \n",
       "78   [1992-02-10, 1992-02-12, 1995-02-07, 2005-12-1...  \n",
       "170  [1400, 1500, 1300, 1600, 1700, 1800, 417, 464,...  \n",
       "91   [0, 1967, 1965, 1966, 1970, 1968, 1964, 1963, ...  \n",
       "79   [1994, 1997, 2004, 2015, 2014, 2001, 2008, 200...  \n",
       "285  [1992, 1994, 1993, 1995, 1996, 1997, 2000, 199...  \n",
       "58                     [10, 9, 8, 7, 5, 6, 4, 1, 3, 2]  \n",
       "20                     [10, 9, 8, 5, 7, 6, 1, 4, 2, 3]  \n",
       "19                     [10, 8, 9, 5, 2, 6, 1, 7, 4, 3]  \n",
       "36                     [10, 9, 5, 1, 8, 2, 6, 4, 7, 3]  \n",
       "15                     [10, 9, 8, 5, 7, 6, 1, 4, 2, 3]  \n",
       "55                     [10, 9, 8, 5, 7, 6, 4, 1, 2, 3]  \n",
       "57                     [10, 9, 8, 5, 6, 7, 4, 1, 2, 3]  \n",
       "64                     [10, 9, 5, 1, 8, 2, 6, 4, 7, 3]  \n",
       "34                     [10, 9, 5, 1, 2, 8, 4, 6, 7, 3]  \n",
       "65                     [10, 9, 8, 5, 7, 6, 4, 2, 1, 3]  \n",
       "66                     [10, 9, 5, 1, 8, 2, 6, 4, 7, 3]  \n",
       "70                     [10, 9, 8, 5, 6, 7, 2, 4, 1, 3]  \n",
       "71                     [10, 9, 8, 5, 7, 6, 4, 2, 3, 1]  \n",
       "290  [5.0, 4.0, 7.0, 9.0, 3.0, 6.0, 8.0, 2.0, 1.0, ...  \n",
       "72                     [10, 9, 8, 7, 5, 6, 4, 2, 3, 1]  \n",
       "283  [1.0, 9.0, 10.0, 2.0, 4.0, 3.0, 6.0, 5.0, 8.0,...  \n",
       "35                     [10, 9, 8, 5, 7, 6, 4, 2, 1, 3]  \n",
       "0        [1.0, 9.0, 5.0, 6.0, 3.0, 4.0, 7.0, 8.0, 2.0]  \n",
       "4        [8.0, 9.0, 6.0, 4.0, 3.0, 2.0, 7.0, 5.0, 1.0]  \n",
       "329      [9.0, 8.0, 4.0, 3.0, 6.0, 5.0, 7.0, 2.0, 1.0]  \n",
       "23                            [0, 6, 3, 7, 5, 2, 1, 4]  \n",
       "56                            [0, 6, 3, 5, 7, 4, 2, 1]  \n",
       "46                            [0, 6, 7, 3, 2, 5, 4, 1]  \n",
       "47                            [0, 6, 7, 3, 5, 2, 4, 1]  \n",
       "48                            [0, 6, 7, 5, 3, 4, 2, 1]  \n",
       "..                                                 ...  \n",
       "143                               [3.0, 2.0, 1.0, 4.0]  \n",
       "141                               [0.0, 1.0, 2.0, 3.0]  \n",
       "248                               [3.0, 2.0, 4.0, 1.0]  \n",
       "135                               [2.0, 1.0, 3.0, 4.0]  \n",
       "133                               [1.0, 4.0, 2.0, 3.0]  \n",
       "152                               [0.0, 1.0, 2.0, 3.0]  \n",
       "136                                    [2.0, 3.0, 1.0]  \n",
       "321                                    [3.0, 1.0, 2.0]  \n",
       "128                                    [2.0, 1.0, 3.0]  \n",
       "218                                    [1.0, 3.0, 2.0]  \n",
       "127                                    [2.0, 1.0, 3.0]  \n",
       "225                                    [1.0, 3.0, 2.0]  \n",
       "106                                    [0.0, 1.0, 2.0]  \n",
       "125                                    [2.0, 1.0, 3.0]  \n",
       "295                                    [0.0, 1.0, 2.0]  \n",
       "94                                     [3.0, 2.0, 1.0]  \n",
       "288                                    [1.0, 2.0, 3.0]  \n",
       "238                                    [1.0, 2.0, 3.0]  \n",
       "126                                    [2.0, 1.0, 3.0]  \n",
       "169                                    [0.0, 1.0, 2.0]  \n",
       "332                                             [2, 1]  \n",
       "291                                             [W, O]  \n",
       "95                                          [0.0, 1.0]  \n",
       "325                                         [2.0, 1.0]  \n",
       "324                                         [0.0, 1.0]  \n",
       "77                                          [1.0, 0.0]  \n",
       "93                                              [0, 1]  \n",
       "320                                         [0.0, 1.0]  \n",
       "281                                         [0.0, 1.0]  \n",
       "151                                         [0.0, 1.0]  \n",
       "\n",
       "[336 rows x 3 columns]"
      ]
     },
     "execution_count": 12,
     "metadata": {},
     "output_type": "execute_result"
    }
   ],
   "source": [
    "attribute_info.sort_values(by='NUM_VALUES', ascending=False)"
   ]
  },
  {
   "cell_type": "code",
   "execution_count": 15,
   "metadata": {},
   "outputs": [],
   "source": [
    "azdias.EINGEFUEGT_AM = pd.to_datetime(azdias.EINGEFUEGT_AM)\n",
    "customers.EINGEFUEGT_AM = pd.to_datetime(customers.EINGEFUEGT_AM)"
   ]
  },
  {
   "cell_type": "code",
   "execution_count": 23,
   "metadata": {},
   "outputs": [],
   "source": [
    "def EINGEFUEGT_AM_processing(df):\n",
    "    \n",
    "    df.EINGEFUEGT_AM = pd.to_datetime(df.EINGEFUEGT_AM)\n",
    "    df['EINGEFUEGT_AM_YEAR'] = df['EINGEFUEGT_AM'].dt.year\n",
    "    df['EINGEFUEGT_AM_MONTH'] = df['EINGEFUEGT_AM'].dt.month\n",
    "    df.drop(columns=['EINGEFUEGT_AM'], inplace=True)\n",
    "\n",
    "    return df"
   ]
  },
  {
   "cell_type": "code",
   "execution_count": 24,
   "metadata": {},
   "outputs": [],
   "source": [
    "azdias = EINGEFUEGT_AM_processing(azdias)\n",
    "customers = EINGEFUEGT_AM_processing(customers)"
   ]
  },
  {
   "cell_type": "code",
   "execution_count": 26,
   "metadata": {},
   "outputs": [
    {
     "ename": "NameError",
     "evalue": "name 'KBA13_ANZAHL_PKW' is not defined",
     "output_type": "error",
     "traceback": [
      "\u001b[0;31m---------------------------------------------------------------------------\u001b[0m",
      "\u001b[0;31mNameError\u001b[0m                                 Traceback (most recent call last)",
      "\u001b[0;32m<ipython-input-26-15d127328b6d>\u001b[0m in \u001b[0;36m<module>\u001b[0;34m()\u001b[0m\n\u001b[0;32m----> 1\u001b[0;31m \u001b[0mKBA13_ANZAHL_PKW\u001b[0m\u001b[0;34m\u001b[0m\u001b[0m\n\u001b[0m\u001b[1;32m      2\u001b[0m \u001b[0mGEBURTSJAHR\u001b[0m\u001b[0;34m\u001b[0m\u001b[0m\n\u001b[1;32m      3\u001b[0m \u001b[0mEINGEZOGENAM_HH_JAHR\u001b[0m\u001b[0;34m\u001b[0m\u001b[0m\n\u001b[1;32m      4\u001b[0m \u001b[0mMIN_GEBAEUDEJAHR\u001b[0m\u001b[0;34m\u001b[0m\u001b[0m\n",
      "\u001b[0;31mNameError\u001b[0m: name 'KBA13_ANZAHL_PKW' is not defined"
     ]
    }
   ],
   "source": [
    "KBA13_ANZAHL_PKW\n",
    "GEBURTSJAHR\n",
    "EINGEZOGENAM_HH_JAHR\n",
    "MIN_GEBAEUDEJAHR"
   ]
  },
  {
   "cell_type": "code",
   "execution_count": 35,
   "metadata": {},
   "outputs": [],
   "source": [
    "def continuous_processing(df):\n",
    "    continuous_columns = ['KBA13_ANZAHL_PKW','GEBURTSJAHR','EINGEZOGENAM_HH_JAHR','MIN_GEBAEUDEJAHR']\n",
    "\n",
    "    for column in continuous_columns:\n",
    "        if abs(df[column].skew()) > 1.0:\n",
    "            df[column] = np.log(df[column])\n",
    "    \n",
    "    return df    "
   ]
  },
  {
   "cell_type": "code",
   "execution_count": 36,
   "metadata": {},
   "outputs": [
    {
     "name": "stderr",
     "output_type": "stream",
     "text": [
      "/opt/conda/lib/python3.6/site-packages/ipykernel_launcher.py:6: RuntimeWarning: divide by zero encountered in log\n",
      "  \n"
     ]
    }
   ],
   "source": [
    "azdias = continuous_processing(azdias)\n",
    "customers = continuous_processing(customers)"
   ]
  },
  {
   "cell_type": "code",
   "execution_count": 52,
   "metadata": {},
   "outputs": [],
   "source": [
    "contin_attr = ['KBA13_ANZAHL_PKW','GEBURTSJAHR','EINGEZOGENAM_HH_JAHR','MIN_GEBAEUDEJAHR', 'EINGEFUEGT_AM_YEAR']"
   ]
  },
  {
   "cell_type": "code",
   "execution_count": 53,
   "metadata": {},
   "outputs": [],
   "source": [
    "binary_attr = attribute_info[attribute_info.NUM_VALUES <= 2].ATTRIBUTE.values"
   ]
  },
  {
   "cell_type": "code",
   "execution_count": 57,
   "metadata": {},
   "outputs": [],
   "source": [
    "cat_attr = attribute_info[~attribute_info.ATTRIBUTE.isin([binary_attr, contin_attr])]['ATTRIBUTE'].values.tolist()\n",
    "cat_attr.append('EINGEFUEGT_AM_MONTH')"
   ]
  },
  {
   "cell_type": "code",
   "execution_count": 62,
   "metadata": {},
   "outputs": [
    {
     "name": "stdout",
     "output_type": "stream",
     "text": [
      "Collecting sklearn\n",
      "  Downloading https://files.pythonhosted.org/packages/1e/7a/dbb3be0ce9bd5c8b7e3d87328e79063f8b263b2b1bfa4774cb1147bfcd3f/sklearn-0.0.tar.gz\n",
      "Requirement already satisfied, skipping upgrade: scikit-learn in /opt/conda/lib/python3.6/site-packages (from sklearn) (0.19.1)\n",
      "Building wheels for collected packages: sklearn\n",
      "  Running setup.py bdist_wheel for sklearn ... \u001b[?25ldone\n",
      "\u001b[?25h  Stored in directory: /root/.cache/pip/wheels/76/03/bb/589d421d27431bcd2c6da284d5f2286c8e3b2ea3cf1594c074\n",
      "Successfully built sklearn\n",
      "Installing collected packages: sklearn\n",
      "Successfully installed sklearn-0.0\n"
     ]
    }
   ],
   "source": [
    "!pip install -U sklearn"
   ]
  },
  {
   "cell_type": "code",
   "execution_count": 70,
   "metadata": {},
   "outputs": [],
   "source": [
    "from sklearn.preprocessing import FunctionTransformer, Imputer, StandardScaler"
   ]
  },
  {
   "cell_type": "code",
   "execution_count": 43,
   "metadata": {},
   "outputs": [
    {
     "data": {
      "text/plain": [
       "<matplotlib.axes._subplots.AxesSubplot at 0x7f97c544aa90>"
      ]
     },
     "execution_count": 43,
     "metadata": {},
     "output_type": "execute_result"
    },
    {
     "data": {
      "image/png": "[encoded data removed]",
      "text/plain": [
       "<matplotlib.figure.Figure at 0x7f97c8799320>"
      ]
     },
     "metadata": {
      "needs_background": "light"
     },
     "output_type": "display_data"
    }
   ],
   "source": [
    "azdias['MIN_GEBAEUDEJAHR'].plot(kind='hist')"
   ]
  },
  {
   "cell_type": "code",
   "execution_count": 9,
   "metadata": {},
   "outputs": [
    {
     "ename": "TypeError",
     "evalue": "could not convert string to float: '1992-02-10'",
     "output_type": "error",
     "traceback": [
      "\u001b[0;31m---------------------------------------------------------------------------\u001b[0m",
      "\u001b[0;31mValueError\u001b[0m                                Traceback (most recent call last)",
      "\u001b[0;32m/opt/conda/lib/python3.6/site-packages/pandas/core/nanops.py\u001b[0m in \u001b[0;36m_f\u001b[0;34m(*args, **kwargs)\u001b[0m\n\u001b[1;32m     76\u001b[0m                 \u001b[0;32mwith\u001b[0m \u001b[0mnp\u001b[0m\u001b[0;34m.\u001b[0m\u001b[0merrstate\u001b[0m\u001b[0;34m(\u001b[0m\u001b[0minvalid\u001b[0m\u001b[0;34m=\u001b[0m\u001b[0;34m'ignore'\u001b[0m\u001b[0;34m)\u001b[0m\u001b[0;34m:\u001b[0m\u001b[0;34m\u001b[0m\u001b[0m\n\u001b[0;32m---> 77\u001b[0;31m                     \u001b[0;32mreturn\u001b[0m \u001b[0mf\u001b[0m\u001b[0;34m(\u001b[0m\u001b[0;34m*\u001b[0m\u001b[0margs\u001b[0m\u001b[0;34m,\u001b[0m \u001b[0;34m**\u001b[0m\u001b[0mkwargs\u001b[0m\u001b[0;34m)\u001b[0m\u001b[0;34m\u001b[0m\u001b[0m\n\u001b[0m\u001b[1;32m     78\u001b[0m             \u001b[0;32mexcept\u001b[0m \u001b[0mValueError\u001b[0m \u001b[0;32mas\u001b[0m \u001b[0me\u001b[0m\u001b[0;34m:\u001b[0m\u001b[0;34m\u001b[0m\u001b[0m\n",
      "\u001b[0;32m/opt/conda/lib/python3.6/site-packages/pandas/core/nanops.py\u001b[0m in \u001b[0;36mnanskew\u001b[0;34m(values, axis, skipna)\u001b[0m\n\u001b[1;32m    554\u001b[0m     \u001b[0;32mif\u001b[0m \u001b[0;32mnot\u001b[0m \u001b[0mis_float_dtype\u001b[0m\u001b[0;34m(\u001b[0m\u001b[0mvalues\u001b[0m\u001b[0;34m.\u001b[0m\u001b[0mdtype\u001b[0m\u001b[0;34m)\u001b[0m\u001b[0;34m:\u001b[0m\u001b[0;34m\u001b[0m\u001b[0m\n\u001b[0;32m--> 555\u001b[0;31m         \u001b[0mvalues\u001b[0m \u001b[0;34m=\u001b[0m \u001b[0mvalues\u001b[0m\u001b[0;34m.\u001b[0m\u001b[0mastype\u001b[0m\u001b[0;34m(\u001b[0m\u001b[0;34m'f8'\u001b[0m\u001b[0;34m)\u001b[0m\u001b[0;34m\u001b[0m\u001b[0m\n\u001b[0m\u001b[1;32m    556\u001b[0m         \u001b[0mcount\u001b[0m \u001b[0;34m=\u001b[0m \u001b[0m_get_counts\u001b[0m\u001b[0;34m(\u001b[0m\u001b[0mmask\u001b[0m\u001b[0;34m,\u001b[0m \u001b[0maxis\u001b[0m\u001b[0;34m)\u001b[0m\u001b[0;34m\u001b[0m\u001b[0m\n",
      "\u001b[0;31mValueError\u001b[0m: could not convert string to float: '1992-02-10'",
      "\nDuring handling of the above exception, another exception occurred:\n",
      "\u001b[0;31mTypeError\u001b[0m                                 Traceback (most recent call last)",
      "\u001b[0;32m<ipython-input-9-6666d4222718>\u001b[0m in \u001b[0;36m<module>\u001b[0;34m()\u001b[0m\n\u001b[1;32m      1\u001b[0m \u001b[0;32mfor\u001b[0m \u001b[0mi\u001b[0m \u001b[0;32min\u001b[0m \u001b[0mattribute_info\u001b[0m\u001b[0;34m.\u001b[0m\u001b[0msort_values\u001b[0m\u001b[0;34m(\u001b[0m\u001b[0mby\u001b[0m\u001b[0;34m=\u001b[0m\u001b[0;34m'NUM_VALUES'\u001b[0m\u001b[0;34m,\u001b[0m \u001b[0mascending\u001b[0m\u001b[0;34m=\u001b[0m\u001b[0;32mFalse\u001b[0m\u001b[0;34m)\u001b[0m\u001b[0;34m[\u001b[0m\u001b[0;34m'ATTRIBUTE'\u001b[0m\u001b[0;34m]\u001b[0m\u001b[0;34m[\u001b[0m\u001b[0;34m:\u001b[0m\u001b[0;36m5\u001b[0m\u001b[0;34m]\u001b[0m\u001b[0;34m.\u001b[0m\u001b[0mvalues\u001b[0m\u001b[0;34m:\u001b[0m\u001b[0;34m\u001b[0m\u001b[0m\n\u001b[1;32m      2\u001b[0m \u001b[0;34m\u001b[0m\u001b[0m\n\u001b[0;32m----> 3\u001b[0;31m     \u001b[0mprint\u001b[0m\u001b[0;34m(\u001b[0m\u001b[0;34mf'{i} Skew: {azdias[i].skew()}'\u001b[0m\u001b[0;34m)\u001b[0m\u001b[0;34m\u001b[0m\u001b[0m\n\u001b[0m",
      "\u001b[0;32m/opt/conda/lib/python3.6/site-packages/pandas/core/generic.py\u001b[0m in \u001b[0;36mstat_func\u001b[0;34m(self, axis, skipna, level, numeric_only, **kwargs)\u001b[0m\n\u001b[1;32m   9609\u001b[0m                                       skipna=skipna)\n\u001b[1;32m   9610\u001b[0m         return self._reduce(f, name, axis=axis, skipna=skipna,\n\u001b[0;32m-> 9611\u001b[0;31m                             numeric_only=numeric_only)\n\u001b[0m\u001b[1;32m   9612\u001b[0m \u001b[0;34m\u001b[0m\u001b[0m\n\u001b[1;32m   9613\u001b[0m     \u001b[0;32mreturn\u001b[0m \u001b[0mset_function_name\u001b[0m\u001b[0;34m(\u001b[0m\u001b[0mstat_func\u001b[0m\u001b[0;34m,\u001b[0m \u001b[0mname\u001b[0m\u001b[0;34m,\u001b[0m \u001b[0mcls\u001b[0m\u001b[0;34m)\u001b[0m\u001b[0;34m\u001b[0m\u001b[0m\n",
      "\u001b[0;32m/opt/conda/lib/python3.6/site-packages/pandas/core/series.py\u001b[0m in \u001b[0;36m_reduce\u001b[0;34m(self, op, name, axis, skipna, numeric_only, filter_type, **kwds)\u001b[0m\n\u001b[1;32m   3219\u001b[0m                                           'numeric_only.'.format(name))\n\u001b[1;32m   3220\u001b[0m             \u001b[0;32mwith\u001b[0m \u001b[0mnp\u001b[0m\u001b[0;34m.\u001b[0m\u001b[0merrstate\u001b[0m\u001b[0;34m(\u001b[0m\u001b[0mall\u001b[0m\u001b[0;34m=\u001b[0m\u001b[0;34m'ignore'\u001b[0m\u001b[0;34m)\u001b[0m\u001b[0;34m:\u001b[0m\u001b[0;34m\u001b[0m\u001b[0m\n\u001b[0;32m-> 3221\u001b[0;31m                 \u001b[0;32mreturn\u001b[0m \u001b[0mop\u001b[0m\u001b[0;34m(\u001b[0m\u001b[0mdelegate\u001b[0m\u001b[0;34m,\u001b[0m \u001b[0mskipna\u001b[0m\u001b[0;34m=\u001b[0m\u001b[0mskipna\u001b[0m\u001b[0;34m,\u001b[0m \u001b[0;34m**\u001b[0m\u001b[0mkwds\u001b[0m\u001b[0;34m)\u001b[0m\u001b[0;34m\u001b[0m\u001b[0m\n\u001b[0m\u001b[1;32m   3222\u001b[0m \u001b[0;34m\u001b[0m\u001b[0m\n\u001b[1;32m   3223\u001b[0m         return delegate._reduce(op=op, name=name, axis=axis, skipna=skipna,\n",
      "\u001b[0;32m/opt/conda/lib/python3.6/site-packages/pandas/core/nanops.py\u001b[0m in \u001b[0;36m_f\u001b[0;34m(*args, **kwargs)\u001b[0m\n\u001b[1;32m     82\u001b[0m                 \u001b[0;31m# object arrays that contain strings\u001b[0m\u001b[0;34m\u001b[0m\u001b[0;34m\u001b[0m\u001b[0m\n\u001b[1;32m     83\u001b[0m                 \u001b[0;32mif\u001b[0m \u001b[0mis_object_dtype\u001b[0m\u001b[0;34m(\u001b[0m\u001b[0margs\u001b[0m\u001b[0;34m[\u001b[0m\u001b[0;36m0\u001b[0m\u001b[0;34m]\u001b[0m\u001b[0;34m)\u001b[0m\u001b[0;34m:\u001b[0m\u001b[0;34m\u001b[0m\u001b[0m\n\u001b[0;32m---> 84\u001b[0;31m                     \u001b[0;32mraise\u001b[0m \u001b[0mTypeError\u001b[0m\u001b[0;34m(\u001b[0m\u001b[0me\u001b[0m\u001b[0;34m)\u001b[0m\u001b[0;34m\u001b[0m\u001b[0m\n\u001b[0m\u001b[1;32m     85\u001b[0m                 \u001b[0;32mraise\u001b[0m\u001b[0;34m\u001b[0m\u001b[0m\n\u001b[1;32m     86\u001b[0m \u001b[0;34m\u001b[0m\u001b[0m\n",
      "\u001b[0;31mTypeError\u001b[0m: could not convert string to float: '1992-02-10'"
     ]
    }
   ],
   "source": [
    "for i in attribute_info.sort_values(by='NUM_VALUES', ascending=False)['ATTRIBUTE'][:5].values:\n",
    "\n",
    "    print(f'{i} Skew: {azdias[i].skew()}')"
   ]
  },
  {
   "cell_type": "code",
   "execution_count": 20,
   "metadata": {},
   "outputs": [
    {
     "data": {
      "text/plain": [
       "<matplotlib.axes._subplots.AxesSubplot at 0x7f6e442a4780>"
      ]
     },
     "execution_count": 20,
     "metadata": {},
     "output_type": "execute_result"
    },
    {
     "data": {
      "image/png": "[encoded data removed]",
      "text/plain": [
       "<matplotlib.figure.Figure at 0x7f6e4348d128>"
      ]
     },
     "metadata": {
      "needs_background": "light"
     },
     "output_type": "display_data"
    }
   ],
   "source": [
    "azdias['EINGEFUEGT_AM'].plot(kind='hist', bins=50)"
   ]
  },
  {
   "cell_type": "code",
   "execution_count": 48,
   "metadata": {},
   "outputs": [
    {
     "data": {
      "text/plain": [
       "array(['EINGEFUEGT_AM', 'KBA13_ANZAHL_PKW', 'GEBURTSJAHR',\n",
       "       'EINGEZOGENAM_HH_JAHR'], dtype=object)"
      ]
     },
     "execution_count": 48,
     "metadata": {},
     "output_type": "execute_result"
    }
   ],
   "source": [
    "attribute_info.sort_values(by='NUM_VALUES', ascending=False)['ATTRIBUTE'][:4].values"
   ]
  },
  {
   "cell_type": "code",
   "execution_count": 18,
   "metadata": {},
   "outputs": [],
   "source": [
    "azdias['EINGEFUEGT_AM'] = pd.to_datetime(azdias['EINGEFUEGT_AM'])"
   ]
  },
  {
   "cell_type": "code",
   "execution_count": 19,
   "metadata": {},
   "outputs": [],
   "source": [
    "azdias['EINGEFUEGT_AM'] = azdias['EINGEFUEGT_AM'].dt.year"
   ]
  },
  {
   "cell_type": "code",
   "execution_count": 23,
   "metadata": {},
   "outputs": [
    {
     "data": {
      "text/plain": [
       "<matplotlib.axes._subplots.AxesSubplot at 0x7f6e4286e978>"
      ]
     },
     "execution_count": 23,
     "metadata": {},
     "output_type": "execute_result"
    },
    {
     "data": {
      "image/png": "[encoded data removed]",
      "text/plain": [
       "<matplotlib.figure.Figure at 0x7f6e428bde48>"
      ]
     },
     "metadata": {
      "needs_background": "light"
     },
     "output_type": "display_data"
    }
   ],
   "source": [
    "azdias['EINGEFUEGT_AM'].plot(kind='hist', bins=50)"
   ]
  },
  {
   "cell_type": "code",
   "execution_count": 25,
   "metadata": {},
   "outputs": [
    {
     "data": {
      "text/plain": [
       "<matplotlib.axes._subplots.AxesSubplot at 0x7f6e42751860>"
      ]
     },
     "execution_count": 25,
     "metadata": {},
     "output_type": "execute_result"
    },
    {
     "data": {
      "image/png": "[encoded data removed]",
      "text/plain": [
       "<matplotlib.figure.Figure at 0x7f6e427ff898>"
      ]
     },
     "metadata": {
      "needs_background": "light"
     },
     "output_type": "display_data"
    }
   ],
   "source": [
    "np.log(azdias['EINGEFUEGT_AM']).plot(kind='hist', bins=50)"
   ]
  },
  {
   "cell_type": "code",
   "execution_count": 30,
   "metadata": {},
   "outputs": [
    {
     "name": "stdout",
     "output_type": "stream",
     "text": [
      "2.83002956623\n",
      "2.82531286553\n",
      "2.82766956976\n"
     ]
    }
   ],
   "source": [
    "print(azdias['EINGEFUEGT_AM'].skew())\n",
    "print(np.log(azdias['EINGEFUEGT_AM']).skew())\n",
    "print(np.sqrt(azdias['EINGEFUEGT_AM']).skew())"
   ]
  },
  {
   "cell_type": "code",
   "execution_count": 36,
   "metadata": {},
   "outputs": [
    {
     "name": "stdout",
     "output_type": "stream",
     "text": [
      "0\n"
     ]
    }
   ],
   "source": [
    "from scipy import stats\n",
    "crim_box = stats.boxcox(azdias['EINGEFUEGT_AM'])[0]\n",
    "print(pd.Series(crim_box).skew())"
   ]
  },
  {
   "cell_type": "code",
   "execution_count": 38,
   "metadata": {},
   "outputs": [
    {
     "data": {
      "text/plain": [
       "<matplotlib.axes._subplots.AxesSubplot at 0x7f6e42673908>"
      ]
     },
     "execution_count": 38,
     "metadata": {},
     "output_type": "execute_result"
    },
    {
     "data": {
      "image/png": "[encoded data removed]",
      "text/plain": [
       "<matplotlib.figure.Figure at 0x7f6e42e805f8>"
      ]
     },
     "metadata": {
      "needs_background": "light"
     },
     "output_type": "display_data"
    }
   ],
   "source": [
    "pd.Series(crim_box).plot(kind='hist', bins=50)"
   ]
  },
  {
   "cell_type": "code",
   "execution_count": 51,
   "metadata": {},
   "outputs": [
    {
     "name": "stdout",
     "output_type": "stream",
     "text": [
      "0.0171784777269\n"
     ]
    }
   ],
   "source": [
    "crim_box = stats.boxcox(azdias['KBA13_ANZAHL_PKW'][azdias['KBA13_ANZAHL_PKW'] != 0])[0]\n",
    "print(pd.Series(crim_box).skew())"
   ]
  },
  {
   "cell_type": "code",
   "execution_count": 53,
   "metadata": {},
   "outputs": [
    {
     "data": {
      "text/plain": [
       "<matplotlib.axes._subplots.AxesSubplot at 0x7f6e423556a0>"
      ]
     },
     "execution_count": 53,
     "metadata": {},
     "output_type": "execute_result"
    },
    {
     "data": {
      "image/png": "[encoded data removed]",
      "text/plain": [
       "<matplotlib.figure.Figure at 0x7f6e425ff1d0>"
      ]
     },
     "metadata": {
      "needs_background": "light"
     },
     "output_type": "display_data"
    }
   ],
   "source": [
    "pd.Series(crim_box).plot(kind='hist')"
   ]
  },
  {
   "cell_type": "code",
   "execution_count": 60,
   "metadata": {},
   "outputs": [
    {
     "data": {
      "text/plain": [
       "<matplotlib.axes._subplots.AxesSubplot at 0x7f6e421b6208>"
      ]
     },
     "execution_count": 60,
     "metadata": {},
     "output_type": "execute_result"
    },
    {
     "data": {
      "image/png": "[encoded data removed]",
      "text/plain": [
       "<matplotlib.figure.Figure at 0x7f6e4235c898>"
      ]
     },
     "metadata": {
      "needs_background": "light"
     },
     "output_type": "display_data"
    }
   ],
   "source": [
    "azdias['KBA13_ANZAHL_PKW'].plot(kind='hist')"
   ]
  },
  {
   "cell_type": "markdown",
   "metadata": {},
   "source": [
    "## Part 1: Customer Segmentation Report\n",
    "\n",
    "The main bulk of your analysis will come in this part of the project. Here, you should use unsupervised learning techniques to describe the relationship between the demographics of the company's existing customers and the general population of Germany. By the end of this part, you should be able to describe parts of the general population that are more likely to be part of the mail-order company's main customer base, and which parts of the general population are less so."
   ]
  },
  {
   "cell_type": "code",
   "execution_count": null,
   "metadata": {},
   "outputs": [],
   "source": []
  },
  {
   "cell_type": "markdown",
   "metadata": {},
   "source": [
    "## Part 2: Supervised Learning Model\n",
    "\n",
    "Now that you've found which parts of the population are more likely to be customers of the mail-order company, it's time to build a prediction model. Each of the rows in the \"MAILOUT\" data files represents an individual that was targeted for a mailout campaign. Ideally, we should be able to use the demographic information from each individual to decide whether or not it will be worth it to include that person in the campaign.\n",
    "\n",
    "The \"MAILOUT\" data has been split into two approximately equal parts, each with almost 43 000 data rows. In this part, you can verify your model with the \"TRAIN\" partition, which includes a column, \"RESPONSE\", that states whether or not a person became a customer of the company following the campaign. In the next part, you'll need to create predictions on the \"TEST\" partition, where the \"RESPONSE\" column has been withheld."
   ]
  },
  {
   "cell_type": "code",
   "execution_count": null,
   "metadata": {},
   "outputs": [],
   "source": [
    "mailout_train = pd.read_csv('../../data/Term2/capstone/arvato_data/Udacity_MAILOUT_052018_TRAIN.csv', sep=';')"
   ]
  },
  {
   "cell_type": "code",
   "execution_count": null,
   "metadata": {},
   "outputs": [],
   "source": []
  },
  {
   "cell_type": "markdown",
   "metadata": {},
   "source": [
    "## Part 3: Kaggle Competition\n",
    "\n",
    "Now that you've created a model to predict which individuals are most likely to respond to a mailout campaign, it's time to test that model in competition through Kaggle. If you click on the link [here](http://www.kaggle.com/t/21e6d45d4c574c7fa2d868f0e8c83140), you'll be taken to the competition page where, if you have a Kaggle account, you can enter. If you're one of the top performers, you may have the chance to be contacted by a hiring manager from Arvato or Bertelsmann for an interview!\n",
    "\n",
    "Your entry to the competition should be a CSV file with two columns. The first column should be a copy of \"LNR\", which acts as an ID number for each individual in the \"TEST\" partition. The second column, \"RESPONSE\", should be some measure of how likely each individual became a customer – this might not be a straightforward probability. As you should have found in Part 2, there is a large output class imbalance, where most individuals did not respond to the mailout. Thus, predicting individual classes and using accuracy does not seem to be an appropriate performance evaluation method. Instead, the competition will be using AUC to evaluate performance. The exact values of the \"RESPONSE\" column do not matter as much: only that the higher values try to capture as many of the actual customers as possible, early in the ROC curve sweep."
   ]
  },
  {
   "cell_type": "code",
   "execution_count": null,
   "metadata": {},
   "outputs": [],
   "source": [
    "mailout_test = pd.read_csv('../../data/Term2/capstone/arvato_data/Udacity_MAILOUT_052018_TEST.csv', sep=';')"
   ]
  },
  {
   "cell_type": "code",
   "execution_count": null,
   "metadata": {},
   "outputs": [],
   "source": []
  }
 ],
 "metadata": {
  "kernelspec": {
   "display_name": "Python 3",
   "language": "python",
   "name": "python3"
  },
  "language_info": {
   "codemirror_mode": {
    "name": "ipython",
    "version": 3
   },
   "file_extension": ".py",
   "mimetype": "text/x-python",
   "name": "python",
   "nbconvert_exporter": "python",
   "pygments_lexer": "ipython3",
   "version": "3.6.3"
  }
 },
 "nbformat": 4,
 "nbformat_minor": 2
}
