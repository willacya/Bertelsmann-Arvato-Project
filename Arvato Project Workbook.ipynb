{
 "cells": [
  {
   "cell_type": "markdown",
   "metadata": {},
   "source": [
    "# Capstone Project: Create a Customer Segmentation Report for Arvato Financial Services\n",
    "\n",
    "In this project, you will analyze demographics data for customers of a mail-order sales company in Germany, comparing it against demographics information for the general population. You'll use unsupervised learning techniques to perform customer segmentation, identifying the parts of the population that best describe the core customer base of the company. Then, you'll apply what you've learned on a third dataset with demographics information for targets of a marketing campaign for the company, and use a model to predict which individuals are most likely to convert into becoming customers for the company. The data that you will use has been provided by our partners at Bertelsmann Arvato Analytics, and represents a real-life data science task.\n",
    "\n",
    "If you completed the first term of this program, you will be familiar with the first part of this project, from the unsupervised learning project. The versions of those two datasets used in this project will include many more features and has not been pre-cleaned. You are also free to choose whatever approach you'd like to analyzing the data rather than follow pre-determined steps. In your work on this project, make sure that you carefully document your steps and decisions, since your main deliverable for this project will be a blog post reporting your findings."
   ]
  },
  {
   "cell_type": "code",
   "execution_count": 1,
   "metadata": {},
   "outputs": [],
   "source": [
    "# import libraries here; add more as necessary\n",
    "import numpy as np\n",
    "import pandas as pd\n",
    "import matplotlib.pyplot as plt\n",
    "import seaborn as sns\n",
    "import time\n",
    "\n",
    "# magic word for producing visualizations in notebook\n",
    "%matplotlib inline"
   ]
  },
  {
   "cell_type": "markdown",
   "metadata": {},
   "source": [
    "## Part 0: Get to Know the Data\n",
    "\n",
    "There are four data files associated with this project:\n",
    "\n",
    "- `Udacity_AZDIAS_052018.csv`: Demographics data for the general population of Germany; 891 211 persons (rows) x 366 features (columns).\n",
    "- `Udacity_CUSTOMERS_052018.csv`: Demographics data for customers of a mail-order company; 191 652 persons (rows) x 369 features (columns).\n",
    "- `Udacity_MAILOUT_052018_TRAIN.csv`: Demographics data for individuals who were targets of a marketing campaign; 42 982 persons (rows) x 367 (columns).\n",
    "- `Udacity_MAILOUT_052018_TEST.csv`: Demographics data for individuals who were targets of a marketing campaign; 42 833 persons (rows) x 366 (columns).\n",
    "\n",
    "Each row of the demographics files represents a single person, but also includes information outside of individuals, including information about their household, building, and neighborhood. Use the information from the first two files to figure out how customers (\"CUSTOMERS\") are similar to or differ from the general population at large (\"AZDIAS\"), then use your analysis to make predictions on the other two files (\"MAILOUT\"), predicting which recipients are most likely to become a customer for the mail-order company.\n",
    "\n",
    "The \"CUSTOMERS\" file contains three extra columns ('CUSTOMER_GROUP', 'ONLINE_PURCHASE', and 'PRODUCT_GROUP'), which provide broad information about the customers depicted in the file. The original \"MAILOUT\" file included one additional column, \"RESPONSE\", which indicated whether or not each recipient became a customer of the company. For the \"TRAIN\" subset, this column has been retained, but in the \"TEST\" subset it has been removed; it is against that withheld column that your final predictions will be assessed in the Kaggle competition.\n",
    "\n",
    "Otherwise, all of the remaining columns are the same between the three data files. For more information about the columns depicted in the files, you can refer to two Excel spreadsheets provided in the workspace. [One of them](./DIAS Information Levels - Attributes 2017.xlsx) is a top-level list of attributes and descriptions, organized by informational category. [The other](./DIAS Attributes - Values 2017.xlsx) is a detailed mapping of data values for each feature in alphabetical order.\n",
    "\n",
    "In the below cell, we've provided some initial code to load in the first two datasets. Note for all of the `.csv` data files in this project that they're semicolon (`;`) delimited, so an additional argument in the [`read_csv()`](https://pandas.pydata.org/pandas-docs/stable/generated/pandas.read_csv.html) call has been included to read in the data properly. Also, considering the size of the datasets, it may take some time for them to load completely.\n",
    "\n",
    "You'll notice when the data is loaded in that a warning message will immediately pop up. Before you really start digging into the modeling and analysis, you're going to need to perform some cleaning. Take some time to browse the structure of the data and look over the informational spreadsheets to understand the data values. Make some decisions on which features to keep, which features to drop, and if any revisions need to be made on data formats. It'll be a good idea to create a function with pre-processing steps, since you'll need to clean all of the datasets before you work with them."
   ]
  },
  {
   "cell_type": "code",
   "execution_count": 2,
   "metadata": {},
   "outputs": [
    {
     "name": "stderr",
     "output_type": "stream",
     "text": [
      "<string>:2: DtypeWarning: Columns (18,19) have mixed types. Specify dtype option on import or set low_memory=False.\n"
     ]
    },
    {
     "name": "stdout",
     "output_type": "stream",
     "text": [
      "CPU times: user 43.7 s, sys: 14.2 s, total: 57.8 s\n",
      "Wall time: 14min 34s\n"
     ]
    }
   ],
   "source": [
    "%%time\n",
    "# load in the data\n",
    "azdias = pd.read_csv('../../data/Term2/capstone/arvato_data/Udacity_AZDIAS_052018.csv', sep=';')\n"
   ]
  },
  {
   "cell_type": "code",
   "execution_count": 3,
   "metadata": {},
   "outputs": [
    {
     "name": "stderr",
     "output_type": "stream",
     "text": [
      "/opt/conda/lib/python3.6/site-packages/IPython/core/interactiveshell.py:2785: DtypeWarning: Columns (18,19) have mixed types. Specify dtype option on import or set low_memory=False.\n",
      "  interactivity=interactivity, compiler=compiler, result=result)\n"
     ]
    }
   ],
   "source": [
    "customers = pd.read_csv('../../data/Term2/capstone/arvato_data/Udacity_CUSTOMERS_052018.csv', sep=';')"
   ]
  },
  {
   "cell_type": "code",
   "execution_count": 4,
   "metadata": {},
   "outputs": [],
   "source": [
    "azdias_orgi_cols = azdias.columns\n",
    "customers_orgi_cols = customers.columns"
   ]
  },
  {
   "cell_type": "code",
   "execution_count": 8,
   "metadata": {},
   "outputs": [],
   "source": [
    "attr_values = pd.read_excel(\"DIAS Attributes - Values 2017.xlsx\")"
   ]
  },
  {
   "cell_type": "code",
   "execution_count": null,
   "metadata": {},
   "outputs": [],
   "source": [
    "attribute_desc = pd.read_excel(\"DIAS Information Levels - Attributes 2017.xlsx\")"
   ]
  },
  {
   "cell_type": "markdown",
   "metadata": {},
   "source": [
    "The DIAS Attributes excel file shows a lot of values that are unknown are encoded with a value. To change this to an np.nan value we'll create a dictionary from the excel file with Attribute as the key and Value as value, where Meaning is unknown."
   ]
  },
  {
   "cell_type": "code",
   "execution_count": 148,
   "metadata": {},
   "outputs": [
    {
     "data": {
      "text/html": [
       "<div>\n",
       "<style scoped>\n",
       "    .dataframe tbody tr th:only-of-type {\n",
       "        vertical-align: middle;\n",
       "    }\n",
       "\n",
       "    .dataframe tbody tr th {\n",
       "        vertical-align: top;\n",
       "    }\n",
       "\n",
       "    .dataframe thead th {\n",
       "        text-align: right;\n",
       "    }\n",
       "</style>\n",
       "<table border=\"1\" class=\"dataframe\">\n",
       "  <thead>\n",
       "    <tr style=\"text-align: right;\">\n",
       "      <th></th>\n",
       "      <th>Unnamed: 0</th>\n",
       "      <th>Attribute</th>\n",
       "      <th>Description</th>\n",
       "      <th>Value</th>\n",
       "      <th>Meaning</th>\n",
       "    </tr>\n",
       "  </thead>\n",
       "  <tbody>\n",
       "    <tr>\n",
       "      <th>0</th>\n",
       "      <td>NaN</td>\n",
       "      <td>AGER_TYP</td>\n",
       "      <td>best-ager typology</td>\n",
       "      <td>-1</td>\n",
       "      <td>unknown</td>\n",
       "    </tr>\n",
       "    <tr>\n",
       "      <th>1</th>\n",
       "      <td>NaN</td>\n",
       "      <td>NaN</td>\n",
       "      <td>NaN</td>\n",
       "      <td>0</td>\n",
       "      <td>no classification possible</td>\n",
       "    </tr>\n",
       "    <tr>\n",
       "      <th>2</th>\n",
       "      <td>NaN</td>\n",
       "      <td>NaN</td>\n",
       "      <td>NaN</td>\n",
       "      <td>1</td>\n",
       "      <td>passive elderly</td>\n",
       "    </tr>\n",
       "    <tr>\n",
       "      <th>3</th>\n",
       "      <td>NaN</td>\n",
       "      <td>NaN</td>\n",
       "      <td>NaN</td>\n",
       "      <td>2</td>\n",
       "      <td>cultural elderly</td>\n",
       "    </tr>\n",
       "    <tr>\n",
       "      <th>4</th>\n",
       "      <td>NaN</td>\n",
       "      <td>NaN</td>\n",
       "      <td>NaN</td>\n",
       "      <td>3</td>\n",
       "      <td>experience-driven elderly</td>\n",
       "    </tr>\n",
       "    <tr>\n",
       "      <th>5</th>\n",
       "      <td>NaN</td>\n",
       "      <td>ALTERSKATEGORIE_GROB</td>\n",
       "      <td>age classification through prename analysis</td>\n",
       "      <td>-1, 0</td>\n",
       "      <td>unknown</td>\n",
       "    </tr>\n",
       "    <tr>\n",
       "      <th>6</th>\n",
       "      <td>NaN</td>\n",
       "      <td>NaN</td>\n",
       "      <td>NaN</td>\n",
       "      <td>1</td>\n",
       "      <td>&lt; 30 years</td>\n",
       "    </tr>\n",
       "    <tr>\n",
       "      <th>7</th>\n",
       "      <td>NaN</td>\n",
       "      <td>NaN</td>\n",
       "      <td>NaN</td>\n",
       "      <td>2</td>\n",
       "      <td>30 - 45 years</td>\n",
       "    </tr>\n",
       "    <tr>\n",
       "      <th>8</th>\n",
       "      <td>NaN</td>\n",
       "      <td>NaN</td>\n",
       "      <td>NaN</td>\n",
       "      <td>3</td>\n",
       "      <td>46 - 60 years</td>\n",
       "    </tr>\n",
       "    <tr>\n",
       "      <th>9</th>\n",
       "      <td>NaN</td>\n",
       "      <td>NaN</td>\n",
       "      <td>NaN</td>\n",
       "      <td>4</td>\n",
       "      <td>&gt; 60 years</td>\n",
       "    </tr>\n",
       "  </tbody>\n",
       "</table>\n",
       "</div>"
      ],
      "text/plain": [
       "   Unnamed: 0             Attribute  \\\n",
       "0         NaN              AGER_TYP   \n",
       "1         NaN                   NaN   \n",
       "2         NaN                   NaN   \n",
       "3         NaN                   NaN   \n",
       "4         NaN                   NaN   \n",
       "5         NaN  ALTERSKATEGORIE_GROB   \n",
       "6         NaN                   NaN   \n",
       "7         NaN                   NaN   \n",
       "8         NaN                   NaN   \n",
       "9         NaN                   NaN   \n",
       "\n",
       "                                    Description  Value  \\\n",
       "0                            best-ager typology     -1   \n",
       "1                                           NaN      0   \n",
       "2                                           NaN      1   \n",
       "3                                           NaN      2   \n",
       "4                                           NaN      3   \n",
       "5  age classification through prename analysis   -1, 0   \n",
       "6                                           NaN      1   \n",
       "7                                           NaN      2   \n",
       "8                                           NaN      3   \n",
       "9                                           NaN      4   \n",
       "\n",
       "                      Meaning  \n",
       "0                     unknown  \n",
       "1  no classification possible  \n",
       "2             passive elderly  \n",
       "3            cultural elderly  \n",
       "4   experience-driven elderly  \n",
       "5                     unknown  \n",
       "6                  < 30 years  \n",
       "7               30 - 45 years  \n",
       "8               46 - 60 years  \n",
       "9                  > 60 years  "
      ]
     },
     "execution_count": 148,
     "metadata": {},
     "output_type": "execute_result"
    }
   ],
   "source": [
    "attr_values.head(10)"
   ]
  },
  {
   "cell_type": "code",
   "execution_count": 184,
   "metadata": {},
   "outputs": [],
   "source": [
    "# Be sure to add in a lot more cells (both markdown and code) to document your\n",
    "# approach and findings!\n",
    "def replace_value_with_nans(df):\n",
    "    \"\"\"\n",
    "    Changes values in the dataframe to np.nan, that correspond\n",
    "    to unknown values in the attributes excel file.\n",
    "\n",
    "    Attr (dataframe): Original DataFrame\n",
    "    Returns: Processed DataFrame\n",
    "    \"\"\"\n",
    "\n",
    "    # create a dict with key being attribute names, and value as the value used to\n",
    "    # note unknown values in the data (as a list of strings)\n",
    "    attr = attributes[['Attribute','Value','Meaning']]\n",
    "    attr = attr.fillna(method='ffill')\n",
    "    attr = attr[attr.Meaning.isin([\"unknown\", \"unknown / no main age detectable\"])]\n",
    "    attr['Value'] = attr['Value'].apply(lambda x: str(x).split(\", \"))\n",
    "    attr['Value'] = attr['Value'].apply(lambda x: [float(i) for i in x])\n",
    "    unknown_key = dict(zip(attr['Attribute'].values, attr['Value'].values))\n",
    "    \n",
    "    # see if column name is in the dict unknown_key and replace values\n",
    "    filtered_df = df\n",
    "    for i in filtered_df.columns:\n",
    "        try:\n",
    "            filtered_df[i] = df[i].apply(lambda x: np.nan if float(x) in unknown_key[i] else x)\n",
    "        except:\n",
    "            pass\n",
    "\n",
    "    return filtered_df"
   ]
  },
  {
   "cell_type": "code",
   "execution_count": 185,
   "metadata": {},
   "outputs": [
    {
     "name": "stdout",
     "output_type": "stream",
     "text": [
      "CPU times: user 2min 28s, sys: 11.4 s, total: 2min 40s\n",
      "Wall time: 4min 50s\n"
     ]
    }
   ],
   "source": [
    "%%time\n",
    "azdias = replace_value_with_nans(azdias)\n",
    "customers = replace_value_with_nans(customers)"
   ]
  },
  {
   "cell_type": "code",
   "execution_count": 152,
   "metadata": {},
   "outputs": [
    {
     "name": "stdout",
     "output_type": "stream",
     "text": [
      "CPU times: user 8.91 s, sys: 4.86 s, total: 13.8 s\n",
      "Wall time: 2min 37s\n"
     ]
    }
   ],
   "source": [
    "%%time\n",
    "customers_perc_nan = customers.isnull().sum()/len(customers)*100\n",
    "azdias_perc_nan = azdias.isnull().sum()/len(azdias)*100"
   ]
  },
  {
   "cell_type": "code",
   "execution_count": 153,
   "metadata": {},
   "outputs": [
    {
     "data": {
      "image/png": "[encoded data removed]",
      "text/plain": [
       "<matplotlib.figure.Figure at 0x7f4bdf8900b8>"
      ]
     },
     "metadata": {},
     "output_type": "display_data"
    }
   ],
   "source": [
    "bins = 20\n",
    "\n",
    "plt.hist(customers_perc_nan, bins, alpha=0.5, label='customers')\n",
    "plt.hist(azdias_perc_nan, bins, alpha=0.5, label='azdias')\n",
    "plt.legend(loc='upper right')\n",
    "plt.title(\"Histogram of NaN values\")\n",
    "plt.xlabel(\"Percent\")\n",
    "plt.ylabel(\"Number of Features\")\n",
    "plt.show()"
   ]
  },
  {
   "cell_type": "markdown",
   "metadata": {},
   "source": [
    "Typically if a feature has between 20-30% nan values then it's best to drop it from the dataset. Interestingly the customers dataset has features with a higher percentage of missing values than the azdias. Since there is over 200 features with between 25-30% nan values, we'll set the limit at 30%. \n",
    "\n",
    "To keep the same features in both datasets we'll extract the column names with less than 30% nan features and then drop them from both datasets."
   ]
  },
  {
   "cell_type": "code",
   "execution_count": 154,
   "metadata": {},
   "outputs": [],
   "source": [
    "customers_drop = customers_perc_nan[customers_perc_nan > 30]"
   ]
  },
  {
   "cell_type": "code",
   "execution_count": 156,
   "metadata": {},
   "outputs": [],
   "source": [
    "azdias_drop = azdias_perc_nan[azdias_perc_nan > 30]"
   ]
  },
  {
   "cell_type": "code",
   "execution_count": 155,
   "metadata": {},
   "outputs": [
    {
     "data": {
      "text/plain": [
       "ALTER_KIND1     93.860748\n",
       "ALTER_KIND2     97.338927\n",
       "ALTER_KIND3     99.334732\n",
       "ALTER_KIND4     99.876860\n",
       "EXTSEL992       44.498883\n",
       "KK_KUNDENTYP    58.406382\n",
       "dtype: float64"
      ]
     },
     "execution_count": 155,
     "metadata": {},
     "output_type": "execute_result"
    }
   ],
   "source": [
    "customers_drop"
   ]
  },
  {
   "cell_type": "code",
   "execution_count": 157,
   "metadata": {},
   "outputs": [
    {
     "data": {
      "text/plain": [
       "ALTER_KIND1     90.904837\n",
       "ALTER_KIND2     96.690047\n",
       "ALTER_KIND3     99.307691\n",
       "ALTER_KIND4     99.864792\n",
       "EXTSEL992       73.399639\n",
       "KK_KUNDENTYP    65.596749\n",
       "dtype: float64"
      ]
     },
     "execution_count": 157,
     "metadata": {},
     "output_type": "execute_result"
    }
   ],
   "source": [
    "azdias_drop"
   ]
  },
  {
   "cell_type": "code",
   "execution_count": 158,
   "metadata": {},
   "outputs": [],
   "source": [
    "customers.drop(customers_drop.index, axis=1, inplace=True)\n",
    "azdias.drop(customers_drop.index, axis=1, inplace=True)"
   ]
  },
  {
   "cell_type": "code",
   "execution_count": 159,
   "metadata": {},
   "outputs": [
    {
     "name": "stdout",
     "output_type": "stream",
     "text": [
      "Customer features: 363\n",
      "Azdias features: 360\n"
     ]
    }
   ],
   "source": [
    "print(f'Customer features: {customers.shape[1]}')\n",
    "print(f'Azdias features: {azdias.shape[1]}')"
   ]
  },
  {
   "cell_type": "markdown",
   "metadata": {},
   "source": [
    "Only 6 features we had to drop"
   ]
  },
  {
   "cell_type": "code",
   "execution_count": 174,
   "metadata": {},
   "outputs": [],
   "source": [
    "customer_rows_na_perc = round(customers.isna().sum(axis=1)/customers.shape[1]*100,0)\n",
    "azdias_rows_na_perc = round(azdias.isna().sum(axis=1)/azdias.shape[1]*100,0)"
   ]
  },
  {
   "cell_type": "code",
   "execution_count": 176,
   "metadata": {},
   "outputs": [
    {
     "data": {
      "image/png": "[encoded data removed]",
      "text/plain": [
       "<matplotlib.figure.Figure at 0x7f4bf0992a90>"
      ]
     },
     "metadata": {},
     "output_type": "display_data"
    }
   ],
   "source": [
    "plt.hist(azdias_rows_na_perc, bins, alpha=0.5, label='azdias')\n",
    "plt.hist(customer_rows_na_perc, bins, alpha=0.5, label='customers')\n",
    "plt.legend(loc='upper right')\n",
    "plt.title(\"Histogram of NaN values in each row\")\n",
    "plt.xlabel(\"Percent\")\n",
    "plt.ylabel(\"Number of Rows\")\n",
    "plt.show()"
   ]
  },
  {
   "cell_type": "markdown",
   "metadata": {},
   "source": [
    "Theres a much larger fraction of rows that have nan values in customers than there are in the azdias dataset."
   ]
  },
  {
   "cell_type": "code",
   "execution_count": 190,
   "metadata": {},
   "outputs": [
    {
     "name": "stdout",
     "output_type": "stream",
     "text": [
      "Customer rows before: 191652\n",
      "Customer rows after: 141722\n",
      "--------------------\n",
      "Azdias rows before: 891221\n",
      "Azdias rows after: 798057\n",
      "--------------------\n",
      "CPU times: user 8.56 s, sys: 17.4 s, total: 26 s\n",
      "Wall time: 12min 44s\n"
     ]
    }
   ],
   "source": [
    "%%time\n",
    "before_rows_c = customers.shape[0]\n",
    "before_rows_a = azdias.shape[0]\n",
    "customers = customers.loc[customer_rows_na_perc[customer_rows_na_perc < 60].index, :].reset_index(drop=True)\n",
    "azdias = azdias.loc[azdias_rows_na_perc[azdias_rows_na_perc < 60].index, :].reset_index(drop=True)\n",
    "\n",
    "print(f'Customer rows before: {before_rows_c}')\n",
    "print(f'Customer rows after: {customers.shape[0]}')\n",
    "print(f'{\"-\"*20}')\n",
    "print(f'Azdias rows before: {before_rows_a}')\n",
    "print(f'Azdias rows after: {azdias.shape[0]}')\n",
    "print(f'{\"-\"*20}')"
   ]
  },
  {
   "cell_type": "code",
   "execution_count": 73,
   "metadata": {},
   "outputs": [
    {
     "name": "stdout",
     "output_type": "stream",
     "text": [
      "azdias shape is 891221 rows,360 columns\n",
      "customers shape is 191652 rows,363 columns\n",
      "--------------------\n",
      "CPU times: user 3.02 s, sys: 7.6 s, total: 10.6 s\n",
      "Wall time: 5min 39s\n"
     ]
    }
   ],
   "source": [
    "%%time\n",
    "azdias = remove_nans(azdias, azdias_perc_nan, 30)\n",
    "customers = remove_nans(customers, customers_perc_nan, 30)\n",
    "\n",
    "print(f'azdias shape is {azdias.shape[0]} rows,{azdias.shape[1]} columns')\n",
    "print(f'customers shape is {customers.shape[0]} rows,{customers.shape[1]} columns')\n",
    "print(f'{\"-\"*20}')"
   ]
  },
  {
   "cell_type": "code",
   "execution_count": 191,
   "metadata": {},
   "outputs": [],
   "source": [
    "customers.to_csv(\"customers_dropped_nans.csv\", index=False)"
   ]
  },
  {
   "cell_type": "code",
   "execution_count": 192,
   "metadata": {},
   "outputs": [],
   "source": [
    "azdias.to_csv(\"azdias_dropped_nans.csv\", index=False)"
   ]
  },
  {
   "cell_type": "code",
   "execution_count": 203,
   "metadata": {},
   "outputs": [],
   "source": [
    "a = customers.columns.tolist()\n",
    "b = attr_values.Attribute.value_counts().index.tolist()"
   ]
  },
  {
   "cell_type": "code",
   "execution_count": 206,
   "metadata": {},
   "outputs": [
    {
     "data": {
      "text/html": [
       "<div>\n",
       "<style scoped>\n",
       "    .dataframe tbody tr th:only-of-type {\n",
       "        vertical-align: middle;\n",
       "    }\n",
       "\n",
       "    .dataframe tbody tr th {\n",
       "        vertical-align: top;\n",
       "    }\n",
       "\n",
       "    .dataframe thead th {\n",
       "        text-align: right;\n",
       "    }\n",
       "</style>\n",
       "<table border=\"1\" class=\"dataframe\">\n",
       "  <thead>\n",
       "    <tr style=\"text-align: right;\">\n",
       "      <th></th>\n",
       "      <th>LNR</th>\n",
       "      <th>AGER_TYP</th>\n",
       "      <th>AKT_DAT_KL</th>\n",
       "      <th>ALTER_HH</th>\n",
       "      <th>ALTERSKATEGORIE_FEIN</th>\n",
       "      <th>ANZ_HAUSHALTE_AKTIV</th>\n",
       "      <th>ANZ_HH_TITEL</th>\n",
       "      <th>ANZ_KINDER</th>\n",
       "      <th>ANZ_PERSONEN</th>\n",
       "      <th>ANZ_STATISTISCHE_HAUSHALTE</th>\n",
       "      <th>...</th>\n",
       "      <th>VK_ZG11</th>\n",
       "      <th>W_KEIT_KIND_HH</th>\n",
       "      <th>WOHNDAUER_2008</th>\n",
       "      <th>WOHNLAGE</th>\n",
       "      <th>ZABEOTYP</th>\n",
       "      <th>PRODUCT_GROUP</th>\n",
       "      <th>CUSTOMER_GROUP</th>\n",
       "      <th>ONLINE_PURCHASE</th>\n",
       "      <th>ANREDE_KZ</th>\n",
       "      <th>ALTERSKATEGORIE_GROB</th>\n",
       "    </tr>\n",
       "  </thead>\n",
       "  <tbody>\n",
       "    <tr>\n",
       "      <th>0</th>\n",
       "      <td>9626</td>\n",
       "      <td>2.0</td>\n",
       "      <td>1.0</td>\n",
       "      <td>10.0</td>\n",
       "      <td>10.0</td>\n",
       "      <td>1.0</td>\n",
       "      <td>0.0</td>\n",
       "      <td>0.0</td>\n",
       "      <td>2.0</td>\n",
       "      <td>1.0</td>\n",
       "      <td>...</td>\n",
       "      <td>2.0</td>\n",
       "      <td>6.0</td>\n",
       "      <td>9.0</td>\n",
       "      <td>7.0</td>\n",
       "      <td>3</td>\n",
       "      <td>COSMETIC_AND_FOOD</td>\n",
       "      <td>MULTI_BUYER</td>\n",
       "      <td>0</td>\n",
       "      <td>1</td>\n",
       "      <td>4</td>\n",
       "    </tr>\n",
       "    <tr>\n",
       "      <th>1</th>\n",
       "      <td>143872</td>\n",
       "      <td>NaN</td>\n",
       "      <td>1.0</td>\n",
       "      <td>6.0</td>\n",
       "      <td>0.0</td>\n",
       "      <td>1.0</td>\n",
       "      <td>0.0</td>\n",
       "      <td>0.0</td>\n",
       "      <td>1.0</td>\n",
       "      <td>1.0</td>\n",
       "      <td>...</td>\n",
       "      <td>11.0</td>\n",
       "      <td>6.0</td>\n",
       "      <td>9.0</td>\n",
       "      <td>2.0</td>\n",
       "      <td>3</td>\n",
       "      <td>COSMETIC_AND_FOOD</td>\n",
       "      <td>MULTI_BUYER</td>\n",
       "      <td>0</td>\n",
       "      <td>2</td>\n",
       "      <td>4</td>\n",
       "    </tr>\n",
       "    <tr>\n",
       "      <th>2</th>\n",
       "      <td>143873</td>\n",
       "      <td>1.0</td>\n",
       "      <td>1.0</td>\n",
       "      <td>8.0</td>\n",
       "      <td>8.0</td>\n",
       "      <td>0.0</td>\n",
       "      <td>NaN</td>\n",
       "      <td>0.0</td>\n",
       "      <td>0.0</td>\n",
       "      <td>1.0</td>\n",
       "      <td>...</td>\n",
       "      <td>2.0</td>\n",
       "      <td>NaN</td>\n",
       "      <td>9.0</td>\n",
       "      <td>7.0</td>\n",
       "      <td>1</td>\n",
       "      <td>COSMETIC</td>\n",
       "      <td>MULTI_BUYER</td>\n",
       "      <td>0</td>\n",
       "      <td>1</td>\n",
       "      <td>4</td>\n",
       "    </tr>\n",
       "    <tr>\n",
       "      <th>3</th>\n",
       "      <td>143874</td>\n",
       "      <td>NaN</td>\n",
       "      <td>1.0</td>\n",
       "      <td>20.0</td>\n",
       "      <td>14.0</td>\n",
       "      <td>7.0</td>\n",
       "      <td>0.0</td>\n",
       "      <td>0.0</td>\n",
       "      <td>4.0</td>\n",
       "      <td>7.0</td>\n",
       "      <td>...</td>\n",
       "      <td>4.0</td>\n",
       "      <td>2.0</td>\n",
       "      <td>9.0</td>\n",
       "      <td>3.0</td>\n",
       "      <td>1</td>\n",
       "      <td>FOOD</td>\n",
       "      <td>MULTI_BUYER</td>\n",
       "      <td>0</td>\n",
       "      <td>1</td>\n",
       "      <td>3</td>\n",
       "    </tr>\n",
       "    <tr>\n",
       "      <th>4</th>\n",
       "      <td>143888</td>\n",
       "      <td>1.0</td>\n",
       "      <td>1.0</td>\n",
       "      <td>11.0</td>\n",
       "      <td>10.0</td>\n",
       "      <td>1.0</td>\n",
       "      <td>0.0</td>\n",
       "      <td>0.0</td>\n",
       "      <td>2.0</td>\n",
       "      <td>1.0</td>\n",
       "      <td>...</td>\n",
       "      <td>1.0</td>\n",
       "      <td>6.0</td>\n",
       "      <td>9.0</td>\n",
       "      <td>1.0</td>\n",
       "      <td>2</td>\n",
       "      <td>COSMETIC_AND_FOOD</td>\n",
       "      <td>MULTI_BUYER</td>\n",
       "      <td>0</td>\n",
       "      <td>1</td>\n",
       "      <td>3</td>\n",
       "    </tr>\n",
       "  </tbody>\n",
       "</table>\n",
       "<p>5 rows × 363 columns</p>\n",
       "</div>"
      ],
      "text/plain": [
       "      LNR  AGER_TYP  AKT_DAT_KL  ALTER_HH  ALTERSKATEGORIE_FEIN  \\\n",
       "0    9626       2.0         1.0      10.0                  10.0   \n",
       "1  143872       NaN         1.0       6.0                   0.0   \n",
       "2  143873       1.0         1.0       8.0                   8.0   \n",
       "3  143874       NaN         1.0      20.0                  14.0   \n",
       "4  143888       1.0         1.0      11.0                  10.0   \n",
       "\n",
       "   ANZ_HAUSHALTE_AKTIV  ANZ_HH_TITEL  ANZ_KINDER  ANZ_PERSONEN  \\\n",
       "0                  1.0           0.0         0.0           2.0   \n",
       "1                  1.0           0.0         0.0           1.0   \n",
       "2                  0.0           NaN         0.0           0.0   \n",
       "3                  7.0           0.0         0.0           4.0   \n",
       "4                  1.0           0.0         0.0           2.0   \n",
       "\n",
       "   ANZ_STATISTISCHE_HAUSHALTE          ...           VK_ZG11  W_KEIT_KIND_HH  \\\n",
       "0                         1.0          ...               2.0             6.0   \n",
       "1                         1.0          ...              11.0             6.0   \n",
       "2                         1.0          ...               2.0             NaN   \n",
       "3                         7.0          ...               4.0             2.0   \n",
       "4                         1.0          ...               1.0             6.0   \n",
       "\n",
       "   WOHNDAUER_2008 WOHNLAGE ZABEOTYP      PRODUCT_GROUP  CUSTOMER_GROUP  \\\n",
       "0             9.0      7.0        3  COSMETIC_AND_FOOD     MULTI_BUYER   \n",
       "1             9.0      2.0        3  COSMETIC_AND_FOOD     MULTI_BUYER   \n",
       "2             9.0      7.0        1           COSMETIC     MULTI_BUYER   \n",
       "3             9.0      3.0        1               FOOD     MULTI_BUYER   \n",
       "4             9.0      1.0        2  COSMETIC_AND_FOOD     MULTI_BUYER   \n",
       "\n",
       "   ONLINE_PURCHASE  ANREDE_KZ  ALTERSKATEGORIE_GROB  \n",
       "0                0          1                     4  \n",
       "1                0          2                     4  \n",
       "2                0          1                     4  \n",
       "3                0          1                     3  \n",
       "4                0          1                     3  \n",
       "\n",
       "[5 rows x 363 columns]"
      ]
     },
     "execution_count": 206,
     "metadata": {},
     "output_type": "execute_result"
    }
   ],
   "source": [
    "customers.head()"
   ]
  },
  {
   "cell_type": "code",
   "execution_count": 211,
   "metadata": {},
   "outputs": [],
   "source": [
    "unexplained_features = []\n",
    "for i in a:\n",
    "    if i not in b:\n",
    "        unexplained_features.append(i)"
   ]
  },
  {
   "cell_type": "code",
   "execution_count": 228,
   "metadata": {},
   "outputs": [
    {
     "data": {
      "text/html": [
       "<div>\n",
       "<style scoped>\n",
       "    .dataframe tbody tr th:only-of-type {\n",
       "        vertical-align: middle;\n",
       "    }\n",
       "\n",
       "    .dataframe tbody tr th {\n",
       "        vertical-align: top;\n",
       "    }\n",
       "\n",
       "    .dataframe thead th {\n",
       "        text-align: right;\n",
       "    }\n",
       "</style>\n",
       "<table border=\"1\" class=\"dataframe\">\n",
       "  <thead>\n",
       "    <tr style=\"text-align: right;\">\n",
       "      <th></th>\n",
       "      <th>FEATURE</th>\n",
       "      <th>VALUES</th>\n",
       "      <th>NUM_VALUES</th>\n",
       "    </tr>\n",
       "  </thead>\n",
       "  <tbody>\n",
       "    <tr>\n",
       "      <th>0</th>\n",
       "      <td>LNR</td>\n",
       "      <td>[2047, 20470, 22517, 24564, 26611, 28658, 3070...</td>\n",
       "      <td>141722</td>\n",
       "    </tr>\n",
       "    <tr>\n",
       "      <th>57</th>\n",
       "      <td>EINGEFUEGT_AM</td>\n",
       "      <td>[2010-06-28 00:00:00, 2004-12-02 00:00:00, 200...</td>\n",
       "      <td>3034</td>\n",
       "    </tr>\n",
       "    <tr>\n",
       "      <th>4</th>\n",
       "      <td>ANZ_STATISTISCHE_HAUSHALTE</td>\n",
       "      <td>[186.0, 144.0, 116.0, 130.0, 201.0, 274.0, 168...</td>\n",
       "      <td>214</td>\n",
       "    </tr>\n",
       "    <tr>\n",
       "      <th>82</th>\n",
       "      <td>VERDICHTUNGSRAUM</td>\n",
       "      <td>[40.0, 37.0, 41.0, 26.0, 43.0, 30.0, 39.0, 22....</td>\n",
       "      <td>46</td>\n",
       "    </tr>\n",
       "    <tr>\n",
       "      <th>6</th>\n",
       "      <td>CAMEO_INTL_2015</td>\n",
       "      <td>[XX, 52.0, 33.0, 32.0, 35.0, 31.0, 44.0, 52, 5...</td>\n",
       "      <td>43</td>\n",
       "    </tr>\n",
       "    <tr>\n",
       "      <th>34</th>\n",
       "      <td>D19_LETZTER_KAUF_BRANCHE</td>\n",
       "      <td>[D19_KOSMETIK, D19_LOTTO, D19_BANKEN_LOKAL, D1...</td>\n",
       "      <td>35</td>\n",
       "    </tr>\n",
       "    <tr>\n",
       "      <th>58</th>\n",
       "      <td>EINGEZOGENAM_HH_JAHR</td>\n",
       "      <td>[1986.0, 1987.0, 2017.0, 1988.0, 2018.0, 1989....</td>\n",
       "      <td>33</td>\n",
       "    </tr>\n",
       "    <tr>\n",
       "      <th>2</th>\n",
       "      <td>ALTERSKATEGORIE_FEIN</td>\n",
       "      <td>[3.0, 2.0, 23.0, 4.0, 22.0, 25.0, 24.0, 21.0, ...</td>\n",
       "      <td>25</td>\n",
       "    </tr>\n",
       "    <tr>\n",
       "      <th>86</th>\n",
       "      <td>VK_DISTANZ</td>\n",
       "      <td>[13.0, 12.0, 11.0, 10.0, 9.0, 5.0, 8.0, 7.0, 2...</td>\n",
       "      <td>13</td>\n",
       "    </tr>\n",
       "    <tr>\n",
       "      <th>85</th>\n",
       "      <td>VK_DHT4A</td>\n",
       "      <td>[11.0, 8.0, 9.0, 10.0, 5.0, 6.0, 4.0, 7.0, 3.0...</td>\n",
       "      <td>11</td>\n",
       "    </tr>\n",
       "    <tr>\n",
       "      <th>87</th>\n",
       "      <td>VK_ZG11</td>\n",
       "      <td>[10.0, 11.0, 9.0, 8.0, 7.0, 6.0, 5.0, 4.0, 3.0...</td>\n",
       "      <td>11</td>\n",
       "    </tr>\n",
       "  </tbody>\n",
       "</table>\n",
       "</div>"
      ],
      "text/plain": [
       "                       FEATURE  \\\n",
       "0                          LNR   \n",
       "57               EINGEFUEGT_AM   \n",
       "4   ANZ_STATISTISCHE_HAUSHALTE   \n",
       "82            VERDICHTUNGSRAUM   \n",
       "6              CAMEO_INTL_2015   \n",
       "34    D19_LETZTER_KAUF_BRANCHE   \n",
       "58        EINGEZOGENAM_HH_JAHR   \n",
       "2         ALTERSKATEGORIE_FEIN   \n",
       "86                  VK_DISTANZ   \n",
       "85                    VK_DHT4A   \n",
       "87                     VK_ZG11   \n",
       "\n",
       "                                               VALUES  NUM_VALUES  \n",
       "0   [2047, 20470, 22517, 24564, 26611, 28658, 3070...      141722  \n",
       "57  [2010-06-28 00:00:00, 2004-12-02 00:00:00, 200...        3034  \n",
       "4   [186.0, 144.0, 116.0, 130.0, 201.0, 274.0, 168...         214  \n",
       "82  [40.0, 37.0, 41.0, 26.0, 43.0, 30.0, 39.0, 22....          46  \n",
       "6   [XX, 52.0, 33.0, 32.0, 35.0, 31.0, 44.0, 52, 5...          43  \n",
       "34  [D19_KOSMETIK, D19_LOTTO, D19_BANKEN_LOKAL, D1...          35  \n",
       "58  [1986.0, 1987.0, 2017.0, 1988.0, 2018.0, 1989....          33  \n",
       "2   [3.0, 2.0, 23.0, 4.0, 22.0, 25.0, 24.0, 21.0, ...          25  \n",
       "86  [13.0, 12.0, 11.0, 10.0, 9.0, 5.0, 8.0, 7.0, 2...          13  \n",
       "85  [11.0, 8.0, 9.0, 10.0, 5.0, 6.0, 4.0, 7.0, 3.0...          11  \n",
       "87  [10.0, 11.0, 9.0, 8.0, 7.0, 6.0, 5.0, 4.0, 3.0...          11  "
      ]
     },
     "execution_count": 228,
     "metadata": {},
     "output_type": "execute_result"
    }
   ],
   "source": [
    "values = []\n",
    "for i in unexplained_features:\n",
    "    values.append(customers[i].value_counts().sort_values().index.tolist())\n",
    "\n",
    "df = pd.DataFrame({\"FEATURE\": unexplained_features, \n",
    "                   \"VALUES\": values,\n",
    "                  \"NUM_VALUES\": [len(x) for x in values]})\n",
    "df[df.NUM_VALUES > 10].sort_values(by='NUM_VALUES', ascending=False)"
   ]
  },
  {
   "cell_type": "markdown",
   "metadata": {},
   "source": [
    "Looking at features with more than 10 unique values it's clear we need to drop LNR as there is no reference to what this is and whether it's categorical or not. Therefore we'll remove it.\n",
    "\n",
    "D19_LETZTER_KAUF_BRANCHE refers to last category of spending. It could be possible to shorten the categorical features futher but as of now I'll remove them."
   ]
  },
  {
   "cell_type": "code",
   "execution_count": 240,
   "metadata": {},
   "outputs": [],
   "source": [
    "customers.drop(['LNR','D19_LETZTER_KAUF_BRANCHE'], axis=1, inplace=True)\n",
    "azdias.drop(['LNR','D19_LETZTER_KAUF_BRANCHE'], axis=1, inplace=True)"
   ]
  },
  {
   "cell_type": "code",
   "execution_count": 249,
   "metadata": {},
   "outputs": [
    {
     "data": {
      "text/plain": [
       "Attribute\n",
       "CAMEO_DEU_2015                 44\n",
       "LP_LEBENSPHASE_FEIN            40\n",
       "CAMEO_DEUINTL_2015             26\n",
       "ALTER_HH                       22\n",
       "PRAEGENDE_JUGENDJAHRE          16\n",
       "LP_LEBENSPHASE_GROB            12\n",
       "GFK_URLAUBERTYP                12\n",
       "LP_FAMILIE_GROB                11\n",
       "LP_FAMILIE_FEIN                11\n",
       "D19_VERSAND_ONLINE_QUOTE_12    11\n",
       "D19_GESAMT_ONLINE_QUOTE_12     11\n",
       "D19_BANKEN_ONLINE_QUOTE_12     11\n",
       "Name: Meaning, dtype: int64"
      ]
     },
     "execution_count": 249,
     "metadata": {},
     "output_type": "execute_result"
    }
   ],
   "source": [
    "attr_value_count = attr_values.fillna(method='ffill').groupby('Attribute')['Meaning'].count()\n",
    "top_attr_values = attr_value_count[attr_value_count > 10].sort_values(ascending=False)\n",
    "top_attr_values"
   ]
  },
  {
   "cell_type": "code",
   "execution_count": 255,
   "metadata": {},
   "outputs": [
    {
     "data": {
      "text/html": [
       "<div>\n",
       "<style scoped>\n",
       "    .dataframe tbody tr th:only-of-type {\n",
       "        vertical-align: middle;\n",
       "    }\n",
       "\n",
       "    .dataframe tbody tr th {\n",
       "        vertical-align: top;\n",
       "    }\n",
       "\n",
       "    .dataframe thead th {\n",
       "        text-align: right;\n",
       "    }\n",
       "</style>\n",
       "<table border=\"1\" class=\"dataframe\">\n",
       "  <thead>\n",
       "    <tr style=\"text-align: right;\">\n",
       "      <th></th>\n",
       "      <th>FEATURE</th>\n",
       "      <th>VALUES</th>\n",
       "      <th>NUM_VALUES</th>\n",
       "    </tr>\n",
       "  </thead>\n",
       "  <tbody>\n",
       "    <tr>\n",
       "      <th>185</th>\n",
       "      <td>KBA13_ANZAHL_PKW</td>\n",
       "      <td>[77.0, 15.0, 13.0, 11.0, 31.0, 34.0, 8.0, 48.0...</td>\n",
       "      <td>1250</td>\n",
       "    </tr>\n",
       "    <tr>\n",
       "      <th>4</th>\n",
       "      <td>ANZ_HAUSHALTE_AKTIV</td>\n",
       "      <td>[186.0, 148.0, 367.0, 179.0, 172.0, 126.0, 276...</td>\n",
       "      <td>216</td>\n",
       "    </tr>\n",
       "    <tr>\n",
       "      <th>104</th>\n",
       "      <td>GEBURTSJAHR</td>\n",
       "      <td>[1902, 1908, 1909, 2010, 2009, 2006, 1900, 201...</td>\n",
       "      <td>113</td>\n",
       "    </tr>\n",
       "    <tr>\n",
       "      <th>12</th>\n",
       "      <td>CAMEO_DEU_2015</td>\n",
       "      <td>[XX, 6A, 7D, 5E, 9B, 9C, 9A, 7E, 5F, 1B, 6F, 7...</td>\n",
       "      <td>45</td>\n",
       "    </tr>\n",
       "    <tr>\n",
       "      <th>299</th>\n",
       "      <td>LP_LEBENSPHASE_FEIN</td>\n",
       "      <td>[21.0, 22.0, 3.0, 4.0, 29.0, 24.0, 14.0, 1.0, ...</td>\n",
       "      <td>41</td>\n",
       "    </tr>\n",
       "    <tr>\n",
       "      <th>303</th>\n",
       "      <td>MIN_GEBAEUDEJAHR</td>\n",
       "      <td>[2016.0, 1985.0, 1986.0, 2015.0, 1987.0, 2014....</td>\n",
       "      <td>32</td>\n",
       "    </tr>\n",
       "    <tr>\n",
       "      <th>2</th>\n",
       "      <td>ALTER_HH</td>\n",
       "      <td>[2.0, 3.0, 4.0, 5.0, 6.0, 7.0, 13.0, 19.0, 14....</td>\n",
       "      <td>20</td>\n",
       "    </tr>\n",
       "    <tr>\n",
       "      <th>5</th>\n",
       "      <td>ANZ_HH_TITEL</td>\n",
       "      <td>[12.0, 15.0, 18.0, 23.0, 10.0, 20.0, 11.0, 14....</td>\n",
       "      <td>20</td>\n",
       "    </tr>\n",
       "    <tr>\n",
       "      <th>13</th>\n",
       "      <td>CAMEO_DEUG_2015</td>\n",
       "      <td>[X, 9.0, 7.0, 5.0, 8.0, 1.0, 6.0, 9, 3.0, 4.0,...</td>\n",
       "      <td>19</td>\n",
       "    </tr>\n",
       "    <tr>\n",
       "      <th>7</th>\n",
       "      <td>ANZ_PERSONEN</td>\n",
       "      <td>[15.0, 16.0, 21.0, 13.0, 14.0, 12.0, 11.0, 10....</td>\n",
       "      <td>18</td>\n",
       "    </tr>\n",
       "    <tr>\n",
       "      <th>317</th>\n",
       "      <td>PRAEGENDE_JUGENDJAHRE</td>\n",
       "      <td>[13.0, 12.0, 7.0, 15.0, 14.0, 10.0, 11.0, 1.0,...</td>\n",
       "      <td>15</td>\n",
       "    </tr>\n",
       "    <tr>\n",
       "      <th>300</th>\n",
       "      <td>LP_LEBENSPHASE_GROB</td>\n",
       "      <td>[7.0, 9.0, 6.0, 1.0, 11.0, 0.0, 8.0, 4.0, 10.0...</td>\n",
       "      <td>13</td>\n",
       "    </tr>\n",
       "    <tr>\n",
       "      <th>106</th>\n",
       "      <td>GFK_URLAUBERTYP</td>\n",
       "      <td>[2.0, 9.0, 6.0, 12.0, 11.0, 1.0, 7.0, 3.0, 4.0...</td>\n",
       "      <td>12</td>\n",
       "    </tr>\n",
       "    <tr>\n",
       "      <th>297</th>\n",
       "      <td>LP_FAMILIE_FEIN</td>\n",
       "      <td>[3.0, 4.0, 6.0, 5.0, 9.0, 7.0, 8.0, 0.0, 11.0,...</td>\n",
       "      <td>12</td>\n",
       "    </tr>\n",
       "    <tr>\n",
       "      <th>48</th>\n",
       "      <td>D19_GESAMT_ONLINE_QUOTE_12</td>\n",
       "      <td>[4.0, 1.0, 6.0, 2.0, 9.0, 3.0, 7.0, 8.0, 5.0, ...</td>\n",
       "      <td>11</td>\n",
       "    </tr>\n",
       "    <tr>\n",
       "      <th>79</th>\n",
       "      <td>D19_VERSAND_ONLINE_QUOTE_12</td>\n",
       "      <td>[1.0, 4.0, 2.0, 6.0, 9.0, 3.0, 7.0, 8.0, 5.0, ...</td>\n",
       "      <td>11</td>\n",
       "    </tr>\n",
       "  </tbody>\n",
       "</table>\n",
       "</div>"
      ],
      "text/plain": [
       "                         FEATURE  \\\n",
       "185             KBA13_ANZAHL_PKW   \n",
       "4            ANZ_HAUSHALTE_AKTIV   \n",
       "104                  GEBURTSJAHR   \n",
       "12                CAMEO_DEU_2015   \n",
       "299          LP_LEBENSPHASE_FEIN   \n",
       "303             MIN_GEBAEUDEJAHR   \n",
       "2                       ALTER_HH   \n",
       "5                   ANZ_HH_TITEL   \n",
       "13               CAMEO_DEUG_2015   \n",
       "7                   ANZ_PERSONEN   \n",
       "317        PRAEGENDE_JUGENDJAHRE   \n",
       "300          LP_LEBENSPHASE_GROB   \n",
       "106              GFK_URLAUBERTYP   \n",
       "297              LP_FAMILIE_FEIN   \n",
       "48    D19_GESAMT_ONLINE_QUOTE_12   \n",
       "79   D19_VERSAND_ONLINE_QUOTE_12   \n",
       "\n",
       "                                                VALUES  NUM_VALUES  \n",
       "185  [77.0, 15.0, 13.0, 11.0, 31.0, 34.0, 8.0, 48.0...        1250  \n",
       "4    [186.0, 148.0, 367.0, 179.0, 172.0, 126.0, 276...         216  \n",
       "104  [1902, 1908, 1909, 2010, 2009, 2006, 1900, 201...         113  \n",
       "12   [XX, 6A, 7D, 5E, 9B, 9C, 9A, 7E, 5F, 1B, 6F, 7...          45  \n",
       "299  [21.0, 22.0, 3.0, 4.0, 29.0, 24.0, 14.0, 1.0, ...          41  \n",
       "303  [2016.0, 1985.0, 1986.0, 2015.0, 1987.0, 2014....          32  \n",
       "2    [2.0, 3.0, 4.0, 5.0, 6.0, 7.0, 13.0, 19.0, 14....          20  \n",
       "5    [12.0, 15.0, 18.0, 23.0, 10.0, 20.0, 11.0, 14....          20  \n",
       "13   [X, 9.0, 7.0, 5.0, 8.0, 1.0, 6.0, 9, 3.0, 4.0,...          19  \n",
       "7    [15.0, 16.0, 21.0, 13.0, 14.0, 12.0, 11.0, 10....          18  \n",
       "317  [13.0, 12.0, 7.0, 15.0, 14.0, 10.0, 11.0, 1.0,...          15  \n",
       "300  [7.0, 9.0, 6.0, 1.0, 11.0, 0.0, 8.0, 4.0, 10.0...          13  \n",
       "106  [2.0, 9.0, 6.0, 12.0, 11.0, 1.0, 7.0, 3.0, 4.0...          12  \n",
       "297  [3.0, 4.0, 6.0, 5.0, 9.0, 7.0, 8.0, 0.0, 11.0,...          12  \n",
       "48   [4.0, 1.0, 6.0, 2.0, 9.0, 3.0, 7.0, 8.0, 5.0, ...          11  \n",
       "79   [1.0, 4.0, 2.0, 6.0, 9.0, 3.0, 7.0, 8.0, 5.0, ...          11  "
      ]
     },
     "execution_count": 255,
     "metadata": {},
     "output_type": "execute_result"
    }
   ],
   "source": [
    "values = []\n",
    "for i in customers.columns:\n",
    "    values.append(customers[i].value_counts().sort_values().index.tolist())\n",
    "\n",
    "df = pd.DataFrame({\"FEATURE\": customers.columns, \n",
    "                   \"VALUES\": values,\n",
    "                  \"NUM_VALUES\": [len(x) for x in values]})\n",
    "df[(df.NUM_VALUES > 10) & ~(df.FEATURE.isin(unexplained_features))].sort_values(by='NUM_VALUES', ascending=False)"
   ]
  },
  {
   "cell_type": "code",
   "execution_count": 264,
   "metadata": {},
   "outputs": [],
   "source": [
    "# ANZ_HH_TITEL - how many people hold an academic title in the household\n",
    "customers['ANZ_HH_TITEL'] = np.where(customers['ANZ_HH_TITEL']>=3,3.0,customers['ANZ_HH_TITEL'])"
   ]
  },
  {
   "cell_type": "code",
   "execution_count": 265,
   "metadata": {},
   "outputs": [
    {
     "data": {
      "text/plain": [
       "0.0    133451\n",
       "1.0      5186\n",
       "2.0       459\n",
       "3.0       443\n",
       "Name: ANZ_HH_TITEL, dtype: int64"
      ]
     },
     "execution_count": 265,
     "metadata": {},
     "output_type": "execute_result"
    }
   ],
   "source": [
    "customers.ANZ_HH_TITEL.value_counts().sort_index()"
   ]
  },
  {
   "cell_type": "markdown",
   "metadata": {},
   "source": [
    "## Part 1: Customer Segmentation Report\n",
    "\n",
    "The main bulk of your analysis will come in this part of the project. Here, you should use unsupervised learning techniques to describe the relationship between the demographics of the company's existing customers and the general population of Germany. By the end of this part, you should be able to describe parts of the general population that are more likely to be part of the mail-order company's main customer base, and which parts of the general population are less so."
   ]
  },
  {
   "cell_type": "code",
   "execution_count": null,
   "metadata": {},
   "outputs": [],
   "source": []
  },
  {
   "cell_type": "code",
   "execution_count": 59,
   "metadata": {},
   "outputs": [
    {
     "data": {
      "text/plain": [
       "(191652, 362)"
      ]
     },
     "execution_count": 59,
     "metadata": {},
     "output_type": "execute_result"
    }
   ],
   "source": []
  },
  {
   "cell_type": "markdown",
   "metadata": {},
   "source": [
    "## Part 2: Supervised Learning Model\n",
    "\n",
    "Now that you've found which parts of the population are more likely to be customers of the mail-order company, it's time to build a prediction model. Each of the rows in the \"MAILOUT\" data files represents an individual that was targeted for a mailout campaign. Ideally, we should be able to use the demographic information from each individual to decide whether or not it will be worth it to include that person in the campaign.\n",
    "\n",
    "The \"MAILOUT\" data has been split into two approximately equal parts, each with almost 43 000 data rows. In this part, you can verify your model with the \"TRAIN\" partition, which includes a column, \"RESPONSE\", that states whether or not a person became a customer of the company following the campaign. In the next part, you'll need to create predictions on the \"TEST\" partition, where the \"RESPONSE\" column has been withheld."
   ]
  },
  {
   "cell_type": "code",
   "execution_count": null,
   "metadata": {},
   "outputs": [],
   "source": [
    "mailout_train = pd.read_csv('../../data/Term2/capstone/arvato_data/Udacity_MAILOUT_052018_TRAIN.csv', sep=';')"
   ]
  },
  {
   "cell_type": "code",
   "execution_count": null,
   "metadata": {},
   "outputs": [],
   "source": []
  },
  {
   "cell_type": "markdown",
   "metadata": {},
   "source": [
    "## Part 3: Kaggle Competition\n",
    "\n",
    "Now that you've created a model to predict which individuals are most likely to respond to a mailout campaign, it's time to test that model in competition through Kaggle. If you click on the link [here](http://www.kaggle.com/t/21e6d45d4c574c7fa2d868f0e8c83140), you'll be taken to the competition page where, if you have a Kaggle account, you can enter. If you're one of the top performers, you may have the chance to be contacted by a hiring manager from Arvato or Bertelsmann for an interview!\n",
    "\n",
    "Your entry to the competition should be a CSV file with two columns. The first column should be a copy of \"LNR\", which acts as an ID number for each individual in the \"TEST\" partition. The second column, \"RESPONSE\", should be some measure of how likely each individual became a customer – this might not be a straightforward probability. As you should have found in Part 2, there is a large output class imbalance, where most individuals did not respond to the mailout. Thus, predicting individual classes and using accuracy does not seem to be an appropriate performance evaluation method. Instead, the competition will be using AUC to evaluate performance. The exact values of the \"RESPONSE\" column do not matter as much: only that the higher values try to capture as many of the actual customers as possible, early in the ROC curve sweep."
   ]
  },
  {
   "cell_type": "code",
   "execution_count": null,
   "metadata": {},
   "outputs": [],
   "source": [
    "mailout_test = pd.read_csv('../../data/Term2/capstone/arvato_data/Udacity_MAILOUT_052018_TEST.csv', sep=';')"
   ]
  },
  {
   "cell_type": "code",
   "execution_count": null,
   "metadata": {},
   "outputs": [],
   "source": []
  }
 ],
 "metadata": {
  "kernelspec": {
   "display_name": "Python 3",
   "language": "python",
   "name": "python3"
  },
  "language_info": {
   "codemirror_mode": {
    "name": "ipython",
    "version": 3
   },
   "file_extension": ".py",
   "mimetype": "text/x-python",
   "name": "python",
   "nbconvert_exporter": "python",
   "pygments_lexer": "ipython3",
   "version": "3.6.3"
  }
 },
 "nbformat": 4,
 "nbformat_minor": 2
}
